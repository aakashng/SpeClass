{
 "cells": [
  {
   "cell_type": "code",
   "execution_count": 1,
   "metadata": {
    "collapsed": true
   },
   "outputs": [],
   "source": [
    "from __future__ import division\n",
    "import numpy as np\n",
    "from sklearn.datasets import make_classification\n",
    "from sklearn.cross_validation import train_test_split\n",
    "from sklearn.metrics import confusion_matrix\n",
    "from sklearn.ensemble import RandomForestClassifier\n",
    "from sklearn.tree import DecisionTreeClassifier\n",
    "import matplotlib.pyplot as plt\n",
    "%matplotlib inline\n",
    "import graphlab"
   ]
  },
  {
   "cell_type": "code",
   "execution_count": 2,
   "metadata": {
    "collapsed": true
   },
   "outputs": [],
   "source": [
    "#balanced accuracy\n",
    "def Balanced_acc(ypred,ytest):\n",
    "    acc_c = 0\n",
    "    acc_class = np.zeros(5) #the accuracy per class\n",
    "    for c in np.unique(ytest):\n",
    "        i = ytest == c\n",
    "        correct = ypred[i] == ytest[i]\n",
    "        acc_c += sum(correct)/len(correct)\n",
    "        acc_class[c] = sum(correct)/len(correct)\n",
    "\n",
    "    Bacc = acc_c/len(np.unique(ytest))\n",
    "    return Bacc,acc_class\n",
    "\n",
    "def plot_confusion_matrix(cm, title='Confusion matrix', cmap=plt.cm.Blues):\n",
    "    plt.imshow(cm, interpolation='nearest', cmap=cmap)\n",
    "    plt.title(title)\n",
    "    plt.colorbar()\n",
    "    tick_marks = np.arange(5)\n",
    "    plt.xticks(tick_marks, ['Sit','StairsUp','StairsDw','Stand','Walk'], rotation=45)\n",
    "    plt.yticks(tick_marks, ['Sit','StairsUp','StairsDw','Stand','Walk'])\n",
    "    plt.tight_layout()\n",
    "    plt.ylabel('True label')\n",
    "    plt.xlabel('Predicted label')\n",
    "    \n",
    "def prec_rec(cmat):\n",
    "    tpfp = cmat.sum(axis=1)\n",
    "    tpfn = cmat.sum(axis=0)\n",
    "    prec = cmat.diagonal()/tpfp\n",
    "    recall = cmat.diagonal()/tpfn\n",
    "    return prec,recall"
   ]
  },
  {
   "cell_type": "markdown",
   "metadata": {},
   "source": [
    "### Load Data"
   ]
  },
  {
   "cell_type": "code",
   "execution_count": 370,
   "metadata": {
    "collapsed": false
   },
   "outputs": [],
   "source": [
    "HealthyData = graphlab.SFrame.read_csv('../../Datasets/Cbrace/HealthyData.csv',verbose=False)\n",
    "CBRData = graphlab.SFrame.read_csv('../../Datasets/Cbrace/PatientCBRData.csv',verbose=False)\n",
    "SCOData = graphlab.SFrame.read_csv('../../Datasets/Cbrace/PatientSCOData.csv',verbose=False)"
   ]
  },
  {
   "cell_type": "code",
   "execution_count": 262,
   "metadata": {
    "collapsed": false
   },
   "outputs": [
    {
     "name": "stdout",
     "output_type": "stream",
     "text": [
      "[51L, 52L, 53L, 54L, 55L, 56L, 57L, 58L, 59L, 60L, 61L]\n",
      "[1L, 2L, 5L, 6L, 8L, 11L, 12L, 13L, 14L, 15L, 16L, 19L]\n"
     ]
    }
   ],
   "source": [
    "HealthyCodes = HealthyData['SubjID'].unique()\n",
    "HealthyCodes = HealthyCodes.sort()\n",
    "print HealthyCodes\n",
    "PatientCodes = CBRData['SubjID'].unique()\n",
    "PatientCodes = PatientCodes.sort()\n",
    "print PatientCodes"
   ]
  },
  {
   "cell_type": "code",
   "execution_count": 263,
   "metadata": {
    "collapsed": true
   },
   "outputs": [],
   "source": [
    "PatientCodes = np.array([1, 2, 5, 6, 8, 11, 14, 15, 16, 19]) #all patients with 4 sessions in CBR"
   ]
  },
  {
   "cell_type": "markdown",
   "metadata": {},
   "source": [
    "### Optional: Remove stair climbing from patients who don't have stairs in all CBR sessions\n",
    "* Following patients don't have stairs in all 4 sessions (08,11,14,15,19)"
   ]
  },
  {
   "cell_type": "code",
   "execution_count": 264,
   "metadata": {
    "collapsed": true
   },
   "outputs": [],
   "source": [
    "Nostairs = [8,11,14,15,19]"
   ]
  },
  {
   "cell_type": "code",
   "execution_count": 265,
   "metadata": {
    "collapsed": false
   },
   "outputs": [
    {
     "name": "stdout",
     "output_type": "stream",
     "text": [
      "1 [0L, 1L, 2L, 3L, 4L]\n",
      "2 [0L, 1L, 2L, 3L, 4L]\n",
      "5 [0L, 1L, 2L, 3L, 4L]\n",
      "6 [0L, 1L, 2L, 3L, 4L]\n",
      "8 [0L, 3L, 4L]\n",
      "11 [0L, 3L, 4L]\n",
      "14 [0L, 3L, 4L]\n",
      "15 [0L, 3L, 4L]\n",
      "16 [0L, 1L, 2L, 3L, 4L]\n",
      "19 [0L, 3L, 4L]\n"
     ]
    }
   ],
   "source": [
    "CBRDatanew = CBRData.filter_by(Nostairs,'SubjID',exclude=True)\n",
    "for s in Nostairs:\n",
    "    data = CBRData[(CBRData['SubjID']==s)].filter_by([0,3,4],'Label')\n",
    "    CBRDatanew=CBRDatanew.append(data)\n",
    "\n",
    "for s in PatientCodes:\n",
    "    print s,CBRDatanew[CBRDatanew['SubjID']==s]['Label'].unique().sort()"
   ]
  },
  {
   "cell_type": "code",
   "execution_count": 269,
   "metadata": {
    "collapsed": false
   },
   "outputs": [
    {
     "name": "stdout",
     "output_type": "stream",
     "text": [
      "22354\n",
      "21974\n"
     ]
    }
   ],
   "source": [
    "print CBRData.num_rows()\n",
    "print CBRDatanew.num_rows()"
   ]
  },
  {
   "cell_type": "code",
   "execution_count": 34,
   "metadata": {
    "collapsed": false
   },
   "outputs": [],
   "source": [
    "CBRData = CBRDatanew"
   ]
  },
  {
   "cell_type": "markdown",
   "metadata": {},
   "source": [
    "### Check sessions in which patients have stairs for SCO data"
   ]
  },
  {
   "cell_type": "code",
   "execution_count": 372,
   "metadata": {
    "collapsed": false,
    "scrolled": true
   },
   "outputs": [
    {
     "name": "stdout",
     "output_type": "stream",
     "text": [
      "1 1 [0 1 2 3 4]\n",
      "1 2 [0 1 2 3 4]\n",
      "1 3 [0 1 2 3 4]\n",
      "1 4 [0 1 2 3 4]\n",
      "2 1 [0 1 2 3 4]\n",
      "2 2 [0 1 2 3 4]\n",
      "2 3 [0 3 4]\n",
      "2 4 [0 1 2 3 4]\n",
      "5 1 [0 3 4]\n",
      "5 2 [0 1 2 3 4]\n",
      "5 3 [0 1 2 3 4]\n",
      "6 1 [0 1 2 3 4]\n",
      "6 2 [0 1 2 3 4]\n",
      "6 3 [0 1 2 3 4]\n",
      "6 4 [0 1 2 3 4]\n",
      "8 1 [0 1 2 3 4]\n",
      "8 2 [0 3 4]\n",
      "8 3 [0 3 4]\n",
      "8 4 [0 3 4]\n",
      "11 1 [0 3 4]\n",
      "11 2 [0 3 4]\n",
      "11 3 [0 3 4]\n",
      "11 4 [0 1 2 3 4]\n",
      "14 1 [0 1 2 3 4]\n",
      "14 2 [0 1 2 3 4]\n",
      "14 3 [0 1 2 3 4]\n",
      "14 4 [0 1 2 3 4]\n",
      "15 1 [0 3 4]\n",
      "15 2 [0 3 4]\n",
      "15 3 [0 1 2 3 4]\n",
      "16 1 [0 1 2 3 4]\n",
      "16 2 [0 3 4]\n",
      "16 3 [0 1 2 3 4]\n",
      "16 4 [0 1 2 3 4]\n",
      "19 1 [0 3 4]\n",
      "19 2 [0 1 2 3 4]\n",
      "19 3 [0 3 4]\n"
     ]
    }
   ],
   "source": [
    "for s in PatientCodes:\n",
    "    data = SCOData[SCOData['SubjID']==s]\n",
    "    for sess in np.unique(data['Session']):\n",
    "        print s,sess,np.unique(data[data['Session']==sess]['Label'].unique().sort())\n"
   ]
  },
  {
   "cell_type": "markdown",
   "metadata": {},
   "source": [
    "### Use 3 sessions from SCO Data (to make it comparable with CBR Data)\n",
    "* CBR02 Remove Session 3 \n",
    "* CBR08 Remove Session 1\n",
    "* CBR11 Remove Session 1\n",
    "* CBR16 Remove Session 2\n",
    "* CBR19 Remove Stairs "
   ]
  },
  {
   "cell_type": "code",
   "execution_count": 335,
   "metadata": {
    "collapsed": false
   },
   "outputs": [
    {
     "name": "stdout",
     "output_type": "stream",
     "text": [
      "18762\n"
     ]
    }
   ],
   "source": [
    "print SCOData.num_rows()"
   ]
  },
  {
   "cell_type": "code",
   "execution_count": 336,
   "metadata": {
    "collapsed": true
   },
   "outputs": [],
   "source": [
    "tochange = [2,8,11,16]\n",
    "SCODatanew = SCOData.filter_by(tochange,'SubjID',exclude=True)"
   ]
  },
  {
   "cell_type": "code",
   "execution_count": 337,
   "metadata": {
    "collapsed": true
   },
   "outputs": [],
   "source": [
    "def updatesess(x):\n",
    "    if x > 2:\n",
    "        x = x-1\n",
    "        return x\n",
    "    else:\n",
    "        return x"
   ]
  },
  {
   "cell_type": "code",
   "execution_count": 338,
   "metadata": {
    "collapsed": false
   },
   "outputs": [],
   "source": [
    "data = SCOData[(SCOData['SubjID']==2) & (SCOData['Session']!=3)]\n",
    "data['Session'] = data['Session'].apply(updatesess) #rename sessions to 1,2,3\n",
    "SCODatanew=SCODatanew.append(data)\n",
    "\n",
    "data = SCOData[((SCOData['SubjID']==8) | (SCOData['SubjID']==11)) & (SCOData['Session']!=1)]\n",
    "data['Session'] = data['Session'].apply(lambda x: x-1) #rename sessions to 1,2,3\n",
    "SCODatanew=SCODatanew.append(data)\n",
    "\n",
    "data = SCOData[(SCOData['SubjID']==16) & (SCOData['Session']!=2)]\n",
    "data['Session'] = data['Session'].apply(updatesess) #rename sessions to 1,2,3\n",
    "SCODatanew=SCODatanew.append(data)\n",
    "\n",
    "#data = SCOData[SCOData['SubjID']==19].filter_by([1,2],'Label',exclude=True)\n",
    "#SCODatanew=SCODatanew.append(data)"
   ]
  },
  {
   "cell_type": "code",
   "execution_count": 339,
   "metadata": {
    "collapsed": false
   },
   "outputs": [
    {
     "name": "stdout",
     "output_type": "stream",
     "text": [
      "15877\n"
     ]
    }
   ],
   "source": [
    "SCODatanew = SCODatanew.filter_by(4,'Session',exclude=True)\n",
    "print SCODatanew.num_rows()"
   ]
  },
  {
   "cell_type": "code",
   "execution_count": 356,
   "metadata": {
    "collapsed": false
   },
   "outputs": [
    {
     "name": "stdout",
     "output_type": "stream",
     "text": [
      "1 1 [0 1 2 3 4]\n",
      "1 2 [0 1 2 3 4]\n",
      "1 3 [0 1 2 3 4]\n",
      "2 1 [0 1 2 3 4]\n",
      "2 2 [0 1 2 3 4]\n",
      "2 3 [0 1 2 3 4]\n",
      "5 1 [0 3 4]\n",
      "5 2 [0 1 2 3 4]\n",
      "5 3 [0 1 2 3 4]\n",
      "6 1 [0 1 2 3 4]\n",
      "6 2 [0 1 2 3 4]\n",
      "6 3 [0 1 2 3 4]\n",
      "8 1 [0 3 4]\n",
      "8 2 [0 3 4]\n",
      "8 3 [0 3 4]\n",
      "11 1 [0 3 4]\n",
      "11 2 [0 3 4]\n",
      "11 3 [0 1 2 3 4]\n",
      "14 1 [0 1 2 3 4]\n",
      "14 2 [0 1 2 3 4]\n",
      "14 3 [0 1 2 3 4]\n",
      "15 1 [0 3 4]\n",
      "15 2 [0 3 4]\n",
      "15 3 [0 1 2 3 4]\n",
      "16 1 [0 1 2 3 4]\n",
      "16 2 [0 1 2 3 4]\n",
      "16 3 [0 1 2 3 4]\n",
      "19 1 [0 3 4]\n",
      "19 2 [0 1 2 3 4]\n",
      "19 3 [0 3 4]\n"
     ]
    }
   ],
   "source": [
    "for s in PatientCodes:\n",
    "    data = SCODatanew[SCODatanew['SubjID']==s]\n",
    "    for sess in np.unique(data['Session']):\n",
    "        print s,sess,np.unique(data[data['Session']==sess]['Label'].unique().sort())\n"
   ]
  },
  {
   "cell_type": "code",
   "execution_count": 357,
   "metadata": {
    "collapsed": true
   },
   "outputs": [],
   "source": [
    "SCOData = SCODatanew"
   ]
  },
  {
   "cell_type": "markdown",
   "metadata": {},
   "source": [
    "### Check sessions in which patients have stairs for CBR data"
   ]
  },
  {
   "cell_type": "code",
   "execution_count": 373,
   "metadata": {
    "collapsed": false,
    "scrolled": true
   },
   "outputs": [
    {
     "name": "stdout",
     "output_type": "stream",
     "text": [
      "1 1 [0 1 2 3 4]\n",
      "1 2 [0 1 2 3 4]\n",
      "1 3 [0 1 2 3 4]\n",
      "1 4 [0 1 2 3 4]\n",
      "2 1 [0 1 2 3 4]\n",
      "2 2 [0 1 2 3 4]\n",
      "2 3 [0 1 2 3 4]\n",
      "2 4 [0 1 2 3 4]\n",
      "5 1 [0 1 2 3 4]\n",
      "5 2 [0 1 2 3 4]\n",
      "5 3 [0 1 2 3 4]\n",
      "5 4 [0 1 2 3 4]\n",
      "6 1 [0 1 3 4]\n",
      "6 2 [0 1 2 3 4]\n",
      "6 3 [0 1 2 3 4]\n",
      "6 4 [0 1 2 3 4]\n",
      "8 1 [0 3 4]\n",
      "8 2 [0 3 4]\n",
      "8 3 [0 3 4]\n",
      "8 4 [0 1 2 3 4]\n",
      "11 1 [0 3 4]\n",
      "11 2 [0 1 2 3 4]\n",
      "11 3 [0 1 2 3 4]\n",
      "11 4 [0 1 2 3 4]\n",
      "14 1 [0 3 4]\n",
      "14 2 [0 3 4]\n",
      "14 3 [0 1 2 3 4]\n",
      "14 4 [0 1 2 3 4]\n",
      "15 1 [0 3 4]\n",
      "15 2 [0 1 2 3 4]\n",
      "15 3 [0 3 4]\n",
      "15 4 [0 1 2 3 4]\n",
      "16 1 [0 1 2 3 4]\n",
      "16 2 [0 1 2 3 4]\n",
      "16 3 [0 1 2 3 4]\n",
      "16 4 [0 1 2 3 4]\n",
      "19 1 [0 3 4]\n",
      "19 2 [0 3 4]\n",
      "19 3 [0 3 4]\n",
      "19 4 [0 3 4]\n"
     ]
    }
   ],
   "source": [
    "for s in PatientCodes:\n",
    "    data = CBRData[CBRData['SubjID']==s]\n",
    "    for sess in np.unique(data['Session']):\n",
    "        print s,sess,np.unique(data[data['Session']==sess]['Label'].unique().sort())\n"
   ]
  },
  {
   "cell_type": "markdown",
   "metadata": {},
   "source": [
    "## Train RF on healthy "
   ]
  },
  {
   "cell_type": "code",
   "execution_count": 13,
   "metadata": {
    "collapsed": false
   },
   "outputs": [
    {
     "name": "stdout",
     "output_type": "stream",
     "text": [
      "Test on Patient 1\n",
      "Train samples = 8375, Test samples = 1288\n",
      "BAcc = 0.48\n",
      "Test on Patient 2\n",
      "Train samples = 8375, Test samples = 991\n",
      "BAcc = 0.35\n",
      "Test on Patient 5\n",
      "Train samples = 8375, Test samples = 1358\n",
      "BAcc = 0.43\n",
      "Test on Patient 6\n",
      "Train samples = 8375, Test samples = 2035\n",
      "BAcc = 0.56\n",
      "Test on Patient 8\n",
      "Train samples = 8375, Test samples = 856\n",
      "BAcc = 0.34\n",
      "Test on Patient 11\n",
      "Train samples = 8375, Test samples = 1195\n",
      "BAcc = 0.63\n",
      "Test on Patient 14\n",
      "Train samples = 8375, Test samples = 1599\n",
      "BAcc = 0.77\n",
      "Test on Patient 15\n",
      "Train samples = 8375, Test samples = 1860\n",
      "BAcc = 0.64\n",
      "Test on Patient 16\n",
      "Train samples = 8375, Test samples = 1126\n",
      "BAcc = 0.53\n",
      "Test on Patient 19\n",
      "Train samples = 8375, Test samples = 1020\n",
      "BAcc = 0.57\n",
      "\n",
      "median Bacc - Healthy model = 0.543412793486\n"
     ]
    }
   ],
   "source": [
    "col_names = HealthyData.column_names()\n",
    "label_cols = col_names[-1:] #the : is used to return a list with one element \n",
    "feature_cols = col_names[2:-1]\n",
    "\n",
    "Xtrain = HealthyData.select_columns(feature_cols).to_numpy()\n",
    "ytrain = HealthyData.select_columns(label_cols).to_numpy()\n",
    "ytrain = ytrain.reshape(-1) #to squeeze last dimension and obtain a 1D array\n",
    "\n",
    "RF = RandomForestClassifier(n_estimators=100)\n",
    "RF = RF.fit(Xtrain,ytrain)\n",
    "\n",
    "#test on each patient (CBR)\n",
    "SOacc = np.zeros(len(PatientCodes))\n",
    "acc_class_subj = [] #accuracy per class for each subject\n",
    "\n",
    "\n",
    "k = 0\n",
    "\n",
    "for s in PatientCodes:\n",
    "    test = CBRData[(CBRData['SubjID'] == s)  & (CBRData['Session'] != 4)] #keep out one session (used later for target)\n",
    "    Xtest = test.select_columns(feature_cols).to_numpy()\n",
    "    ytest = test.select_columns(label_cols).to_numpy()\n",
    "    ytest = ytest.reshape(-1) #to squeeze last dimension and obtain a 1D array\n",
    "\n",
    "    print 'Test on Patient %s'%s\n",
    "    print 'Train samples = %s, Test samples = %s'%(len(ytrain),len(ytest))\n",
    "    ypred = RF.predict(Xtest)\n",
    "\n",
    "    #acc = sum(ypred == ytest)/len(ytest)\n",
    "    #SOacc[k] = acc\n",
    "\n",
    "    #balanced accuracy\n",
    "    SOacc[k],acc_class = Balanced_acc(ypred,ytest)\n",
    "    acc_class_subj.append(acc_class)    \n",
    "    print 'BAcc = {:.2f}'.format(SOacc[k])\n",
    "    k = k+1\n",
    "\n",
    "print '\\nmedian Bacc - Healthy model = %s'%np.median(SOacc)"
   ]
  },
  {
   "cell_type": "markdown",
   "metadata": {},
   "source": [
    "## Global model SCO (Leave one subject out)"
   ]
  },
  {
   "cell_type": "code",
   "execution_count": 16,
   "metadata": {
    "collapsed": false
   },
   "outputs": [
    {
     "name": "stdout",
     "output_type": "stream",
     "text": [
      "Patient 1, Nclass train = 5, Nclass test = 5, Impairment specific (SCO) model - BAcc = 0.58\n",
      "Patient 2, Nclass train = 5, Nclass test = 5, Impairment specific (SCO) model - BAcc = 0.49\n",
      "Patient 5, Nclass train = 5, Nclass test = 5, Impairment specific (SCO) model - BAcc = 0.49\n",
      "Patient 6, Nclass train = 5, Nclass test = 5, Impairment specific (SCO) model - BAcc = 0.56\n",
      "Patient 8, Nclass train = 5, Nclass test = 3, Impairment specific (SCO) model - BAcc = 0.49\n",
      "Patient 11, Nclass train = 5, Nclass test = 3, Impairment specific (SCO) model - BAcc = 0.88\n",
      "Patient 14, Nclass train = 5, Nclass test = 3, Impairment specific (SCO) model - BAcc = 0.96\n",
      "Patient 15, Nclass train = 5, Nclass test = 3, Impairment specific (SCO) model - BAcc = 0.97\n",
      "Patient 16, Nclass train = 5, Nclass test = 5, Impairment specific (SCO) model - BAcc = 0.54\n",
      "Patient 19, Nclass train = 5, Nclass test = 3, Impairment specific (SCO) model - BAcc = 0.89\n",
      "Median BAcc - Impairment Specific (SCO) = 0.569763931298\n"
     ]
    }
   ],
   "source": [
    "ISpec_acc = np.zeros(len(PatientCodes)) \n",
    "k = 0\n",
    "for s in PatientCodes:\n",
    "    \n",
    "    train = SCOData[(SCOData['SubjID'] != s)]\n",
    "    test = CBRData[(CBRData['SubjID'] == s) & (CBRData['Session'] != 4)] #test on 3 CBR sessions\n",
    "    Nclasstrain = len(train['Label'].unique())\n",
    "    Nclasses = len(test['Label'].unique()) #How many activities we have for this patient in test data\n",
    "\n",
    "    Xtrain = train.select_columns(feature_cols).to_numpy()\n",
    "    ytrain = train.select_columns(label_cols).to_numpy()\n",
    "    ytrain = ytrain.reshape(-1)\n",
    "    Xtest = test.select_columns(feature_cols).to_numpy()\n",
    "    ytest = test.select_columns(label_cols).to_numpy()\n",
    "    ytest = ytest.reshape(-1)\n",
    "    \n",
    "    RF = RandomForestClassifier(n_estimators=100)\n",
    "    RF = RF.fit(Xtrain,ytrain)\n",
    "    ypred = RF.predict(Xtest)\n",
    "    #acc = sum(ypred == ytest)/len(ytest)\n",
    "    #balanced accuracy\n",
    "    ISpec_acc[k],acc_class = Balanced_acc(ypred,ytest)\n",
    "    acc_class_subj.append(acc_class)   \n",
    "    print 'Patient {}, Nclass train = {}, Nclass test = {}, Impairment specific (SCO) model - BAcc = {:.2f}'.format(s,Nclasstrain,Nclasses,ISpec_acc[k])\n",
    "    k = k+1\n",
    "\n",
    "print 'Median BAcc - Impairment Specific (SCO) = %s'%np.median(ISpec_acc)"
   ]
  },
  {
   "cell_type": "markdown",
   "metadata": {},
   "source": [
    "## Global model CBR (Leave one subject out)"
   ]
  },
  {
   "cell_type": "code",
   "execution_count": 18,
   "metadata": {
    "collapsed": false
   },
   "outputs": [
    {
     "name": "stdout",
     "output_type": "stream",
     "text": [
      "Patient 1, Nclass train = 5, Nclass test = 5, Global CBR model - BAcc = 0.57\n",
      "Patient 2, Nclass train = 5, Nclass test = 5, Global CBR model - BAcc = 0.47\n",
      "Patient 5, Nclass train = 5, Nclass test = 5, Global CBR model - BAcc = 0.52\n",
      "Patient 6, Nclass train = 5, Nclass test = 5, Global CBR model - BAcc = 0.52\n",
      "Patient 8, Nclass train = 5, Nclass test = 3, Global CBR model - BAcc = 0.62\n",
      "Patient 11, Nclass train = 5, Nclass test = 3, Global CBR model - BAcc = 0.94\n",
      "Patient 14, Nclass train = 5, Nclass test = 3, Global CBR model - BAcc = 0.90\n",
      "Patient 15, Nclass train = 5, Nclass test = 3, Global CBR model - BAcc = 0.96\n",
      "Patient 16, Nclass train = 5, Nclass test = 5, Global CBR model - BAcc = 0.55\n",
      "Patient 19, Nclass train = 5, Nclass test = 3, Global CBR model - BAcc = 0.89\n",
      "Median BAcc - Global CBR model = 0.594961923874\n"
     ]
    }
   ],
   "source": [
    "ISpecCBR_acc = np.zeros(len(PatientCodes)) \n",
    "k = 0\n",
    "for s in PatientCodes:\n",
    "    \n",
    "    train = CBRData[(CBRData['SubjID'] != s)]\n",
    "    test = CBRData[(CBRData['SubjID'] == s) & (CBRData['Session'] != 4)] #test on 3 CBR sessions\n",
    "    Nclasstrain = len(train['Label'].unique())\n",
    "    Nclasses = len(test['Label'].unique()) #How many activities we have for this patient in test data\n",
    "\n",
    "    Xtrain = train.select_columns(feature_cols).to_numpy()\n",
    "    ytrain = train.select_columns(label_cols).to_numpy()\n",
    "    ytrain = ytrain.reshape(-1)\n",
    "    Xtest = test.select_columns(feature_cols).to_numpy()\n",
    "    ytest = test.select_columns(label_cols).to_numpy()\n",
    "    ytest = ytest.reshape(-1)\n",
    "    \n",
    "    RF = RandomForestClassifier(n_estimators=100,random_state=0)\n",
    "    RF = RF.fit(Xtrain,ytrain)\n",
    "    ypred = RF.predict(Xtest)\n",
    "    #acc = sum(ypred == ytest)/len(ytest)\n",
    "    #balanced accuracy\n",
    "    ISpecCBR_acc[k],acc_class = Balanced_acc(ypred,ytest)\n",
    "    acc_class_subj.append(acc_class)   \n",
    "    print 'Patient {}, Nclass train = {}, Nclass test = {}, Global CBR model - BAcc = {:.2f}'.format(s,Nclasstrain,Nclasses,ISpecCBR_acc[k])\n",
    "    k = k+1\n",
    "\n",
    "print 'Median BAcc - Global CBR model = %s'%np.median(ISpecCBR_acc)"
   ]
  },
  {
   "cell_type": "markdown",
   "metadata": {},
   "source": [
    "## Train on SCO and test on CBR (Patient Specific model) "
   ]
  },
  {
   "cell_type": "code",
   "execution_count": 19,
   "metadata": {
    "collapsed": false
   },
   "outputs": [
    {
     "name": "stdout",
     "output_type": "stream",
     "text": [
      "Patient 1, Nclass train = 5, Nclass test = 5, Personal model (Trained on SCO) - BAcc = 0.70\n",
      "Patient 2, Nclass train = 5, Nclass test = 5, Personal model (Trained on SCO) - BAcc = 0.50\n",
      "Patient 5, Nclass train = 5, Nclass test = 5, Personal model (Trained on SCO) - BAcc = 0.65\n",
      "Patient 6, Nclass train = 5, Nclass test = 5, Personal model (Trained on SCO) - BAcc = 0.55\n",
      "Patient 8, Nclass train = 5, Nclass test = 3, Personal model (Trained on SCO) - BAcc = 0.72\n",
      "Patient 11, Nclass train = 5, Nclass test = 3, Personal model (Trained on SCO) - BAcc = 0.77\n",
      "Patient 14, Nclass train = 5, Nclass test = 3, Personal model (Trained on SCO) - BAcc = 0.67\n",
      "Patient 15, Nclass train = 5, Nclass test = 3, Personal model (Trained on SCO) - BAcc = 0.70\n",
      "Patient 16, Nclass train = 5, Nclass test = 5, Personal model (Trained on SCO) - BAcc = 0.46\n",
      "Patient 19, Nclass train = 5, Nclass test = 3, Personal model (Trained on SCO) - BAcc = 0.72\n",
      "Median BAcc - Patient Specific (SCO) = 0.685131303259\n"
     ]
    }
   ],
   "source": [
    "PSpec_acc = np.zeros(len(PatientCodes)) \n",
    "k = 0\n",
    "for s in PatientCodes:\n",
    "    \n",
    "    train = SCOData[(SCOData['SubjID'] == s)]\n",
    "    test = CBRData[(CBRData['SubjID'] == s) & (CBRData['Session'] != 4)]\n",
    "    Nclasstrain = len(train['Label'].unique())\n",
    "    Nclasses = len(test['Label'].unique()) #How many activities we have for this patient in test data\n",
    "\n",
    "    Xtrain = train.select_columns(feature_cols).to_numpy()\n",
    "    ytrain = train.select_columns(label_cols).to_numpy()\n",
    "    ytrain = ytrain.reshape(-1)\n",
    "    Xtest = test.select_columns(feature_cols).to_numpy()\n",
    "    ytest = test.select_columns(label_cols).to_numpy()\n",
    "    ytest = ytest.reshape(-1)\n",
    "    \n",
    "    RF = RandomForestClassifier(n_estimators=50)\n",
    "    RF = RF.fit(Xtrain,ytrain)\n",
    "    ypred = RF.predict(Xtest)\n",
    "    #acc = sum(ypred == ytest)/len(ytest)\n",
    "    #balanced accuracy\n",
    "    PSpec_acc[k],acc_class = Balanced_acc(ypred,ytest)\n",
    "    \n",
    "    print 'Patient {}, Nclass train = {}, Nclass test = {}, Personal model (Trained on SCO) - BAcc = {:.2f}'.format(s,Nclasstrain,Nclasses,PSpec_acc[k])\n",
    "    k = k+1\n",
    "\n",
    "print 'Median BAcc - Patient Specific (SCO) = %s'%np.median(PSpec_acc)"
   ]
  },
  {
   "cell_type": "markdown",
   "metadata": {},
   "source": [
    "## Patient and Device specific model (CBR)\n",
    "* Leave One Session Out of CBR \n",
    "* Keep out 1 session (#4) for target"
   ]
  },
  {
   "cell_type": "code",
   "execution_count": 20,
   "metadata": {
    "collapsed": false
   },
   "outputs": [
    {
     "name": "stdout",
     "output_type": "stream",
     "text": [
      "Nclass train = 5, Nclass test =5, BAcc = 0.74\n",
      "Nclass train = 5, Nclass test =5, BAcc = 0.83\n",
      "Nclass train = 5, Nclass test =5, BAcc = 0.84\n",
      "Patient 1, Device Specific model - BAcc = 0.80\n",
      "Nclass train = 5, Nclass test =5, BAcc = 0.76\n",
      "Nclass train = 5, Nclass test =5, BAcc = 0.54\n",
      "Nclass train = 5, Nclass test =5, BAcc = 0.74\n",
      "Patient 2, Device Specific model - BAcc = 0.68\n",
      "Nclass train = 5, Nclass test =5, BAcc = 0.74\n",
      "Nclass train = 5, Nclass test =5, BAcc = 0.55\n",
      "Nclass train = 5, Nclass test =5, BAcc = 0.54\n",
      "Patient 5, Device Specific model - BAcc = 0.61\n",
      "Nclass train = 5, Nclass test =4, BAcc = 0.67\n",
      "Nclass train = 5, Nclass test =5, BAcc = 0.56\n",
      "Nclass train = 5, Nclass test =5, BAcc = 0.57\n",
      "Patient 6, Device Specific model - BAcc = 0.60\n",
      "Nclass train = 3, Nclass test =3, BAcc = 0.94\n",
      "Nclass train = 3, Nclass test =3, BAcc = 0.74\n",
      "Nclass train = 3, Nclass test =3, BAcc = 0.72\n",
      "Patient 8, Device Specific model - BAcc = 0.80\n",
      "Nclass train = 3, Nclass test =3, BAcc = 0.96\n",
      "Nclass train = 3, Nclass test =3, BAcc = 0.72\n",
      "Nclass train = 3, Nclass test =3, BAcc = 0.85\n",
      "Patient 11, Device Specific model - BAcc = 0.84\n",
      "Nclass train = 3, Nclass test =3, BAcc = 0.98\n",
      "Nclass train = 3, Nclass test =3, BAcc = 0.99\n",
      "Nclass train = 3, Nclass test =3, BAcc = 0.94\n",
      "Patient 14, Device Specific model - BAcc = 0.97\n",
      "Nclass train = 3, Nclass test =3, BAcc = 0.95\n",
      "Nclass train = 3, Nclass test =3, BAcc = 0.96\n",
      "Nclass train = 3, Nclass test =3, BAcc = 1.00\n",
      "Patient 15, Device Specific model - BAcc = 0.97\n",
      "Nclass train = 5, Nclass test =5, BAcc = 0.64\n",
      "Nclass train = 5, Nclass test =5, BAcc = 0.64\n",
      "Nclass train = 5, Nclass test =5, BAcc = 0.83\n",
      "Patient 16, Device Specific model - BAcc = 0.70\n",
      "Nclass train = 3, Nclass test =3, BAcc = 0.55\n",
      "Nclass train = 3, Nclass test =3, BAcc = 0.97\n",
      "Nclass train = 3, Nclass test =3, BAcc = 0.78\n",
      "Patient 19, Device Specific model - BAcc = 0.77\n",
      "Median BAcc - Device Specific (CBR) = 0.785552928808\n"
     ]
    }
   ],
   "source": [
    "DSpec_acc = np.zeros(len(PatientCodes)) \n",
    "k = 0\n",
    "for s in PatientCodes:\n",
    "    \n",
    "    data =  CBRData[(CBRData['SubjID'] == s) & (CBRData['Session'] != 4)] #keep out 1 session for target\n",
    "    Bacc = np.zeros(3)\n",
    "    for session in range(1,4):\n",
    "                  \n",
    "        test = data[data['Session'] == session]\n",
    "        train = data[data['Session'] != session]\n",
    "        Nclasstrain = len(train['Label'].unique())\n",
    "        Nclasses = len(test['Label'].unique()) #How many activities we have for this patient in test data\n",
    "\n",
    "        Xtrain = train.select_columns(feature_cols).to_numpy()\n",
    "        ytrain = train.select_columns(label_cols).to_numpy()\n",
    "        ytrain = ytrain.reshape(-1)\n",
    "        Xtest = test.select_columns(feature_cols).to_numpy()\n",
    "        ytest = test.select_columns(label_cols).to_numpy()\n",
    "        ytest = ytest.reshape(-1)\n",
    "\n",
    "        RF = RandomForestClassifier(n_estimators=50)\n",
    "        RF = RF.fit(Xtrain,ytrain)\n",
    "        ypred = RF.predict(Xtest)\n",
    "        #acc = sum(ypred == ytest)/len(ytest)\n",
    "        #balanced accuracy on each session\n",
    "        Bacc[session-1],acc_class = Balanced_acc(ypred,ytest)\n",
    "        print 'Nclass train = {}, Nclass test ={}, BAcc = {:.2f}'.format(Nclasstrain,Nclasses,Bacc[session-1])\n",
    "\n",
    "    DSpec_acc[k] = Bacc.mean() #the CV BAcc on 3 sessions \n",
    "    print 'Patient {}, Device Specific model - BAcc = {:.2f}'.format(s,DSpec_acc[k])\n",
    "    k = k+1\n",
    "\n",
    "print 'Median BAcc - Device Specific (CBR) = %s'%np.median(DSpec_acc)"
   ]
  },
  {
   "cell_type": "code",
   "execution_count": 21,
   "metadata": {
    "collapsed": false
   },
   "outputs": [
    {
     "name": "stdout",
     "output_type": "stream",
     "text": [
      "[[ 0.47758938  0.58300463  0.70342103  0.80065951]\n",
      " [ 0.35029695  0.48956648  0.49541041  0.68050187]\n",
      " [ 0.43394698  0.49400206  0.64852425  0.60865318]\n",
      " [ 0.55510352  0.55652323  0.5454451   0.60196907]\n",
      " [ 0.33926679  0.49450527  0.71957323  0.80221301]\n",
      " [ 0.6309931   0.87945728  0.77391697  0.84481914]\n",
      " [ 0.77345279  0.96036909  0.67213272  0.9728358 ]\n",
      " [ 0.64032509  0.96663455  0.69812989  0.96886686]\n",
      " [ 0.53172207  0.54170888  0.46269905  0.69948181]\n",
      " [ 0.57449632  0.88612574  0.71742539  0.77044634]]\n"
     ]
    }
   ],
   "source": [
    "acc_all=np.vstack((SOacc,ISpec_acc,PSpec_acc,DSpec_acc)).T\n",
    "print acc_all"
   ]
  },
  {
   "cell_type": "code",
   "execution_count": 22,
   "metadata": {
    "collapsed": false
   },
   "outputs": [
    {
     "data": {
      "text/plain": [
       "<function matplotlib.pyplot.show>"
      ]
     },
     "execution_count": 22,
     "metadata": {},
     "output_type": "execute_result"
    },
    {
     "data": {
      "image/png": "[encoded data removed]",
      "text/plain": [
       "<matplotlib.figure.Figure at 0x2c0b9dd8>"
      ]
     },
     "metadata": {},
     "output_type": "display_data"
    }
   ],
   "source": [
    "plt.boxplot(acc_all)\n",
    "plt.show"
   ]
  },
  {
   "cell_type": "code",
   "execution_count": 23,
   "metadata": {
    "collapsed": false
   },
   "outputs": [
    {
     "data": {
      "text/plain": [
       "0.54341279348643956"
      ]
     },
     "execution_count": 23,
     "metadata": {},
     "output_type": "execute_result"
    }
   ],
   "source": [
    "np.median(SOacc)"
   ]
  },
  {
   "cell_type": "code",
   "execution_count": 24,
   "metadata": {
    "collapsed": false
   },
   "outputs": [
    {
     "data": {
      "text/plain": [
       "0.56976393129780567"
      ]
     },
     "execution_count": 24,
     "metadata": {},
     "output_type": "execute_result"
    }
   ],
   "source": [
    "np.median(ISpec_acc)"
   ]
  },
  {
   "cell_type": "code",
   "execution_count": 25,
   "metadata": {
    "collapsed": false
   },
   "outputs": [
    {
     "data": {
      "text/plain": [
       "0.6851313032590568"
      ]
     },
     "execution_count": 25,
     "metadata": {},
     "output_type": "execute_result"
    }
   ],
   "source": [
    "np.median(PSpec_acc)"
   ]
  },
  {
   "cell_type": "code",
   "execution_count": 26,
   "metadata": {
    "collapsed": false
   },
   "outputs": [
    {
     "data": {
      "text/plain": [
       "0.78555292880846217"
      ]
     },
     "execution_count": 26,
     "metadata": {},
     "output_type": "execute_result"
    }
   ],
   "source": [
    "np.median(DSpec_acc)"
   ]
  },
  {
   "cell_type": "code",
   "execution_count": 27,
   "metadata": {
    "collapsed": true
   },
   "outputs": [],
   "source": [
    "np.savetxt('results.csv', acc_all, delimiter=',') "
   ]
  },
  {
   "cell_type": "markdown",
   "metadata": {},
   "source": [
    "## Same analysis without removing Stairs Data from CBR"
   ]
  },
  {
   "cell_type": "code",
   "execution_count": 341,
   "metadata": {
    "collapsed": false
   },
   "outputs": [],
   "source": [
    "CBRData = graphlab.SFrame.read_csv('../../Datasets/Cbrace/PatientCBRData.csv', verbose=False)"
   ]
  },
  {
   "cell_type": "markdown",
   "metadata": {},
   "source": [
    "### Remove stairs if patients do not have a minimum of 2 sessions with stairs. Use a total of 3 sessions"
   ]
  },
  {
   "cell_type": "code",
   "execution_count": 342,
   "metadata": {
    "collapsed": false
   },
   "outputs": [
    {
     "name": "stdout",
     "output_type": "stream",
     "text": [
      "1 1 [0 1 2 3 4]\n",
      "1 2 [0 1 2 3 4]\n",
      "1 3 [0 1 2 3 4]\n",
      "1 4 [0 1 2 3 4]\n",
      "2 1 [0 1 2 3 4]\n",
      "2 2 [0 1 2 3 4]\n",
      "2 3 [0 1 2 3 4]\n",
      "2 4 [0 1 2 3 4]\n",
      "5 1 [0 1 2 3 4]\n",
      "5 2 [0 1 2 3 4]\n",
      "5 3 [0 1 2 3 4]\n",
      "5 4 [0 1 2 3 4]\n",
      "6 1 [0 1 3 4]\n",
      "6 2 [0 1 2 3 4]\n",
      "6 3 [0 1 2 3 4]\n",
      "6 4 [0 1 2 3 4]\n",
      "8 1 [0 3 4]\n",
      "8 2 [0 3 4]\n",
      "8 3 [0 3 4]\n",
      "8 4 [0 1 2 3 4]\n",
      "11 1 [0 3 4]\n",
      "11 2 [0 1 2 3 4]\n",
      "11 3 [0 1 2 3 4]\n",
      "11 4 [0 1 2 3 4]\n",
      "14 1 [0 3 4]\n",
      "14 2 [0 3 4]\n",
      "14 3 [0 1 2 3 4]\n",
      "14 4 [0 1 2 3 4]\n",
      "15 1 [0 3 4]\n",
      "15 2 [0 1 2 3 4]\n",
      "15 3 [0 3 4]\n",
      "15 4 [0 1 2 3 4]\n",
      "16 1 [0 1 2 3 4]\n",
      "16 2 [0 1 2 3 4]\n",
      "16 3 [0 1 2 3 4]\n",
      "16 4 [0 1 2 3 4]\n",
      "19 1 [0 3 4]\n",
      "19 2 [0 3 4]\n",
      "19 3 [0 3 4]\n",
      "19 4 [0 3 4]\n"
     ]
    }
   ],
   "source": [
    "for s in PatientCodes:\n",
    "    data = CBRData[CBRData['SubjID']==s]\n",
    "    for sess in np.unique(data['Session']):\n",
    "        print s,sess,np.unique(data[data['Session']==sess]['Label'].unique().sort())\n"
   ]
  },
  {
   "cell_type": "markdown",
   "metadata": {},
   "source": [
    "Patients to modify = 6,8,11,14,15\n",
    "* CBR06,11: Remove Session 1; \n",
    "* CBR08 Remove Session 4; Rename Sessions 1-3\n",
    "* CBR14,15 Remove Session 1; Rename Sessions to 1-3"
   ]
  },
  {
   "cell_type": "code",
   "execution_count": 343,
   "metadata": {
    "collapsed": false
   },
   "outputs": [
    {
     "data": {
      "text/plain": [
       "array([ 1,  2,  5,  6,  8, 11, 14, 15, 16, 19])"
      ]
     },
     "execution_count": 343,
     "metadata": {},
     "output_type": "execute_result"
    }
   ],
   "source": [
    "PatientCodes"
   ]
  },
  {
   "cell_type": "code",
   "execution_count": 344,
   "metadata": {
    "collapsed": false
   },
   "outputs": [],
   "source": [
    "Pc = [1,2,5,16,19] #the patient whose data is not modified"
   ]
  },
  {
   "cell_type": "code",
   "execution_count": 345,
   "metadata": {
    "collapsed": false
   },
   "outputs": [],
   "source": [
    "CBRDatanew = CBRData.filter_by(Pc,'SubjID')"
   ]
  },
  {
   "cell_type": "code",
   "execution_count": 346,
   "metadata": {
    "collapsed": false
   },
   "outputs": [
    {
     "data": {
      "text/plain": [
       "dtype: int\n",
       "Rows: 5\n",
       "[1L, 2L, 5L, 16L, 19L]"
      ]
     },
     "execution_count": 346,
     "metadata": {},
     "output_type": "execute_result"
    }
   ],
   "source": [
    "CBRDatanew['SubjID'].unique().sort()"
   ]
  },
  {
   "cell_type": "code",
   "execution_count": 347,
   "metadata": {
    "collapsed": false
   },
   "outputs": [],
   "source": [
    "#CBR06-11\n",
    "data = CBRData[((CBRData['SubjID']==6) | (CBRData['SubjID']==11)) & (CBRData['Session']!=1)]\n",
    "data['Session'] = data['Session'].apply(lambda x: x-1) #rename session to 1,2,3\n",
    "CBRDatanew=CBRDatanew.append(data)"
   ]
  },
  {
   "cell_type": "code",
   "execution_count": 348,
   "metadata": {
    "collapsed": true
   },
   "outputs": [],
   "source": [
    "#CBR08\n",
    "data = CBRData[(CBRData['SubjID']==8) & (CBRData['Session']!=4)]\n",
    "CBRDatanew=CBRDatanew.append(data)"
   ]
  },
  {
   "cell_type": "code",
   "execution_count": 349,
   "metadata": {
    "collapsed": true
   },
   "outputs": [],
   "source": [
    "#CBR14-15\n",
    "data = CBRData[((CBRData['SubjID']==14) | (CBRData['SubjID']==15)) & (CBRData['Session']!=1)]\n",
    "data['Session'] = data['Session'].apply(lambda x: x-1) #rename session to 1,2,3\n",
    "CBRDatanew=CBRDatanew.append(data)"
   ]
  },
  {
   "cell_type": "markdown",
   "metadata": {},
   "source": [
    "Finally let's get rid of Session 4 for everybody"
   ]
  },
  {
   "cell_type": "code",
   "execution_count": 350,
   "metadata": {
    "collapsed": false
   },
   "outputs": [
    {
     "data": {
      "text/plain": [
       "dtype: int\n",
       "Rows: 4\n",
       "[2L, 4L, 3L, 1L]"
      ]
     },
     "execution_count": 350,
     "metadata": {},
     "output_type": "execute_result"
    }
   ],
   "source": [
    "CBRDatanew['Session'].unique()"
   ]
  },
  {
   "cell_type": "code",
   "execution_count": 351,
   "metadata": {
    "collapsed": false
   },
   "outputs": [
    {
     "data": {
      "text/plain": [
       "dtype: int\n",
       "Rows: 3\n",
       "[2L, 3L, 1L]"
      ]
     },
     "execution_count": 351,
     "metadata": {},
     "output_type": "execute_result"
    }
   ],
   "source": [
    "CBRDatanew = CBRDatanew.filter_by(4,'Session',exclude=True)\n",
    "CBRDatanew['Session'].unique()"
   ]
  },
  {
   "cell_type": "code",
   "execution_count": 352,
   "metadata": {
    "collapsed": true
   },
   "outputs": [],
   "source": [
    "CBRData = CBRDatanew"
   ]
  },
  {
   "cell_type": "code",
   "execution_count": 353,
   "metadata": {
    "collapsed": false
   },
   "outputs": [
    {
     "name": "stdout",
     "output_type": "stream",
     "text": [
      "1 1 [0 1 2 3 4]\n",
      "1 2 [0 1 2 3 4]\n",
      "1 3 [0 1 2 3 4]\n",
      "2 1 [0 1 2 3 4]\n",
      "2 2 [0 1 2 3 4]\n",
      "2 3 [0 1 2 3 4]\n",
      "5 1 [0 1 2 3 4]\n",
      "5 2 [0 1 2 3 4]\n",
      "5 3 [0 1 2 3 4]\n",
      "6 1 [0 1 2 3 4]\n",
      "6 2 [0 1 2 3 4]\n",
      "6 3 [0 1 2 3 4]\n",
      "8 1 [0 3 4]\n",
      "8 2 [0 3 4]\n",
      "8 3 [0 3 4]\n",
      "11 1 [0 1 2 3 4]\n",
      "11 2 [0 1 2 3 4]\n",
      "11 3 [0 1 2 3 4]\n",
      "14 1 [0 3 4]\n",
      "14 2 [0 1 2 3 4]\n",
      "14 3 [0 1 2 3 4]\n",
      "15 1 [0 1 2 3 4]\n",
      "15 2 [0 3 4]\n",
      "15 3 [0 1 2 3 4]\n",
      "16 1 [0 1 2 3 4]\n",
      "16 2 [0 1 2 3 4]\n",
      "16 3 [0 1 2 3 4]\n",
      "19 1 [0 3 4]\n",
      "19 2 [0 3 4]\n",
      "19 3 [0 3 4]\n"
     ]
    }
   ],
   "source": [
    "for s in PatientCodes:\n",
    "    data = CBRData[CBRData['SubjID']==s]\n",
    "    for sess in np.unique(data['Session']):\n",
    "        print s,sess,np.unique(data[data['Session']==sess]['Label'].unique().sort())\n"
   ]
  },
  {
   "cell_type": "markdown",
   "metadata": {},
   "source": [
    "## Train RF on healthy "
   ]
  },
  {
   "cell_type": "code",
   "execution_count": 1,
   "metadata": {
    "collapsed": false
   },
   "outputs": [
    {
     "ename": "NameError",
     "evalue": "name 'HealthyData' is not defined",
     "output_type": "error",
     "traceback": [
      "\u001b[1;31m---------------------------------------------------------------------------\u001b[0m",
      "\u001b[1;31mNameError\u001b[0m                                 Traceback (most recent call last)",
      "\u001b[1;32m<ipython-input-1-1526a9169b21>\u001b[0m in \u001b[0;36m<module>\u001b[1;34m()\u001b[0m\n\u001b[1;32m----> 1\u001b[1;33m \u001b[0mcol_names\u001b[0m \u001b[1;33m=\u001b[0m \u001b[0mHealthyData\u001b[0m\u001b[1;33m.\u001b[0m\u001b[0mcolumn_names\u001b[0m\u001b[1;33m(\u001b[0m\u001b[1;33m)\u001b[0m\u001b[1;33m\u001b[0m\u001b[0m\n\u001b[0m\u001b[0;32m      2\u001b[0m \u001b[0mlabel_cols\u001b[0m \u001b[1;33m=\u001b[0m \u001b[0mcol_names\u001b[0m\u001b[1;33m[\u001b[0m\u001b[1;33m-\u001b[0m\u001b[1;36m1\u001b[0m\u001b[1;33m:\u001b[0m\u001b[1;33m]\u001b[0m \u001b[1;31m#the : is used to return a list with one element\u001b[0m\u001b[1;33m\u001b[0m\u001b[0m\n\u001b[0;32m      3\u001b[0m \u001b[0mfeature_cols\u001b[0m \u001b[1;33m=\u001b[0m \u001b[0mcol_names\u001b[0m\u001b[1;33m[\u001b[0m\u001b[1;36m2\u001b[0m\u001b[1;33m:\u001b[0m\u001b[1;33m-\u001b[0m\u001b[1;36m1\u001b[0m\u001b[1;33m]\u001b[0m\u001b[1;33m\u001b[0m\u001b[0m\n\u001b[0;32m      4\u001b[0m \u001b[1;33m\u001b[0m\u001b[0m\n\u001b[0;32m      5\u001b[0m \u001b[0mXtrain\u001b[0m \u001b[1;33m=\u001b[0m \u001b[0mHealthyData\u001b[0m\u001b[1;33m.\u001b[0m\u001b[0mselect_columns\u001b[0m\u001b[1;33m(\u001b[0m\u001b[0mfeature_cols\u001b[0m\u001b[1;33m)\u001b[0m\u001b[1;33m.\u001b[0m\u001b[0mto_numpy\u001b[0m\u001b[1;33m(\u001b[0m\u001b[1;33m)\u001b[0m\u001b[1;33m\u001b[0m\u001b[0m\n",
      "\u001b[1;31mNameError\u001b[0m: name 'HealthyData' is not defined"
     ]
    }
   ],
   "source": [
    "col_names = HealthyData.column_names()\n",
    "label_cols = col_names[-1:] #the : is used to return a list with one element \n",
    "feature_cols = col_names[2:-1]\n",
    "\n",
    "Xtrain = HealthyData.select_columns(feature_cols).to_numpy()\n",
    "ytrain = HealthyData.select_columns(label_cols).to_numpy()\n",
    "ytrain = ytrain.reshape(-1) #to squeeze last dimension and obtain a 1D array\n",
    "\n",
    "RF = RandomForestClassifier(n_estimators=100)\n",
    "RF = RF.fit(Xtrain,ytrain)\n",
    "\n",
    "#test on each patient (CBR)\n",
    "SOacc = np.zeros(len(PatientCodes))\n",
    "acc_class_subj = [] #accuracy per class for each subject\n",
    "\n",
    "\n",
    "k = 0\n",
    "\n",
    "for s in PatientCodes:\n",
    "    test = CBRData[(CBRData['SubjID'] == s)  & (CBRData['Session'] != 4)] #keep out one session (used later for target)\n",
    "    Xtest = test.select_columns(feature_cols).to_numpy()\n",
    "    ytest = test.select_columns(label_cols).to_numpy()\n",
    "    ytest = ytest.reshape(-1) #to squeeze last dimension and obtain a 1D array\n",
    "\n",
    "    print 'Test on Patient %s'%s\n",
    "    print 'Train samples = %s, Test samples = %s'%(len(ytrain),len(ytest))\n",
    "    ypred = RF.predict(Xtest)\n",
    "\n",
    "    #acc = sum(ypred == ytest)/len(ytest)\n",
    "    #SOacc[k] = acc\n",
    "\n",
    "    #balanced accuracy\n",
    "    SOacc[k],acc_class = Balanced_acc(ypred,ytest)\n",
    "    acc_class_subj.append(acc_class)    \n",
    "    print 'BAcc = {:.2f}'.format(SOacc[k])\n",
    "    k = k+1\n",
    "\n",
    "print '\\nmedian Bacc - Healthy model = %s'%np.median(SOacc)"
   ]
  },
  {
   "cell_type": "markdown",
   "metadata": {},
   "source": [
    "## Global model SCO (Leave one subject out)"
   ]
  },
  {
   "cell_type": "code",
   "execution_count": 358,
   "metadata": {
    "collapsed": false
   },
   "outputs": [
    {
     "name": "stdout",
     "output_type": "stream",
     "text": [
      "Patient 1, Nclass train = 5, Nclass test = 5, Impairment specific (SCO) model - BAcc = 0.54\n",
      "Patient 2, Nclass train = 5, Nclass test = 5, Impairment specific (SCO) model - BAcc = 0.48\n",
      "Patient 5, Nclass train = 5, Nclass test = 5, Impairment specific (SCO) model - BAcc = 0.48\n",
      "Patient 6, Nclass train = 5, Nclass test = 5, Impairment specific (SCO) model - BAcc = 0.55\n",
      "Patient 8, Nclass train = 5, Nclass test = 3, Impairment specific (SCO) model - BAcc = 0.50\n",
      "Patient 11, Nclass train = 5, Nclass test = 5, Impairment specific (SCO) model - BAcc = 0.53\n",
      "Patient 14, Nclass train = 5, Nclass test = 5, Impairment specific (SCO) model - BAcc = 0.58\n",
      "Patient 15, Nclass train = 5, Nclass test = 5, Impairment specific (SCO) model - BAcc = 0.51\n",
      "Patient 16, Nclass train = 5, Nclass test = 5, Impairment specific (SCO) model - BAcc = 0.54\n",
      "Patient 19, Nclass train = 5, Nclass test = 3, Impairment specific (SCO) model - BAcc = 0.87\n",
      "Median BAcc - Impairment Specific (SCO) = 0.53313513788\n"
     ]
    }
   ],
   "source": [
    "ISpec_acc = np.zeros(len(PatientCodes)) \n",
    "k = 0\n",
    "for s in PatientCodes:\n",
    "    \n",
    "    train = SCOData[(SCOData['SubjID'] != s)]\n",
    "    test = CBRData[(CBRData['SubjID'] == s)] #test on 3 CBR sessions\n",
    "    Nclasstrain = len(train['Label'].unique())\n",
    "    Nclasses = len(test['Label'].unique()) #How many activities we have for this patient in test data\n",
    "\n",
    "    Xtrain = train.select_columns(feature_cols).to_numpy()\n",
    "    ytrain = train.select_columns(label_cols).to_numpy()\n",
    "    ytrain = ytrain.reshape(-1)\n",
    "    Xtest = test.select_columns(feature_cols).to_numpy()\n",
    "    ytest = test.select_columns(label_cols).to_numpy()\n",
    "    ytest = ytest.reshape(-1)\n",
    "    \n",
    "    RF = RandomForestClassifier(n_estimators=100)\n",
    "    RF = RF.fit(Xtrain,ytrain)\n",
    "    ypred = RF.predict(Xtest)\n",
    "    #acc = sum(ypred == ytest)/len(ytest)\n",
    "    #balanced accuracy\n",
    "    ISpec_acc[k],acc_class = Balanced_acc(ypred,ytest)\n",
    "    acc_class_subj.append(acc_class)   \n",
    "    print 'Patient {}, Nclass train = {}, Nclass test = {}, Impairment specific (SCO) model - BAcc = {:.2f}'.format(s,Nclasstrain,Nclasses,ISpec_acc[k])\n",
    "    k = k+1\n",
    "\n",
    "print 'Median BAcc - Impairment Specific (SCO) = %s'%np.median(ISpec_acc)"
   ]
  },
  {
   "cell_type": "markdown",
   "metadata": {},
   "source": [
    "## Train on SCO and test on CBR (Patient Specific model) "
   ]
  },
  {
   "cell_type": "code",
   "execution_count": 361,
   "metadata": {
    "collapsed": false
   },
   "outputs": [
    {
     "name": "stdout",
     "output_type": "stream",
     "text": [
      "Patient 1, Nclass train = 5, Nclass test = 5, Personal model (Trained on SCO) - BAcc = 0.69\n",
      "Patient 2, Nclass train = 5, Nclass test = 5, Personal model (Trained on SCO) - BAcc = 0.56\n",
      "Patient 5, Nclass train = 5, Nclass test = 5, Personal model (Trained on SCO) - BAcc = 0.65\n",
      "Patient 6, Nclass train = 5, Nclass test = 5, Personal model (Trained on SCO) - BAcc = 0.76\n",
      "Patient 8, Nclass train = 3, Nclass test = 3, Personal model (Trained on SCO) - BAcc = 0.74\n",
      "Patient 11, Nclass train = 5, Nclass test = 5, Personal model (Trained on SCO) - BAcc = 0.42\n",
      "Patient 14, Nclass train = 5, Nclass test = 5, Personal model (Trained on SCO) - BAcc = 0.53\n",
      "Patient 15, Nclass train = 5, Nclass test = 5, Personal model (Trained on SCO) - BAcc = 0.46\n",
      "Patient 16, Nclass train = 5, Nclass test = 5, Personal model (Trained on SCO) - BAcc = 0.50\n",
      "Patient 19, Nclass train = 5, Nclass test = 3, Personal model (Trained on SCO) - BAcc = 0.78\n",
      "Median BAcc - Patient Specific (SCO) = 0.605185025527\n"
     ]
    }
   ],
   "source": [
    "PSpec_acc = np.zeros(len(PatientCodes)) \n",
    "k = 0\n",
    "for s in PatientCodes:\n",
    "    \n",
    "    train = SCOData[(SCOData['SubjID'] == s)]\n",
    "    test = CBRData[(CBRData['SubjID'] == s)]\n",
    "    Nclasstrain = len(train['Label'].unique())\n",
    "    Nclasses = len(test['Label'].unique()) #How many activities we have for this patient in test data\n",
    "\n",
    "    Xtrain = train.select_columns(feature_cols).to_numpy()\n",
    "    ytrain = train.select_columns(label_cols).to_numpy()\n",
    "    ytrain = ytrain.reshape(-1)\n",
    "    Xtest = test.select_columns(feature_cols).to_numpy()\n",
    "    ytest = test.select_columns(label_cols).to_numpy()\n",
    "    ytest = ytest.reshape(-1)\n",
    "    \n",
    "    RF = RandomForestClassifier(n_estimators=50)\n",
    "    RF = RF.fit(Xtrain,ytrain)\n",
    "    ypred = RF.predict(Xtest)\n",
    "    #acc = sum(ypred == ytest)/len(ytest)\n",
    "    #balanced accuracy\n",
    "    PSpec_acc[k],acc_class = Balanced_acc(ypred,ytest)\n",
    "    \n",
    "    print 'Patient {}, Nclass train = {}, Nclass test = {}, Personal model (Trained on SCO) - BAcc = {:.2f}'.format(s,Nclasstrain,Nclasses,PSpec_acc[k])\n",
    "    k = k+1\n",
    "\n",
    "print 'Median BAcc - Patient Specific (SCO) = %s'%np.median(PSpec_acc)"
   ]
  },
  {
   "cell_type": "markdown",
   "metadata": {},
   "source": [
    "## Patient and Device specific model (CBR)"
   ]
  },
  {
   "cell_type": "code",
   "execution_count": 362,
   "metadata": {
    "collapsed": false
   },
   "outputs": [
    {
     "name": "stdout",
     "output_type": "stream",
     "text": [
      "Sess = 1, Nclass train = 5, Nclass test =5, BAcc = 0.72\n",
      "Sess = 2, Nclass train = 5, Nclass test =5, BAcc = 0.87\n",
      "Sess = 3, Nclass train = 5, Nclass test =5, BAcc = 0.83\n",
      "Patient 1, Device Specific model - BAcc = 0.81\n",
      "Sess = 1, Nclass train = 5, Nclass test =5, BAcc = 0.72\n",
      "Sess = 2, Nclass train = 5, Nclass test =5, BAcc = 0.52\n",
      "Sess = 3, Nclass train = 5, Nclass test =5, BAcc = 0.76\n",
      "Patient 2, Device Specific model - BAcc = 0.67\n",
      "Sess = 1, Nclass train = 5, Nclass test =5, BAcc = 0.74\n",
      "Sess = 2, Nclass train = 5, Nclass test =5, BAcc = 0.55\n",
      "Sess = 3, Nclass train = 5, Nclass test =5, BAcc = 0.58\n",
      "Patient 5, Device Specific model - BAcc = 0.62\n",
      "Sess = 1, Nclass train = 5, Nclass test =5, BAcc = 0.57\n",
      "Sess = 2, Nclass train = 5, Nclass test =5, BAcc = 0.79\n",
      "Sess = 3, Nclass train = 5, Nclass test =5, BAcc = 0.91\n",
      "Patient 6, Device Specific model - BAcc = 0.75\n",
      "Sess = 1, Nclass train = 3, Nclass test =3, BAcc = 0.95\n",
      "Sess = 2, Nclass train = 3, Nclass test =3, BAcc = 0.77\n",
      "Sess = 3, Nclass train = 3, Nclass test =3, BAcc = 0.93\n",
      "Patient 8, Device Specific model - BAcc = 0.88\n",
      "Sess = 1, Nclass train = 5, Nclass test =5, BAcc = 0.41\n",
      "Sess = 2, Nclass train = 5, Nclass test =5, BAcc = 0.55\n",
      "Sess = 3, Nclass train = 5, Nclass test =5, BAcc = 0.55\n",
      "Patient 11, Device Specific model - BAcc = 0.50\n",
      "Sess = 1, Nclass train = 5, Nclass test =3, BAcc = 0.99\n",
      "Sess = 2, Nclass train = 5, Nclass test =5, BAcc = 0.59\n",
      "Sess = 3, Nclass train = 5, Nclass test =5, BAcc = 0.74\n",
      "Patient 14, Device Specific model - BAcc = 0.77\n",
      "Sess = 1, Nclass train = 5, Nclass test =5, BAcc = 0.64\n",
      "Sess = 2, Nclass train = 5, Nclass test =3, BAcc = 0.97\n",
      "Sess = 3, Nclass train = 5, Nclass test =5, BAcc = 0.60\n",
      "Patient 15, Device Specific model - BAcc = 0.74\n",
      "Sess = 1, Nclass train = 5, Nclass test =5, BAcc = 0.61\n",
      "Sess = 2, Nclass train = 5, Nclass test =5, BAcc = 0.64\n",
      "Sess = 3, Nclass train = 5, Nclass test =5, BAcc = 0.69\n",
      "Patient 16, Device Specific model - BAcc = 0.65\n",
      "Sess = 1, Nclass train = 3, Nclass test =3, BAcc = 0.56\n",
      "Sess = 2, Nclass train = 3, Nclass test =3, BAcc = 0.98\n",
      "Sess = 3, Nclass train = 3, Nclass test =3, BAcc = 0.78\n",
      "Patient 19, Device Specific model - BAcc = 0.78\n",
      "Median BAcc - Device Specific (CBR) = 0.745932922134\n"
     ]
    }
   ],
   "source": [
    "DSpec_acc = np.zeros(len(PatientCodes)) \n",
    "k = 0\n",
    "for s in PatientCodes:\n",
    "    \n",
    "    data = CBRData[(CBRData['SubjID'] == s)]\n",
    "    Bacc = np.zeros(3)\n",
    "    for session in range(1,4):\n",
    "                  \n",
    "        test = data[data['Session'] == session]\n",
    "        train = data[data['Session'] != session]\n",
    "        Nclasstrain = len(train['Label'].unique())\n",
    "        Nclasses = len(test['Label'].unique()) #How many activities we have for this patient in test data\n",
    "\n",
    "        Xtrain = train.select_columns(feature_cols).to_numpy()\n",
    "        ytrain = train.select_columns(label_cols).to_numpy()\n",
    "        ytrain = ytrain.reshape(-1)\n",
    "        Xtest = test.select_columns(feature_cols).to_numpy()\n",
    "        ytest = test.select_columns(label_cols).to_numpy()\n",
    "        ytest = ytest.reshape(-1)\n",
    "\n",
    "        RF = RandomForestClassifier(n_estimators=50)\n",
    "        RF = RF.fit(Xtrain,ytrain)\n",
    "        ypred = RF.predict(Xtest)\n",
    "        #acc = sum(ypred == ytest)/len(ytest)\n",
    "        #balanced accuracy on each session\n",
    "        Bacc[session-1],acc_class = Balanced_acc(ypred,ytest)\n",
    "        print 'Sess = {}, Nclass train = {}, Nclass test ={}, BAcc = {:.2f}'.format(session,Nclasstrain,Nclasses,Bacc[session-1])\n",
    "\n",
    "    DSpec_acc[k] = Bacc.mean() #the mean CV BAcc on 3 sessions \n",
    "    print 'Patient {}, Device Specific model - BAcc = {:.2f}'.format(s,DSpec_acc[k])\n",
    "    k = k+1\n",
    "\n",
    "print 'Median BAcc - Device Specific (CBR) = %s'%np.median(DSpec_acc)"
   ]
  },
  {
   "cell_type": "code",
   "execution_count": 363,
   "metadata": {
    "collapsed": false
   },
   "outputs": [
    {
     "name": "stdout",
     "output_type": "stream",
     "text": [
      "[[ 0.46686387  0.54300075  0.68531376  0.80529689]\n",
      " [ 0.31749329  0.48422868  0.55760116  0.6670071 ]\n",
      " [ 0.42640388  0.47502338  0.65276889  0.62323755]\n",
      " [ 0.60429417  0.55470305  0.75537008  0.75477408]\n",
      " [ 0.34494373  0.49700775  0.74097672  0.8816085 ]\n",
      " [ 0.5255821   0.53008161  0.42341318  0.50438979]\n",
      " [ 0.51118816  0.58350727  0.53450855  0.77314548]\n",
      " [ 0.45860943  0.50686262  0.46137008  0.73709176]\n",
      " [ 0.52644169  0.53618867  0.50391851  0.64732023]\n",
      " [ 0.61632113  0.86739613  0.77549797  0.77610529]]\n"
     ]
    }
   ],
   "source": [
    "acc_all=np.vstack((SOacc,ISpec_acc,PSpec_acc,DSpec_acc)).T\n",
    "print acc_all"
   ]
  },
  {
   "cell_type": "code",
   "execution_count": 364,
   "metadata": {
    "collapsed": false
   },
   "outputs": [
    {
     "data": {
      "text/plain": [
       "<function matplotlib.pyplot.show>"
      ]
     },
     "execution_count": 364,
     "metadata": {},
     "output_type": "execute_result"
    },
    {
     "data": {
      "image/png": "[encoded data removed]",
      "text/plain": [
       "<matplotlib.figure.Figure at 0x2c0ed3c8>"
      ]
     },
     "metadata": {},
     "output_type": "display_data"
    }
   ],
   "source": [
    "plt.boxplot(acc_all)\n",
    "plt.show"
   ]
  },
  {
   "cell_type": "code",
   "execution_count": 365,
   "metadata": {
    "collapsed": false
   },
   "outputs": [
    {
     "data": {
      "text/plain": [
       "0.48902601226833131"
      ]
     },
     "execution_count": 365,
     "metadata": {},
     "output_type": "execute_result"
    }
   ],
   "source": [
    "np.median(SOacc)"
   ]
  },
  {
   "cell_type": "code",
   "execution_count": 366,
   "metadata": {
    "collapsed": false
   },
   "outputs": [
    {
     "data": {
      "text/plain": [
       "0.53313513788021194"
      ]
     },
     "execution_count": 366,
     "metadata": {},
     "output_type": "execute_result"
    }
   ],
   "source": [
    "np.median(ISpec_acc)"
   ]
  },
  {
   "cell_type": "code",
   "execution_count": 367,
   "metadata": {
    "collapsed": false
   },
   "outputs": [
    {
     "data": {
      "text/plain": [
       "0.6051850255273924"
      ]
     },
     "execution_count": 367,
     "metadata": {},
     "output_type": "execute_result"
    }
   ],
   "source": [
    "np.median(PSpec_acc)"
   ]
  },
  {
   "cell_type": "code",
   "execution_count": 368,
   "metadata": {
    "collapsed": false
   },
   "outputs": [
    {
     "data": {
      "text/plain": [
       "0.74593292213429618"
      ]
     },
     "execution_count": 368,
     "metadata": {},
     "output_type": "execute_result"
    }
   ],
   "source": [
    "np.median(DSpec_acc)"
   ]
  },
  {
   "cell_type": "code",
   "execution_count": 369,
   "metadata": {
    "collapsed": true
   },
   "outputs": [],
   "source": [
    "np.savetxt('resultswStairs.csv', acc_all, delimiter=',') "
   ]
  },
  {
   "cell_type": "markdown",
   "metadata": {},
   "source": []
  }
 ],
 "metadata": {
  "kernelspec": {
   "display_name": "Python 2",
   "language": "python",
   "name": "python2"
  },
  "language_info": {
   "codemirror_mode": {
    "name": "ipython",
    "version": 2
   },
   "file_extension": ".py",
   "mimetype": "text/x-python",
   "name": "python",
   "nbconvert_exporter": "python",
   "pygments_lexer": "ipython2",
   "version": "2.7.11"
  }
 },
 "nbformat": 4,
 "nbformat_minor": 0
}
