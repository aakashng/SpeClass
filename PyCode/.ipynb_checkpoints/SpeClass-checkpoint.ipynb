{
 "cells": [
  {
   "cell_type": "code",
   "execution_count": 1,
   "metadata": {
    "collapsed": true
   },
   "outputs": [],
   "source": [
    "from __future__ import division\n",
    "import numpy as np\n",
    "from sklearn.datasets import make_classification\n",
    "from sklearn.cross_validation import train_test_split\n",
    "from sklearn.metrics import confusion_matrix\n",
    "from sklearn.ensemble import RandomForestClassifier\n",
    "from sklearn.tree import DecisionTreeClassifier\n",
    "import matplotlib.pyplot as plt\n",
    "%matplotlib inline\n",
    "import graphlab"
   ]
  },
  {
   "cell_type": "code",
   "execution_count": 2,
   "metadata": {
    "collapsed": true
   },
   "outputs": [],
   "source": [
    "#balanced accuracy\n",
    "def Balanced_acc(ypred,ytest):\n",
    "    acc_c = 0\n",
    "    acc_class = np.zeros(5) #the accuracy per class\n",
    "    for c in np.unique(ytest):\n",
    "        i = ytest == c\n",
    "        correct = ypred[i] == ytest[i]\n",
    "        acc_c += sum(correct)/len(correct)\n",
    "        acc_class[c] = sum(correct)/len(correct)\n",
    "\n",
    "    Bacc = acc_c/len(np.unique(ytest))\n",
    "    return Bacc,acc_class\n",
    "\n",
    "def plot_confusion_matrix(cm, title='Confusion matrix', cmap=plt.cm.Blues):\n",
    "    plt.imshow(cm, interpolation='nearest', cmap=cmap)\n",
    "    plt.title(title)\n",
    "    plt.colorbar()\n",
    "    tick_marks = np.arange(5)\n",
    "    plt.xticks(tick_marks, ['Sit','StairsUp','StairsDw','Stand','Walk'], rotation=45)\n",
    "    plt.yticks(tick_marks, ['Sit','StairsUp','StairsDw','Stand','Walk'])\n",
    "    plt.tight_layout()\n",
    "    plt.ylabel('True label')\n",
    "    plt.xlabel('Predicted label')"
   ]
  },
  {
   "cell_type": "markdown",
   "metadata": {},
   "source": [
    "### Load Data"
   ]
  },
  {
   "cell_type": "code",
   "execution_count": 3,
   "metadata": {
    "collapsed": false
   },
   "outputs": [
    {
     "name": "stdout",
     "output_type": "stream",
     "text": [
      "This non-commercial license of GraphLab Create for academic use is assigned to llonini@ricres.org and will expire on November 11, 2016.\n"
     ]
    },
    {
     "name": "stderr",
     "output_type": "stream",
     "text": [
      "[INFO] graphlab.cython.cy_server: GraphLab Create v2.1 started. Logging: C:\\Users\\llonini\\AppData\\Local\\Temp\\graphlab_server_1474989322.log.0\n"
     ]
    },
    {
     "data": {
      "text/html": [
       "<pre>Finished parsing file C:\\Users\\llonini\\Projects\\Datasets\\Cbrace\\HealthyData.csv</pre>"
      ],
      "text/plain": [
       "Finished parsing file C:\\Users\\llonini\\Projects\\Datasets\\Cbrace\\HealthyData.csv"
      ]
     },
     "metadata": {},
     "output_type": "display_data"
    },
    {
     "data": {
      "text/html": [
       "<pre>Parsing completed. Parsed 100 lines in 0.337668 secs.</pre>"
      ],
      "text/plain": [
       "Parsing completed. Parsed 100 lines in 0.337668 secs."
      ]
     },
     "metadata": {},
     "output_type": "display_data"
    },
    {
     "name": "stdout",
     "output_type": "stream",
     "text": [
      "------------------------------------------------------\n",
      "Inferred types from first 100 line(s) of file as \n",
      "column_type_hints=[long,long,float,float,float,long,long,long,long,float,float,float,float,float,float,float,float,float,float,long,long,long,long,float,float,float,float,float,float,float,float,float,float,long,long,long,long,float,float,float,float,float,float,float,float,float,float,float,float,float,float,float,float,float,float,float,float,float,float,float,float,float,float,float,float,float,float,float,float,float,float,float,float,float,float,float,float,float,float,float,float,float,float,float,float,float,float,float,float,float,float,float,float,float,float,float,float,float,float,float,float,float,float,float,float,float,float,float,float,float,float,float,float,float,float,float,float,float,float,float,float,float,float,float,float,float,float,float,float,float,float,float,float,long]\n",
      "If parsing fails due to incorrect types, you can correct\n",
      "the inferred type list above and pass it to read_csv in\n",
      "the column_type_hints argument\n",
      "------------------------------------------------------\n"
     ]
    },
    {
     "data": {
      "text/html": [
       "<pre>Finished parsing file C:\\Users\\llonini\\Projects\\Datasets\\Cbrace\\HealthyData.csv</pre>"
      ],
      "text/plain": [
       "Finished parsing file C:\\Users\\llonini\\Projects\\Datasets\\Cbrace\\HealthyData.csv"
      ]
     },
     "metadata": {},
     "output_type": "display_data"
    },
    {
     "data": {
      "text/html": [
       "<pre>Parsing completed. Parsed 8375 lines in 0.168833 secs.</pre>"
      ],
      "text/plain": [
       "Parsing completed. Parsed 8375 lines in 0.168833 secs."
      ]
     },
     "metadata": {},
     "output_type": "display_data"
    },
    {
     "data": {
      "text/html": [
       "<pre>Finished parsing file C:\\Users\\llonini\\Projects\\Datasets\\Cbrace\\PatientCBRData.csv</pre>"
      ],
      "text/plain": [
       "Finished parsing file C:\\Users\\llonini\\Projects\\Datasets\\Cbrace\\PatientCBRData.csv"
      ]
     },
     "metadata": {},
     "output_type": "display_data"
    },
    {
     "data": {
      "text/html": [
       "<pre>Parsing completed. Parsed 100 lines in 0.906459 secs.</pre>"
      ],
      "text/plain": [
       "Parsing completed. Parsed 100 lines in 0.906459 secs."
      ]
     },
     "metadata": {},
     "output_type": "display_data"
    },
    {
     "name": "stdout",
     "output_type": "stream",
     "text": [
      "------------------------------------------------------\n",
      "Inferred types from first 100 line(s) of file as \n",
      "column_type_hints=[long,long,float,float,float,long,long,long,long,float,float,float,float,float,float,float,float,float,float,long,long,long,long,float,float,float,float,float,float,float,float,float,float,long,long,long,long,float,float,float,float,float,float,float,float,float,float,float,float,float,float,float,float,float,float,float,float,float,float,float,float,float,float,float,float,float,float,float,float,float,float,float,float,float,float,float,float,float,float,float,float,float,float,float,float,float,float,float,float,float,float,float,float,float,float,float,float,float,float,float,float,float,float,float,float,float,float,float,float,float,float,float,float,float,float,float,float,float,float,float,float,float,float,float,float,float,float,float,float,float,float,float,float,long]\n",
      "If parsing fails due to incorrect types, you can correct\n",
      "the inferred type list above and pass it to read_csv in\n",
      "the column_type_hints argument\n",
      "------------------------------------------------------\n"
     ]
    },
    {
     "data": {
      "text/html": [
       "<pre>Finished parsing file C:\\Users\\llonini\\Projects\\Datasets\\Cbrace\\PatientCBRData.csv</pre>"
      ],
      "text/plain": [
       "Finished parsing file C:\\Users\\llonini\\Projects\\Datasets\\Cbrace\\PatientCBRData.csv"
      ]
     },
     "metadata": {},
     "output_type": "display_data"
    },
    {
     "data": {
      "text/html": [
       "<pre>Parsing completed. Parsed 22354 lines in 0.415123 secs.</pre>"
      ],
      "text/plain": [
       "Parsing completed. Parsed 22354 lines in 0.415123 secs."
      ]
     },
     "metadata": {},
     "output_type": "display_data"
    },
    {
     "data": {
      "text/html": [
       "<pre>Finished parsing file C:\\Users\\llonini\\Projects\\Datasets\\Cbrace\\PatientSCOData.csv</pre>"
      ],
      "text/plain": [
       "Finished parsing file C:\\Users\\llonini\\Projects\\Datasets\\Cbrace\\PatientSCOData.csv"
      ]
     },
     "metadata": {},
     "output_type": "display_data"
    },
    {
     "data": {
      "text/html": [
       "<pre>Parsing completed. Parsed 100 lines in 0.759993 secs.</pre>"
      ],
      "text/plain": [
       "Parsing completed. Parsed 100 lines in 0.759993 secs."
      ]
     },
     "metadata": {},
     "output_type": "display_data"
    },
    {
     "name": "stdout",
     "output_type": "stream",
     "text": [
      "------------------------------------------------------\n",
      "Inferred types from first 100 line(s) of file as \n",
      "column_type_hints=[long,long,float,float,float,long,long,long,long,float,float,float,float,float,float,float,float,float,float,long,long,long,long,float,float,float,float,float,float,float,float,float,float,long,long,long,long,float,float,float,float,float,float,float,float,float,float,float,float,float,float,float,float,float,float,float,float,float,float,float,float,float,float,float,float,float,float,float,float,float,float,float,float,float,float,float,float,float,float,float,float,float,float,float,float,float,float,float,float,float,float,float,float,float,float,float,float,float,float,float,float,float,float,float,float,float,float,float,float,float,float,float,float,float,float,float,float,float,float,float,float,float,float,float,float,float,float,float,float,float,float,float,float,long]\n",
      "If parsing fails due to incorrect types, you can correct\n",
      "the inferred type list above and pass it to read_csv in\n",
      "the column_type_hints argument\n",
      "------------------------------------------------------\n"
     ]
    },
    {
     "data": {
      "text/html": [
       "<pre>Finished parsing file C:\\Users\\llonini\\Projects\\Datasets\\Cbrace\\PatientSCOData.csv</pre>"
      ],
      "text/plain": [
       "Finished parsing file C:\\Users\\llonini\\Projects\\Datasets\\Cbrace\\PatientSCOData.csv"
      ]
     },
     "metadata": {},
     "output_type": "display_data"
    },
    {
     "data": {
      "text/html": [
       "<pre>Parsing completed. Parsed 18762 lines in 0.308342 secs.</pre>"
      ],
      "text/plain": [
       "Parsing completed. Parsed 18762 lines in 0.308342 secs."
      ]
     },
     "metadata": {},
     "output_type": "display_data"
    }
   ],
   "source": [
    "HealthyData = graphlab.SFrame.read_csv('../../Datasets/Cbrace/HealthyData.csv')\n",
    "CBRData = graphlab.SFrame.read_csv('../../Datasets/Cbrace/PatientCBRData.csv')\n",
    "SCOData = graphlab.SFrame.read_csv('../../Datasets/Cbrace/PatientSCOData.csv')"
   ]
  },
  {
   "cell_type": "code",
   "execution_count": 4,
   "metadata": {
    "collapsed": false
   },
   "outputs": [
    {
     "data": {
      "text/html": [
       "<div style=\"max-height:1000px;max-width:1500px;overflow:auto;\"><table frame=\"box\" rules=\"cols\">\n",
       "    <tr>\n",
       "        <th style=\"padding-left: 1em; padding-right: 1em; text-align: center\">SubjID</th>\n",
       "        <th style=\"padding-left: 1em; padding-right: 1em; text-align: center\">Session</th>\n",
       "        <th style=\"padding-left: 1em; padding-right: 1em; text-align: center\">Features_  1</th>\n",
       "        <th style=\"padding-left: 1em; padding-right: 1em; text-align: center\">Features_  2</th>\n",
       "        <th style=\"padding-left: 1em; padding-right: 1em; text-align: center\">Features_  3</th>\n",
       "        <th style=\"padding-left: 1em; padding-right: 1em; text-align: center\">Features_  4</th>\n",
       "        <th style=\"padding-left: 1em; padding-right: 1em; text-align: center\">Features_  5</th>\n",
       "        <th style=\"padding-left: 1em; padding-right: 1em; text-align: center\">Features_  6</th>\n",
       "        <th style=\"padding-left: 1em; padding-right: 1em; text-align: center\">Features_  7</th>\n",
       "    </tr>\n",
       "    <tr>\n",
       "        <td style=\"padding-left: 1em; padding-right: 1em; text-align: center; vertical-align: top\">1</td>\n",
       "        <td style=\"padding-left: 1em; padding-right: 1em; text-align: center; vertical-align: top\">1</td>\n",
       "        <td style=\"padding-left: 1em; padding-right: 1em; text-align: center; vertical-align: top\">0.051382320442</td>\n",
       "        <td style=\"padding-left: 1em; padding-right: 1em; text-align: center; vertical-align: top\">0.6076</td>\n",
       "        <td style=\"padding-left: 1em; padding-right: 1em; text-align: center; vertical-align: top\">0.196</td>\n",
       "        <td style=\"padding-left: 1em; padding-right: 1em; text-align: center; vertical-align: top\">0</td>\n",
       "        <td style=\"padding-left: 1em; padding-right: 1em; text-align: center; vertical-align: top\">181</td>\n",
       "        <td style=\"padding-left: 1em; padding-right: 1em; text-align: center; vertical-align: top\">0</td>\n",
       "        <td style=\"padding-left: 1em; padding-right: 1em; text-align: center; vertical-align: top\">0</td>\n",
       "    </tr>\n",
       "    <tr>\n",
       "        <td style=\"padding-left: 1em; padding-right: 1em; text-align: center; vertical-align: top\">1</td>\n",
       "        <td style=\"padding-left: 1em; padding-right: 1em; text-align: center; vertical-align: top\">1</td>\n",
       "        <td style=\"padding-left: 1em; padding-right: 1em; text-align: center; vertical-align: top\">0.0253933701657</td>\n",
       "        <td style=\"padding-left: 1em; padding-right: 1em; text-align: center; vertical-align: top\">0.6076</td>\n",
       "        <td style=\"padding-left: 1em; padding-right: 1em; text-align: center; vertical-align: top\">0.1176</td>\n",
       "        <td style=\"padding-left: 1em; padding-right: 1em; text-align: center; vertical-align: top\">0</td>\n",
       "        <td style=\"padding-left: 1em; padding-right: 1em; text-align: center; vertical-align: top\">178</td>\n",
       "        <td style=\"padding-left: 1em; padding-right: 1em; text-align: center; vertical-align: top\">3</td>\n",
       "        <td style=\"padding-left: 1em; padding-right: 1em; text-align: center; vertical-align: top\">0</td>\n",
       "    </tr>\n",
       "    <tr>\n",
       "        <td style=\"padding-left: 1em; padding-right: 1em; text-align: center; vertical-align: top\">1</td>\n",
       "        <td style=\"padding-left: 1em; padding-right: 1em; text-align: center; vertical-align: top\">1</td>\n",
       "        <td style=\"padding-left: 1em; padding-right: 1em; text-align: center; vertical-align: top\">0.0248519337017</td>\n",
       "        <td style=\"padding-left: 1em; padding-right: 1em; text-align: center; vertical-align: top\">0.49</td>\n",
       "        <td style=\"padding-left: 1em; padding-right: 1em; text-align: center; vertical-align: top\">0.1176</td>\n",
       "        <td style=\"padding-left: 1em; padding-right: 1em; text-align: center; vertical-align: top\">0</td>\n",
       "        <td style=\"padding-left: 1em; padding-right: 1em; text-align: center; vertical-align: top\">181</td>\n",
       "        <td style=\"padding-left: 1em; padding-right: 1em; text-align: center; vertical-align: top\">0</td>\n",
       "        <td style=\"padding-left: 1em; padding-right: 1em; text-align: center; vertical-align: top\">0</td>\n",
       "    </tr>\n",
       "    <tr>\n",
       "        <td style=\"padding-left: 1em; padding-right: 1em; text-align: center; vertical-align: top\">1</td>\n",
       "        <td style=\"padding-left: 1em; padding-right: 1em; text-align: center; vertical-align: top\">1</td>\n",
       "        <td style=\"padding-left: 1em; padding-right: 1em; text-align: center; vertical-align: top\">0.0465635359116</td>\n",
       "        <td style=\"padding-left: 1em; padding-right: 1em; text-align: center; vertical-align: top\">0.3136</td>\n",
       "        <td style=\"padding-left: 1em; padding-right: 1em; text-align: center; vertical-align: top\">0.0784</td>\n",
       "        <td style=\"padding-left: 1em; padding-right: 1em; text-align: center; vertical-align: top\">0</td>\n",
       "        <td style=\"padding-left: 1em; padding-right: 1em; text-align: center; vertical-align: top\">181</td>\n",
       "        <td style=\"padding-left: 1em; padding-right: 1em; text-align: center; vertical-align: top\">0</td>\n",
       "        <td style=\"padding-left: 1em; padding-right: 1em; text-align: center; vertical-align: top\">0</td>\n",
       "    </tr>\n",
       "</table>\n",
       "<table frame=\"box\" rules=\"cols\">\n",
       "    <tr>\n",
       "        <th style=\"padding-left: 1em; padding-right: 1em; text-align: center\">Features_  8</th>\n",
       "        <th style=\"padding-left: 1em; padding-right: 1em; text-align: center\">Features_  9</th>\n",
       "        <th style=\"padding-left: 1em; padding-right: 1em; text-align: center\">Features_ 10</th>\n",
       "        <th style=\"padding-left: 1em; padding-right: 1em; text-align: center\">Features_ 11</th>\n",
       "        <th style=\"padding-left: 1em; padding-right: 1em; text-align: center\">Features_ 12</th>\n",
       "        <th style=\"padding-left: 1em; padding-right: 1em; text-align: center\">Features_ 13</th>\n",
       "    </tr>\n",
       "    <tr>\n",
       "        <td style=\"padding-left: 1em; padding-right: 1em; text-align: center; vertical-align: top\">0.112454267826</td>\n",
       "        <td style=\"padding-left: 1em; padding-right: 1em; text-align: center; vertical-align: top\">-0.294668590342</td>\n",
       "        <td style=\"padding-left: 1em; padding-right: 1em; text-align: center; vertical-align: top\">2.38556796968</td>\n",
       "        <td style=\"padding-left: 1em; padding-right: 1em; text-align: center; vertical-align: top\">-0.000653333333333</td>\n",
       "        <td style=\"padding-left: 1em; padding-right: 1em; text-align: center; vertical-align: top\">0.072657333349</td>\n",
       "        <td style=\"padding-left: 1em; padding-right: 1em; text-align: center; vertical-align: top\">0.181289226345</td>\n",
       "    </tr>\n",
       "    <tr>\n",
       "        <td style=\"padding-left: 1em; padding-right: 1em; text-align: center; vertical-align: top\">0.0983200079119</td>\n",
       "        <td style=\"padding-left: 1em; padding-right: 1em; text-align: center; vertical-align: top\">0.0523105353163</td>\n",
       "        <td style=\"padding-left: 1em; padding-right: 1em; text-align: center; vertical-align: top\">3.41100727695</td>\n",
       "        <td style=\"padding-left: 1em; padding-right: 1em; text-align: center; vertical-align: top\">-0.000435555555556</td>\n",
       "        <td style=\"padding-left: 1em; padding-right: 1em; text-align: center; vertical-align: top\">0.0780695955254</td>\n",
       "        <td style=\"padding-left: 1em; padding-right: 1em; text-align: center; vertical-align: top\">0.180121837472</td>\n",
       "    </tr>\n",
       "    <tr>\n",
       "        <td style=\"padding-left: 1em; padding-right: 1em; text-align: center; vertical-align: top\">0.0841222692085</td>\n",
       "        <td style=\"padding-left: 1em; padding-right: 1em; text-align: center; vertical-align: top\">-0.592549758023</td>\n",
       "        <td style=\"padding-left: 1em; padding-right: 1em; text-align: center; vertical-align: top\">3.41421963842</td>\n",
       "        <td style=\"padding-left: 1em; padding-right: 1em; text-align: center; vertical-align: top\">0.000653333333333</td>\n",
       "        <td style=\"padding-left: 1em; padding-right: 1em; text-align: center; vertical-align: top\">0.0698793552525</td>\n",
       "        <td style=\"padding-left: 1em; padding-right: 1em; text-align: center; vertical-align: top\">0.24648779524</td>\n",
       "    </tr>\n",
       "    <tr>\n",
       "        <td style=\"padding-left: 1em; padding-right: 1em; text-align: center; vertical-align: top\">0.0654386480834</td>\n",
       "        <td style=\"padding-left: 1em; padding-right: 1em; text-align: center; vertical-align: top\">-1.01056633159</td>\n",
       "        <td style=\"padding-left: 1em; padding-right: 1em; text-align: center; vertical-align: top\">3.65404790008</td>\n",
       "        <td style=\"padding-left: 1em; padding-right: 1em; text-align: center; vertical-align: top\">0.000217777777778</td>\n",
       "        <td style=\"padding-left: 1em; padding-right: 1em; text-align: center; vertical-align: top\">0.0504932952633</td>\n",
       "        <td style=\"padding-left: 1em; padding-right: 1em; text-align: center; vertical-align: top\">0.225561487781</td>\n",
       "    </tr>\n",
       "</table>\n",
       "<table frame=\"box\" rules=\"cols\">\n",
       "    <tr>\n",
       "        <th style=\"padding-left: 1em; padding-right: 1em; text-align: center\">Features_ 14</th>\n",
       "        <th style=\"padding-left: 1em; padding-right: 1em; text-align: center\">Features_ 15</th>\n",
       "        <th style=\"padding-left: 1em; padding-right: 1em; text-align: center\">Features_ 16</th>\n",
       "        <th style=\"padding-left: 1em; padding-right: 1em; text-align: center\">Features_ 17</th>\n",
       "        <th style=\"padding-left: 1em; padding-right: 1em; text-align: center\">Features_ 18</th>\n",
       "        <th style=\"padding-left: 1em; padding-right: 1em; text-align: center\">Features_ 19</th>\n",
       "        <th style=\"padding-left: 1em; padding-right: 1em; text-align: center\">Features_ 20</th>\n",
       "        <th style=\"padding-left: 1em; padding-right: 1em; text-align: center\">Features_ 21</th>\n",
       "    </tr>\n",
       "    <tr>\n",
       "        <td style=\"padding-left: 1em; padding-right: 1em; text-align: center; vertical-align: top\">4.849714754</td>\n",
       "        <td style=\"padding-left: 1em; padding-right: 1em; text-align: center; vertical-align: top\">7.08929834254</td>\n",
       "        <td style=\"padding-left: 1em; padding-right: 1em; text-align: center; vertical-align: top\">0.7644</td>\n",
       "        <td style=\"padding-left: 1em; padding-right: 1em; text-align: center; vertical-align: top\">0.539</td>\n",
       "        <td style=\"padding-left: 1em; padding-right: 1em; text-align: center; vertical-align: top\">0</td>\n",
       "        <td style=\"padding-left: 1em; padding-right: 1em; text-align: center; vertical-align: top\">0</td>\n",
       "        <td style=\"padding-left: 1em; padding-right: 1em; text-align: center; vertical-align: top\">0</td>\n",
       "        <td style=\"padding-left: 1em; padding-right: 1em; text-align: center; vertical-align: top\">0</td>\n",
       "    </tr>\n",
       "    <tr>\n",
       "        <td style=\"padding-left: 1em; padding-right: 1em; text-align: center; vertical-align: top\">3.89013448447</td>\n",
       "        <td style=\"padding-left: 1em; padding-right: 1em; text-align: center; vertical-align: top\">6.99232707182</td>\n",
       "        <td style=\"padding-left: 1em; padding-right: 1em; text-align: center; vertical-align: top\">0.7644</td>\n",
       "        <td style=\"padding-left: 1em; padding-right: 1em; text-align: center; vertical-align: top\">0.1568</td>\n",
       "        <td style=\"padding-left: 1em; padding-right: 1em; text-align: center; vertical-align: top\">0</td>\n",
       "        <td style=\"padding-left: 1em; padding-right: 1em; text-align: center; vertical-align: top\">0</td>\n",
       "        <td style=\"padding-left: 1em; padding-right: 1em; text-align: center; vertical-align: top\">0</td>\n",
       "        <td style=\"padding-left: 1em; padding-right: 1em; text-align: center; vertical-align: top\">0</td>\n",
       "    </tr>\n",
       "    <tr>\n",
       "        <td style=\"padding-left: 1em; padding-right: 1em; text-align: center; vertical-align: top\">4.91346159405</td>\n",
       "        <td style=\"padding-left: 1em; padding-right: 1em; text-align: center; vertical-align: top\">6.98496353591</td>\n",
       "        <td style=\"padding-left: 1em; padding-right: 1em; text-align: center; vertical-align: top\">0.49</td>\n",
       "        <td style=\"padding-left: 1em; padding-right: 1em; text-align: center; vertical-align: top\">0.1176</td>\n",
       "        <td style=\"padding-left: 1em; padding-right: 1em; text-align: center; vertical-align: top\">0</td>\n",
       "        <td style=\"padding-left: 1em; padding-right: 1em; text-align: center; vertical-align: top\">0</td>\n",
       "        <td style=\"padding-left: 1em; padding-right: 1em; text-align: center; vertical-align: top\">0</td>\n",
       "        <td style=\"padding-left: 1em; padding-right: 1em; text-align: center; vertical-align: top\">0</td>\n",
       "    </tr>\n",
       "    <tr>\n",
       "        <td style=\"padding-left: 1em; padding-right: 1em; text-align: center; vertical-align: top\">4.15285973332</td>\n",
       "        <td style=\"padding-left: 1em; padding-right: 1em; text-align: center; vertical-align: top\">7.01284751381</td>\n",
       "        <td style=\"padding-left: 1em; padding-right: 1em; text-align: center; vertical-align: top\">0.3136</td>\n",
       "        <td style=\"padding-left: 1em; padding-right: 1em; text-align: center; vertical-align: top\">0.0392</td>\n",
       "        <td style=\"padding-left: 1em; padding-right: 1em; text-align: center; vertical-align: top\">0</td>\n",
       "        <td style=\"padding-left: 1em; padding-right: 1em; text-align: center; vertical-align: top\">0</td>\n",
       "        <td style=\"padding-left: 1em; padding-right: 1em; text-align: center; vertical-align: top\">0</td>\n",
       "        <td style=\"padding-left: 1em; padding-right: 1em; text-align: center; vertical-align: top\">0</td>\n",
       "    </tr>\n",
       "</table>\n",
       "<table frame=\"box\" rules=\"cols\">\n",
       "    <tr>\n",
       "        <th style=\"padding-left: 1em; padding-right: 1em; text-align: center\">Features_ 22</th>\n",
       "        <th style=\"padding-left: 1em; padding-right: 1em; text-align: center\">Features_ 23</th>\n",
       "        <th style=\"padding-left: 1em; padding-right: 1em; text-align: center\">Features_ 24</th>\n",
       "        <th style=\"padding-left: 1em; padding-right: 1em; text-align: center\">Features_ 25</th>\n",
       "        <th style=\"padding-left: 1em; padding-right: 1em; text-align: center\">Features_ 26</th>\n",
       "        <th style=\"padding-left: 1em; padding-right: 1em; text-align: center\">Features_ 27</th>\n",
       "    </tr>\n",
       "    <tr>\n",
       "        <td style=\"padding-left: 1em; padding-right: 1em; text-align: center; vertical-align: top\">0.252559348905</td>\n",
       "        <td style=\"padding-left: 1em; padding-right: 1em; text-align: center; vertical-align: top\">0.441806399998</td>\n",
       "        <td style=\"padding-left: 1em; padding-right: 1em; text-align: center; vertical-align: top\">1.50225147456</td>\n",
       "        <td style=\"padding-left: 1em; padding-right: 1em; text-align: center; vertical-align: top\">-0.00234111111111</td>\n",
       "        <td style=\"padding-left: 1em; padding-right: 1em; text-align: center; vertical-align: top\">0.0614360391284</td>\n",
       "        <td style=\"padding-left: 1em; padding-right: 1em; text-align: center; vertical-align: top\">-0.350425643783</td>\n",
       "    </tr>\n",
       "    <tr>\n",
       "        <td style=\"padding-left: 1em; padding-right: 1em; text-align: center; vertical-align: top\">0.163775773499</td>\n",
       "        <td style=\"padding-left: 1em; padding-right: 1em; text-align: center; vertical-align: top\">1.35066706204</td>\n",
       "        <td style=\"padding-left: 1em; padding-right: 1em; text-align: center; vertical-align: top\">4.8748955425</td>\n",
       "        <td style=\"padding-left: 1em; padding-right: 1em; text-align: center; vertical-align: top\">-0.00190555555556</td>\n",
       "        <td style=\"padding-left: 1em; padding-right: 1em; text-align: center; vertical-align: top\">0.0682046491004</td>\n",
       "        <td style=\"padding-left: 1em; padding-right: 1em; text-align: center; vertical-align: top\">-0.272877559768</td>\n",
       "    </tr>\n",
       "    <tr>\n",
       "        <td style=\"padding-left: 1em; padding-right: 1em; text-align: center; vertical-align: top\">0.0861118742405</td>\n",
       "        <td style=\"padding-left: 1em; padding-right: 1em; text-align: center; vertical-align: top\">-0.935385885979</td>\n",
       "        <td style=\"padding-left: 1em; padding-right: 1em; text-align: center; vertical-align: top\">4.09906709893</td>\n",
       "        <td style=\"padding-left: 1em; padding-right: 1em; text-align: center; vertical-align: top\">0.0</td>\n",
       "        <td style=\"padding-left: 1em; padding-right: 1em; text-align: center; vertical-align: top\">0.061650817028</td>\n",
       "        <td style=\"padding-left: 1em; padding-right: 1em; text-align: center; vertical-align: top\">0.00567046879142</td>\n",
       "    </tr>\n",
       "    <tr>\n",
       "        <td style=\"padding-left: 1em; padding-right: 1em; text-align: center; vertical-align: top\">0.0628676683988</td>\n",
       "        <td style=\"padding-left: 1em; padding-right: 1em; text-align: center; vertical-align: top\">-0.924831026921</td>\n",
       "        <td style=\"padding-left: 1em; padding-right: 1em; text-align: center; vertical-align: top\">3.34203744561</td>\n",
       "        <td style=\"padding-left: 1em; padding-right: 1em; text-align: center; vertical-align: top\">0.000653333333333</td>\n",
       "        <td style=\"padding-left: 1em; padding-right: 1em; text-align: center; vertical-align: top\">0.048583233193</td>\n",
       "        <td style=\"padding-left: 1em; padding-right: 1em; text-align: center; vertical-align: top\">-0.20819575962</td>\n",
       "    </tr>\n",
       "</table>\n",
       "<table frame=\"box\" rules=\"cols\">\n",
       "    <tr>\n",
       "        <th style=\"padding-left: 1em; padding-right: 1em; text-align: center\">Features_ 28</th>\n",
       "        <th style=\"padding-left: 1em; padding-right: 1em; text-align: center\">Features_ 29</th>\n",
       "        <th style=\"padding-left: 1em; padding-right: 1em; text-align: center\">Features_ 30</th>\n",
       "        <th style=\"padding-left: 1em; padding-right: 1em; text-align: center\">Features_ 31</th>\n",
       "        <th style=\"padding-left: 1em; padding-right: 1em; text-align: center\">Features_ 32</th>\n",
       "        <th style=\"padding-left: 1em; padding-right: 1em; text-align: center\">Features_ 33</th>\n",
       "        <th style=\"padding-left: 1em; padding-right: 1em; text-align: center\">Features_ 34</th>\n",
       "        <th style=\"padding-left: 1em; padding-right: 1em; text-align: center\">Features_ 35</th>\n",
       "    </tr>\n",
       "    <tr>\n",
       "        <td style=\"padding-left: 1em; padding-right: 1em; text-align: center; vertical-align: top\">5.98909461353</td>\n",
       "        <td style=\"padding-left: 1em; padding-right: 1em; text-align: center; vertical-align: top\">8.27022541436</td>\n",
       "        <td style=\"padding-left: 1em; padding-right: 1em; text-align: center; vertical-align: top\">0.8428</td>\n",
       "        <td style=\"padding-left: 1em; padding-right: 1em; text-align: center; vertical-align: top\">0.4606</td>\n",
       "        <td style=\"padding-left: 1em; padding-right: 1em; text-align: center; vertical-align: top\">0</td>\n",
       "        <td style=\"padding-left: 1em; padding-right: 1em; text-align: center; vertical-align: top\">0</td>\n",
       "        <td style=\"padding-left: 1em; padding-right: 1em; text-align: center; vertical-align: top\">0</td>\n",
       "        <td style=\"padding-left: 1em; padding-right: 1em; text-align: center; vertical-align: top\">0</td>\n",
       "    </tr>\n",
       "    <tr>\n",
       "        <td style=\"padding-left: 1em; padding-right: 1em; text-align: center; vertical-align: top\">4.35673213621</td>\n",
       "        <td style=\"padding-left: 1em; padding-right: 1em; text-align: center; vertical-align: top\">8.34927513812</td>\n",
       "        <td style=\"padding-left: 1em; padding-right: 1em; text-align: center; vertical-align: top\">0.8428</td>\n",
       "        <td style=\"padding-left: 1em; padding-right: 1em; text-align: center; vertical-align: top\">0.147</td>\n",
       "        <td style=\"padding-left: 1em; padding-right: 1em; text-align: center; vertical-align: top\">0</td>\n",
       "        <td style=\"padding-left: 1em; padding-right: 1em; text-align: center; vertical-align: top\">0</td>\n",
       "        <td style=\"padding-left: 1em; padding-right: 1em; text-align: center; vertical-align: top\">0</td>\n",
       "        <td style=\"padding-left: 1em; padding-right: 1em; text-align: center; vertical-align: top\">0</td>\n",
       "    </tr>\n",
       "    <tr>\n",
       "        <td style=\"padding-left: 1em; padding-right: 1em; text-align: center; vertical-align: top\">4.06132460327</td>\n",
       "        <td style=\"padding-left: 1em; padding-right: 1em; text-align: center; vertical-align: top\">8.35820883978</td>\n",
       "        <td style=\"padding-left: 1em; padding-right: 1em; text-align: center; vertical-align: top\">0.735</td>\n",
       "        <td style=\"padding-left: 1em; padding-right: 1em; text-align: center; vertical-align: top\">0.0784</td>\n",
       "        <td style=\"padding-left: 1em; padding-right: 1em; text-align: center; vertical-align: top\">0</td>\n",
       "        <td style=\"padding-left: 1em; padding-right: 1em; text-align: center; vertical-align: top\">0</td>\n",
       "        <td style=\"padding-left: 1em; padding-right: 1em; text-align: center; vertical-align: top\">0</td>\n",
       "        <td style=\"padding-left: 1em; padding-right: 1em; text-align: center; vertical-align: top\">0</td>\n",
       "    </tr>\n",
       "    <tr>\n",
       "        <td style=\"padding-left: 1em; padding-right: 1em; text-align: center; vertical-align: top\">3.52215990866</td>\n",
       "        <td style=\"padding-left: 1em; padding-right: 1em; text-align: center; vertical-align: top\">8.33557679558</td>\n",
       "        <td style=\"padding-left: 1em; padding-right: 1em; text-align: center; vertical-align: top\">0.343</td>\n",
       "        <td style=\"padding-left: 1em; padding-right: 1em; text-align: center; vertical-align: top\">0.0392</td>\n",
       "        <td style=\"padding-left: 1em; padding-right: 1em; text-align: center; vertical-align: top\">0</td>\n",
       "        <td style=\"padding-left: 1em; padding-right: 1em; text-align: center; vertical-align: top\">0</td>\n",
       "        <td style=\"padding-left: 1em; padding-right: 1em; text-align: center; vertical-align: top\">0</td>\n",
       "        <td style=\"padding-left: 1em; padding-right: 1em; text-align: center; vertical-align: top\">0</td>\n",
       "    </tr>\n",
       "</table>\n",
       "<table frame=\"box\" rules=\"cols\">\n",
       "    <tr>\n",
       "        <th style=\"padding-left: 1em; padding-right: 1em; text-align: center\">Features_ 36</th>\n",
       "        <th style=\"padding-left: 1em; padding-right: 1em; text-align: center\">Features_ 37</th>\n",
       "        <th style=\"padding-left: 1em; padding-right: 1em; text-align: center\">Features_ 38</th>\n",
       "        <th style=\"padding-left: 1em; padding-right: 1em; text-align: center\">...</th>\n",
       "    </tr>\n",
       "    <tr>\n",
       "        <td style=\"padding-left: 1em; padding-right: 1em; text-align: center; vertical-align: top\">0.219706356595</td>\n",
       "        <td style=\"padding-left: 1em; padding-right: 1em; text-align: center; vertical-align: top\">-0.127990349631</td>\n",
       "        <td style=\"padding-left: 1em; padding-right: 1em; text-align: center; vertical-align: top\">1.71927560428</td>\n",
       "        <td style=\"padding-left: 1em; padding-right: 1em; text-align: center; vertical-align: top\">...</td>\n",
       "    </tr>\n",
       "    <tr>\n",
       "        <td style=\"padding-left: 1em; padding-right: 1em; text-align: center; vertical-align: top\">0.155590412767</td>\n",
       "        <td style=\"padding-left: 1em; padding-right: 1em; text-align: center; vertical-align: top\">-0.639652012448</td>\n",
       "        <td style=\"padding-left: 1em; padding-right: 1em; text-align: center; vertical-align: top\">4.13275290921</td>\n",
       "        <td style=\"padding-left: 1em; padding-right: 1em; text-align: center; vertical-align: top\">...</td>\n",
       "    </tr>\n",
       "    <tr>\n",
       "        <td style=\"padding-left: 1em; padding-right: 1em; text-align: center; vertical-align: top\">0.0925837130462</td>\n",
       "        <td style=\"padding-left: 1em; padding-right: 1em; text-align: center; vertical-align: top\">1.03393366067</td>\n",
       "        <td style=\"padding-left: 1em; padding-right: 1em; text-align: center; vertical-align: top\">7.73592612692</td>\n",
       "        <td style=\"padding-left: 1em; padding-right: 1em; text-align: center; vertical-align: top\">...</td>\n",
       "    </tr>\n",
       "    <tr>\n",
       "        <td style=\"padding-left: 1em; padding-right: 1em; text-align: center; vertical-align: top\">0.0506722377716</td>\n",
       "        <td style=\"padding-left: 1em; padding-right: 1em; text-align: center; vertical-align: top\">1.05044494342</td>\n",
       "        <td style=\"padding-left: 1em; padding-right: 1em; text-align: center; vertical-align: top\">4.46466722648</td>\n",
       "        <td style=\"padding-left: 1em; padding-right: 1em; text-align: center; vertical-align: top\">...</td>\n",
       "    </tr>\n",
       "</table>\n",
       "[4 rows x 134 columns]<br/>\n",
       "</div>"
      ],
      "text/plain": [
       "Columns:\n",
       "\tSubjID\tint\n",
       "\tSession\tint\n",
       "\tFeatures_  1\tfloat\n",
       "\tFeatures_  2\tfloat\n",
       "\tFeatures_  3\tfloat\n",
       "\tFeatures_  4\tint\n",
       "\tFeatures_  5\tint\n",
       "\tFeatures_  6\tint\n",
       "\tFeatures_  7\tint\n",
       "\tFeatures_  8\tfloat\n",
       "\tFeatures_  9\tfloat\n",
       "\tFeatures_ 10\tfloat\n",
       "\tFeatures_ 11\tfloat\n",
       "\tFeatures_ 12\tfloat\n",
       "\tFeatures_ 13\tfloat\n",
       "\tFeatures_ 14\tfloat\n",
       "\tFeatures_ 15\tfloat\n",
       "\tFeatures_ 16\tfloat\n",
       "\tFeatures_ 17\tfloat\n",
       "\tFeatures_ 18\tint\n",
       "\tFeatures_ 19\tint\n",
       "\tFeatures_ 20\tint\n",
       "\tFeatures_ 21\tint\n",
       "\tFeatures_ 22\tfloat\n",
       "\tFeatures_ 23\tfloat\n",
       "\tFeatures_ 24\tfloat\n",
       "\tFeatures_ 25\tfloat\n",
       "\tFeatures_ 26\tfloat\n",
       "\tFeatures_ 27\tfloat\n",
       "\tFeatures_ 28\tfloat\n",
       "\tFeatures_ 29\tfloat\n",
       "\tFeatures_ 30\tfloat\n",
       "\tFeatures_ 31\tfloat\n",
       "\tFeatures_ 32\tint\n",
       "\tFeatures_ 33\tint\n",
       "\tFeatures_ 34\tint\n",
       "\tFeatures_ 35\tint\n",
       "\tFeatures_ 36\tfloat\n",
       "\tFeatures_ 37\tfloat\n",
       "\tFeatures_ 38\tfloat\n",
       "\tFeatures_ 39\tfloat\n",
       "\tFeatures_ 40\tfloat\n",
       "\tFeatures_ 41\tfloat\n",
       "\tFeatures_ 42\tfloat\n",
       "\tFeatures_ 43\tfloat\n",
       "\tFeatures_ 44\tfloat\n",
       "\tFeatures_ 45\tfloat\n",
       "\tFeatures_ 46\tfloat\n",
       "\tFeatures_ 47\tfloat\n",
       "\tFeatures_ 48\tfloat\n",
       "\tFeatures_ 49\tfloat\n",
       "\tFeatures_ 50\tfloat\n",
       "\tFeatures_ 51\tfloat\n",
       "\tFeatures_ 52\tfloat\n",
       "\tFeatures_ 53\tfloat\n",
       "\tFeatures_ 54\tfloat\n",
       "\tFeatures_ 55\tfloat\n",
       "\tFeatures_ 56\tfloat\n",
       "\tFeatures_ 57\tfloat\n",
       "\tFeatures_ 58\tfloat\n",
       "\tFeatures_ 59\tfloat\n",
       "\tFeatures_ 60\tfloat\n",
       "\tFeatures_ 61\tfloat\n",
       "\tFeatures_ 62\tfloat\n",
       "\tFeatures_ 63\tfloat\n",
       "\tFeatures_ 64\tfloat\n",
       "\tFeatures_ 65\tfloat\n",
       "\tFeatures_ 66\tfloat\n",
       "\tFeatures_ 67\tfloat\n",
       "\tFeatures_ 68\tfloat\n",
       "\tFeatures_ 69\tfloat\n",
       "\tFeatures_ 70\tfloat\n",
       "\tFeatures_ 71\tfloat\n",
       "\tFeatures_ 72\tfloat\n",
       "\tFeatures_ 73\tfloat\n",
       "\tFeatures_ 74\tfloat\n",
       "\tFeatures_ 75\tfloat\n",
       "\tFeatures_ 76\tfloat\n",
       "\tFeatures_ 77\tfloat\n",
       "\tFeatures_ 78\tfloat\n",
       "\tFeatures_ 79\tfloat\n",
       "\tFeatures_ 80\tfloat\n",
       "\tFeatures_ 81\tfloat\n",
       "\tFeatures_ 82\tfloat\n",
       "\tFeatures_ 83\tfloat\n",
       "\tFeatures_ 84\tfloat\n",
       "\tFeatures_ 85\tfloat\n",
       "\tFeatures_ 86\tfloat\n",
       "\tFeatures_ 87\tfloat\n",
       "\tFeatures_ 88\tfloat\n",
       "\tFeatures_ 89\tfloat\n",
       "\tFeatures_ 90\tfloat\n",
       "\tFeatures_ 91\tfloat\n",
       "\tFeatures_ 92\tfloat\n",
       "\tFeatures_ 93\tfloat\n",
       "\tFeatures_ 94\tfloat\n",
       "\tFeatures_ 95\tfloat\n",
       "\tFeatures_ 96\tfloat\n",
       "\tFeatures_ 97\tfloat\n",
       "\tFeatures_ 98\tfloat\n",
       "\tFeatures_ 99\tfloat\n",
       "\tFeatures_100\tfloat\n",
       "\tFeatures_101\tfloat\n",
       "\tFeatures_102\tfloat\n",
       "\tFeatures_103\tfloat\n",
       "\tFeatures_104\tfloat\n",
       "\tFeatures_105\tfloat\n",
       "\tFeatures_106\tfloat\n",
       "\tFeatures_107\tfloat\n",
       "\tFeatures_108\tfloat\n",
       "\tFeatures_109\tfloat\n",
       "\tFeatures_110\tfloat\n",
       "\tFeatures_111\tfloat\n",
       "\tFeatures_112\tfloat\n",
       "\tFeatures_113\tfloat\n",
       "\tFeatures_114\tfloat\n",
       "\tFeatures_115\tfloat\n",
       "\tFeatures_116\tfloat\n",
       "\tFeatures_117\tfloat\n",
       "\tFeatures_118\tfloat\n",
       "\tFeatures_119\tfloat\n",
       "\tFeatures_120\tfloat\n",
       "\tFeatures_121\tfloat\n",
       "\tFeatures_122\tfloat\n",
       "\tFeatures_123\tfloat\n",
       "\tFeatures_124\tfloat\n",
       "\tFeatures_125\tfloat\n",
       "\tFeatures_126\tfloat\n",
       "\tFeatures_127\tfloat\n",
       "\tFeatures_128\tfloat\n",
       "\tFeatures_129\tfloat\n",
       "\tFeatures_130\tfloat\n",
       "\tFeatures_131\tfloat\n",
       "\tLabel\tint\n",
       "\n",
       "Rows: 4\n",
       "\n",
       "Data:\n",
       "+--------+---------+-----------------+--------------+--------------+--------------+\n",
       "| SubjID | Session |   Features_  1  | Features_  2 | Features_  3 | Features_  4 |\n",
       "+--------+---------+-----------------+--------------+--------------+--------------+\n",
       "|   1    |    1    |  0.051382320442 |    0.6076    |    0.196     |      0       |\n",
       "|   1    |    1    | 0.0253933701657 |    0.6076    |    0.1176    |      0       |\n",
       "|   1    |    1    | 0.0248519337017 |     0.49     |    0.1176    |      0       |\n",
       "|   1    |    1    | 0.0465635359116 |    0.3136    |    0.0784    |      0       |\n",
       "+--------+---------+-----------------+--------------+--------------+--------------+\n",
       "+--------------+--------------+--------------+-----------------+-----------------+\n",
       "| Features_  5 | Features_  6 | Features_  7 |   Features_  8  |   Features_  9  |\n",
       "+--------------+--------------+--------------+-----------------+-----------------+\n",
       "|     181      |      0       |      0       |  0.112454267826 | -0.294668590342 |\n",
       "|     178      |      3       |      0       | 0.0983200079119 | 0.0523105353163 |\n",
       "|     181      |      0       |      0       | 0.0841222692085 | -0.592549758023 |\n",
       "|     181      |      0       |      0       | 0.0654386480834 |  -1.01056633159 |\n",
       "+--------------+--------------+--------------+-----------------+-----------------+\n",
       "+---------------+--------------------+-----------------+----------------+\n",
       "|  Features_ 10 |    Features_ 11    |   Features_ 12  |  Features_ 13  |\n",
       "+---------------+--------------------+-----------------+----------------+\n",
       "| 2.38556796968 | -0.000653333333333 |  0.072657333349 | 0.181289226345 |\n",
       "| 3.41100727695 | -0.000435555555556 | 0.0780695955254 | 0.180121837472 |\n",
       "| 3.41421963842 | 0.000653333333333  | 0.0698793552525 | 0.24648779524  |\n",
       "| 3.65404790008 | 0.000217777777778  | 0.0504932952633 | 0.225561487781 |\n",
       "+---------------+--------------------+-----------------+----------------+\n",
       "+---------------+---------------+--------------+--------------+--------------+-----+\n",
       "|  Features_ 14 |  Features_ 15 | Features_ 16 | Features_ 17 | Features_ 18 | ... |\n",
       "+---------------+---------------+--------------+--------------+--------------+-----+\n",
       "|  4.849714754  | 7.08929834254 |    0.7644    |    0.539     |      0       | ... |\n",
       "| 3.89013448447 | 6.99232707182 |    0.7644    |    0.1568    |      0       | ... |\n",
       "| 4.91346159405 | 6.98496353591 |     0.49     |    0.1176    |      0       | ... |\n",
       "| 4.15285973332 | 7.01284751381 |    0.3136    |    0.0392    |      0       | ... |\n",
       "+---------------+---------------+--------------+--------------+--------------+-----+\n",
       "[4 rows x 134 columns]"
      ]
     },
     "execution_count": 4,
     "metadata": {},
     "output_type": "execute_result"
    }
   ],
   "source": [
    "CBRData.head(4)"
   ]
  },
  {
   "cell_type": "code",
   "execution_count": 5,
   "metadata": {
    "collapsed": false
   },
   "outputs": [
    {
     "name": "stdout",
     "output_type": "stream",
     "text": [
      "[51L, 52L, 53L, 54L, 55L, 56L, 57L, 58L, 59L, 60L, 61L]\n",
      "[1L, 2L, 5L, 6L, 8L, 11L, 12L, 13L, 14L, 15L, 16L, 19L]\n"
     ]
    }
   ],
   "source": [
    "HealthyCodes = HealthyData['SubjID'].unique()\n",
    "HealthyCodes = HealthyCodes.sort()\n",
    "print HealthyCodes\n",
    "PatientCodes = CBRData['SubjID'].unique()\n",
    "PatientCodes = PatientCodes.sort()\n",
    "print PatientCodes"
   ]
  },
  {
   "cell_type": "code",
   "execution_count": 6,
   "metadata": {
    "collapsed": true
   },
   "outputs": [],
   "source": [
    "PatientCodes = np.array([1, 2, 5, 6, 8, 11, 14, 15, 16, 19]) #all patients with 4 sessions in CBR"
   ]
  },
  {
   "cell_type": "markdown",
   "metadata": {},
   "source": [
    "### Optional: Remove stair climbing from patients who don't have stairs in all CBR sessions\n",
    "* Following patients don't have stairs in all 4 sessions (08,11,14,15,19)"
   ]
  },
  {
   "cell_type": "code",
   "execution_count": 82,
   "metadata": {
    "collapsed": true
   },
   "outputs": [],
   "source": [
    "Nostairs = [8,11,14,15,19]"
   ]
  },
  {
   "cell_type": "code",
   "execution_count": 83,
   "metadata": {
    "collapsed": false
   },
   "outputs": [
    {
     "name": "stdout",
     "output_type": "stream",
     "text": [
      "1 [0L, 1L, 2L, 3L, 4L]\n",
      "2 [0L, 1L, 2L, 3L, 4L]\n",
      "5 [0L, 1L, 2L, 3L, 4L]\n",
      "6 [0L, 1L, 2L, 3L, 4L]\n",
      "8 [0L, 3L, 4L]\n",
      "11 [0L, 3L, 4L]\n",
      "14 [0L, 3L, 4L]\n",
      "15 [0L, 3L, 4L]\n",
      "16 [0L, 1L, 2L, 3L, 4L]\n",
      "19 [0L, 3L, 4L]\n"
     ]
    }
   ],
   "source": [
    "CBRDatanew = CBRData.filter_by(Nostairs,'SubjID',exclude=True)\n",
    "for s in Nostairs:\n",
    "    data = CBRData[(CBRData['SubjID']==s)].filter_by([0,3,4],'Label')\n",
    "    CBRDatanew=CBRDatanew.append(data)\n",
    "\n",
    "for s in PatientCodes:\n",
    "    print s,CBRDatanew[CBRDatanew['SubjID']==s]['Label'].unique().sort()"
   ]
  },
  {
   "cell_type": "code",
   "execution_count": 19,
   "metadata": {
    "collapsed": false
   },
   "outputs": [],
   "source": [
    "#CBRData = CBRDatanew"
   ]
  },
  {
   "cell_type": "markdown",
   "metadata": {},
   "source": [
    "* Check which patients have stairs in SCO data"
   ]
  },
  {
   "cell_type": "code",
   "execution_count": 84,
   "metadata": {
    "collapsed": false
   },
   "outputs": [
    {
     "name": "stdout",
     "output_type": "stream",
     "text": [
      "1 [0 1 2 3 4]\n",
      "2 [0 1 2 3 4]\n",
      "5 [0 1 2 3 4]\n",
      "6 [0 1 2 3 4]\n",
      "8 [0 1 2 3 4]\n",
      "11 [0 1 2 3 4]\n",
      "14 [0 1 2 3 4]\n",
      "15 [0 1 2 3 4]\n",
      "16 [0 1 2 3 4]\n",
      "19 [0 1 2 3 4]\n"
     ]
    }
   ],
   "source": [
    "for s in PatientCodes:\n",
    "    print s,np.unique(SCOData[SCOData['SubjID']==s]['Label'])"
   ]
  },
  {
   "cell_type": "markdown",
   "metadata": {},
   "source": [
    "* All patients have at least one session with stairs in their SCO data"
   ]
  },
  {
   "cell_type": "markdown",
   "metadata": {},
   "source": [
    "* Check sessions in which patients have stairs for SCO and CBR data"
   ]
  },
  {
   "cell_type": "code",
   "execution_count": 20,
   "metadata": {
    "collapsed": false
   },
   "outputs": [
    {
     "name": "stdout",
     "output_type": "stream",
     "text": [
      "1 1 [0 1 2 3 4]\n",
      "1 2 [0 1 2 3 4]\n",
      "1 3 [0 1 2 3 4]\n",
      "1 4 [0 1 2 3 4]\n",
      "2 1 [0 1 2 3 4]\n",
      "2 2 [0 1 2 3 4]\n",
      "2 3 [0 3 4]\n",
      "2 4 [0 1 2 3 4]\n",
      "5 1 [0 3 4]\n",
      "5 2 [0 1 2 3 4]\n",
      "5 3 [0 1 2 3 4]\n",
      "6 1 [0 1 2 3 4]\n",
      "6 2 [0 1 2 3 4]\n",
      "6 3 [0 1 2 3 4]\n",
      "6 4 [0 1 2 3 4]\n",
      "8 1 [0 1 2 3 4]\n",
      "8 2 [0 3 4]\n",
      "8 3 [0 3 4]\n",
      "8 4 [0 3 4]\n",
      "11 1 [0 3 4]\n",
      "11 2 [0 3 4]\n",
      "11 3 [0 3 4]\n",
      "11 4 [0 1 2 3 4]\n",
      "14 1 [0 1 2 3 4]\n",
      "14 2 [0 1 2 3 4]\n",
      "14 3 [0 1 2 3 4]\n",
      "14 4 [0 1 2 3 4]\n",
      "15 1 [0 3 4]\n",
      "15 2 [0 3 4]\n",
      "15 3 [0 1 2 3 4]\n",
      "16 1 [0 1 2 3 4]\n",
      "16 2 [0 3 4]\n",
      "16 3 [0 1 2 3 4]\n",
      "16 4 [0 1 2 3 4]\n",
      "19 1 [0 3 4]\n",
      "19 2 [0 1 2 3 4]\n",
      "19 3 [0 3 4]\n"
     ]
    }
   ],
   "source": [
    "for s in PatientCodes:\n",
    "    data = SCOData[SCOData['SubjID']==s]\n",
    "    for sess in np.unique(data['Session']):\n",
    "        print s,sess,np.unique(data[data['Session']==sess]['Label'].unique().sort())\n"
   ]
  },
  {
   "cell_type": "code",
   "execution_count": 19,
   "metadata": {
    "collapsed": false,
    "scrolled": true
   },
   "outputs": [
    {
     "name": "stdout",
     "output_type": "stream",
     "text": [
      "1 1 [0 1 2 3 4]\n",
      "1 2 [0 1 2 3 4]\n",
      "1 3 [0 1 2 3 4]\n",
      "1 4 [0 1 2 3 4]\n",
      "2 1 [0 1 2 3 4]\n",
      "2 2 [0 1 2 3 4]\n",
      "2 3 [0 1 2 3 4]\n",
      "2 4 [0 1 2 3 4]\n",
      "5 1 [0 1 2 3 4]\n",
      "5 2 [0 1 2 3 4]\n",
      "5 3 [0 1 2 3 4]\n",
      "5 4 [0 1 2 3 4]\n",
      "6 1 [0 1 3 4]\n",
      "6 2 [0 1 2 3 4]\n",
      "6 3 [0 1 2 3 4]\n",
      "6 4 [0 1 2 3 4]\n",
      "8 1 [0 3 4]\n",
      "8 2 [0 3 4]\n",
      "8 3 [0 3 4]\n",
      "8 4 [0 1 2 3 4]\n",
      "11 1 [0 3 4]\n",
      "11 2 [0 1 2 3 4]\n",
      "11 3 [0 1 2 3 4]\n",
      "11 4 [0 1 2 3 4]\n",
      "14 1 [0 3 4]\n",
      "14 2 [0 3 4]\n",
      "14 3 [0 1 2 3 4]\n",
      "14 4 [0 1 2 3 4]\n",
      "15 1 [0 3 4]\n",
      "15 2 [0 1 2 3 4]\n",
      "15 3 [0 3 4]\n",
      "15 4 [0 1 2 3 4]\n",
      "16 1 [0 1 2 3 4]\n",
      "16 2 [0 1 2 3 4]\n",
      "16 3 [0 1 2 3 4]\n",
      "16 4 [0 1 2 3 4]\n",
      "19 1 [0 3 4]\n",
      "19 2 [0 3 4]\n",
      "19 3 [0 3 4]\n",
      "19 4 [0 3 4]\n"
     ]
    }
   ],
   "source": [
    "for s in PatientCodes:\n",
    "    data = CBRData[CBRData['SubjID']==s]\n",
    "    for sess in np.unique(data['Session']):\n",
    "        print s,sess,np.unique(data[data['Session']==sess]['Label'].unique().sort())\n"
   ]
  },
  {
   "cell_type": "markdown",
   "metadata": {},
   "source": [
    "## Train RF on healthy "
   ]
  },
  {
   "cell_type": "code",
   "execution_count": 85,
   "metadata": {
    "collapsed": false
   },
   "outputs": [
    {
     "name": "stdout",
     "output_type": "stream",
     "text": [
      "Test on Patient 1\n",
      "Train samples = 8375, Test samples = 1288\n",
      "BAcc = 0.48\n",
      "Test on Patient 2\n",
      "Train samples = 8375, Test samples = 991\n",
      "BAcc = 0.36\n",
      "Test on Patient 5\n",
      "Train samples = 8375, Test samples = 1358\n",
      "BAcc = 0.48\n",
      "Test on Patient 6\n",
      "Train samples = 8375, Test samples = 2035\n",
      "BAcc = 0.55\n",
      "Test on Patient 8\n",
      "Train samples = 8375, Test samples = 856\n",
      "BAcc = 0.36\n",
      "Test on Patient 11\n",
      "Train samples = 8375, Test samples = 1253\n",
      "BAcc = 0.51\n",
      "Test on Patient 14\n",
      "Train samples = 8375, Test samples = 1658\n",
      "BAcc = 0.49\n",
      "Test on Patient 15\n",
      "Train samples = 8375, Test samples = 1906\n",
      "BAcc = 0.42\n",
      "Test on Patient 16\n",
      "Train samples = 8375, Test samples = 1126\n",
      "BAcc = 0.55\n",
      "Test on Patient 19\n",
      "Train samples = 8375, Test samples = 1020\n",
      "BAcc = 0.57\n",
      "\n",
      "median Bacc - Healthy model = 0.485833263437\n"
     ]
    }
   ],
   "source": [
    "col_names = HealthyData.column_names()\n",
    "label_cols = col_names[-1:] #the : is used to return a list with one element \n",
    "feature_cols = col_names[2:-1]\n",
    "\n",
    "Xtrain = HealthyData.select_columns(feature_cols).to_numpy()\n",
    "ytrain = HealthyData.select_columns(label_cols).to_numpy()\n",
    "ytrain = ytrain.reshape(-1) #to squeeze last dimension and obtain a 1D array\n",
    "\n",
    "RF = RandomForestClassifier(n_estimators=100)\n",
    "RF = RF.fit(Xtrain,ytrain)\n",
    "\n",
    "#test on each patient (CBR)\n",
    "SOacc = np.zeros(len(PatientCodes))\n",
    "acc_class_subj = [] #accuracy per class for each subject\n",
    "\n",
    "\n",
    "k = 0\n",
    "\n",
    "for s in PatientCodes:\n",
    "    test = CBRData[(CBRData['SubjID'] == s)  & (CBRData['Session'] != 4)] #keep out one session (used later for target)\n",
    "    Xtest = test.select_columns(feature_cols).to_numpy()\n",
    "    ytest = test.select_columns(label_cols).to_numpy()\n",
    "    ytest = ytest.reshape(-1) #to squeeze last dimension and obtain a 1D array\n",
    "\n",
    "    print 'Test on Patient %s'%s\n",
    "    print 'Train samples = %s, Test samples = %s'%(len(ytrain),len(ytest))\n",
    "    ypred = RF.predict(Xtest)\n",
    "\n",
    "    #acc = sum(ypred == ytest)/len(ytest)\n",
    "    #SOacc[k] = acc\n",
    "\n",
    "    #balanced accuracy\n",
    "    SOacc[k],acc_class = Balanced_acc(ypred,ytest)\n",
    "    acc_class_subj.append(acc_class)    \n",
    "    print 'BAcc = {:.2f}'.format(SOacc[k])\n",
    "    k = k+1\n",
    "\n",
    "print '\\nmedian Bacc - Healthy model = %s'%np.median(SOacc)"
   ]
  },
  {
   "cell_type": "markdown",
   "metadata": {},
   "source": [
    "## Impairment specific model SCO (Leave one subject out)"
   ]
  },
  {
   "cell_type": "code",
   "execution_count": 95,
   "metadata": {
    "collapsed": false
   },
   "outputs": [
    {
     "name": "stdout",
     "output_type": "stream",
     "text": [
      "Patient 1, Impairment specific (SCO) model - BAcc = 0.54\n",
      "Patient 2, Impairment specific (SCO) model - BAcc = 0.50\n",
      "Patient 5, Impairment specific (SCO) model - BAcc = 0.46\n",
      "Patient 6, Impairment specific (SCO) model - BAcc = 0.54\n",
      "Patient 8, Impairment specific (SCO) model - BAcc = 0.45\n",
      "Patient 11, Impairment specific (SCO) model - BAcc = 0.56\n",
      "Patient 14, Impairment specific (SCO) model - BAcc = 0.60\n",
      "Patient 15, Impairment specific (SCO) model - BAcc = 0.58\n",
      "Patient 16, Impairment specific (SCO) model - BAcc = 0.53\n",
      "Patient 19, Impairment specific (SCO) model - BAcc = 0.88\n",
      "Median BAcc - Impairment Specific (SCO) = 0.537576383294\n"
     ]
    }
   ],
   "source": [
    "ISpec_acc = np.zeros(len(PatientCodes)) \n",
    "k = 0\n",
    "for s in PatientCodes:\n",
    "    \n",
    "    train = SCOData[(SCOData['SubjID'] != s)]\n",
    "    test = CBRData[(CBRData['SubjID'] == s) & (CBRData['Session'] != 4)] #test on 3 CBR sessions\n",
    "    Nclasses = len(train['Label'].unique()) #How many activities we have for this patient\n",
    "\n",
    "    Xtrain = train.select_columns(feature_cols).to_numpy()\n",
    "    ytrain = train.select_columns(label_cols).to_numpy()\n",
    "    ytrain = ytrain.reshape(-1)\n",
    "    Xtest = test.select_columns(feature_cols).to_numpy()\n",
    "    ytest = test.select_columns(label_cols).to_numpy()\n",
    "    ytest = ytest.reshape(-1)\n",
    "    \n",
    "    RF = RandomForestClassifier(n_estimators=100)\n",
    "    RF = RF.fit(Xtrain,ytrain)\n",
    "    ypred = RF.predict(Xtest)\n",
    "    #acc = sum(ypred == ytest)/len(ytest)\n",
    "    #balanced accuracy\n",
    "    ISpec_acc[k],acc_class = Balanced_acc(ypred,ytest)\n",
    "    acc_class_subj.append(acc_class)   \n",
    "    print 'Patient {}, Impairment specific (SCO) model - BAcc = {:.2f}'.format(s,ISpec_acc[k])\n",
    "    k = k+1\n",
    "\n",
    "print 'Median BAcc - Impairment Specific (SCO) = %s'%np.median(ISpec_acc)"
   ]
  },
  {
   "cell_type": "markdown",
   "metadata": {},
   "source": [
    "## Impairment specific model CBR (Leave one subject out)"
   ]
  },
  {
   "cell_type": "code",
   "execution_count": 96,
   "metadata": {
    "collapsed": false
   },
   "outputs": [
    {
     "name": "stdout",
     "output_type": "stream",
     "text": [
      "Patient 1, Global CBR model - BAcc = 0.62\n",
      "Patient 2, Global CBR model - BAcc = 0.48\n",
      "Patient 5, Global CBR model - BAcc = 0.56\n",
      "Patient 6, Global CBR model - BAcc = 0.57\n",
      "Patient 8, Global CBR model - BAcc = 0.53\n",
      "Patient 11, Global CBR model - BAcc = 0.58\n",
      "Patient 14, Global CBR model - BAcc = 0.58\n",
      "Patient 15, Global CBR model - BAcc = 0.60\n",
      "Patient 16, Global CBR model - BAcc = 0.57\n",
      "Patient 19, Global CBR model - BAcc = 0.89\n",
      "Median BAcc - Global CBR model = 0.574706747924\n"
     ]
    }
   ],
   "source": [
    "ISpecCBR_acc = np.zeros(len(PatientCodes)) \n",
    "k = 0\n",
    "for s in PatientCodes:\n",
    "    \n",
    "    train = CBRData[(CBRData['SubjID'] != s)]\n",
    "    test = CBRData[(CBRData['SubjID'] == s) & (CBRData['Session'] != 4)] #test on 3 CBR sessions\n",
    "    Nclasses = len(train['Label'].unique()) #How many activities we have for this patient\n",
    "\n",
    "    Xtrain = train.select_columns(feature_cols).to_numpy()\n",
    "    ytrain = train.select_columns(label_cols).to_numpy()\n",
    "    ytrain = ytrain.reshape(-1)\n",
    "    Xtest = test.select_columns(feature_cols).to_numpy()\n",
    "    ytest = test.select_columns(label_cols).to_numpy()\n",
    "    ytest = ytest.reshape(-1)\n",
    "    \n",
    "    RF = RandomForestClassifier(n_estimators=100,random_state=0)\n",
    "    RF = RF.fit(Xtrain,ytrain)\n",
    "    ypred = RF.predict(Xtest)\n",
    "    #acc = sum(ypred == ytest)/len(ytest)\n",
    "    #balanced accuracy\n",
    "    ISpecCBR_acc[k],acc_class = Balanced_acc(ypred,ytest)\n",
    "    acc_class_subj.append(acc_class)   \n",
    "    print 'Patient {}, Global CBR model - BAcc = {:.2f}'.format(s,ISpecCBR_acc[k])\n",
    "    k = k+1\n",
    "\n",
    "print 'Median BAcc - Global CBR model = %s'%np.median(ISpecCBR_acc)"
   ]
  },
  {
   "cell_type": "markdown",
   "metadata": {},
   "source": [
    "## Train on SCO and test on CBR (Patient Specific model) "
   ]
  },
  {
   "cell_type": "code",
   "execution_count": 102,
   "metadata": {
    "collapsed": false
   },
   "outputs": [
    {
     "name": "stdout",
     "output_type": "stream",
     "text": [
      "Patient 1, Nclasses = 5, Personal model (Trained on SCO) - BAcc = 0.71\n",
      "Patient 2, Nclasses = 5, Personal model (Trained on SCO) - BAcc = 0.50\n",
      "Patient 5, Nclasses = 5, Personal model (Trained on SCO) - BAcc = 0.66\n",
      "Patient 6, Nclasses = 5, Personal model (Trained on SCO) - BAcc = 0.54\n",
      "Patient 8, Nclasses = 3, Personal model (Trained on SCO) - BAcc = 0.71\n",
      "Patient 11, Nclasses = 5, Personal model (Trained on SCO) - BAcc = 0.47\n",
      "Patient 14, Nclasses = 5, Personal model (Trained on SCO) - BAcc = 0.52\n",
      "Patient 15, Nclasses = 5, Personal model (Trained on SCO) - BAcc = 0.42\n",
      "Patient 16, Nclasses = 5, Personal model (Trained on SCO) - BAcc = 0.48\n",
      "Patient 19, Nclasses = 3, Personal model (Trained on SCO) - BAcc = 0.74\n",
      "Median BAcc - Patient Specific (SCO) = 0.52854943857\n"
     ]
    }
   ],
   "source": [
    "PSpec_acc = np.zeros(len(PatientCodes)) \n",
    "k = 0\n",
    "for s in PatientCodes:\n",
    "    \n",
    "    train = SCOData[(SCOData['SubjID'] == s)]\n",
    "    test = CBRData[(CBRData['SubjID'] == s) & (CBRData['Session'] != 4)]\n",
    "    Nclasses = len(test['Label'].unique()) #How many activities we have for this patient\n",
    "\n",
    "    Xtrain = train.select_columns(feature_cols).to_numpy()\n",
    "    ytrain = train.select_columns(label_cols).to_numpy()\n",
    "    ytrain = ytrain.reshape(-1)\n",
    "    Xtest = test.select_columns(feature_cols).to_numpy()\n",
    "    ytest = test.select_columns(label_cols).to_numpy()\n",
    "    ytest = ytest.reshape(-1)\n",
    "    \n",
    "    RF = RandomForestClassifier(n_estimators=50)\n",
    "    RF = RF.fit(Xtrain,ytrain)\n",
    "    ypred = RF.predict(Xtest)\n",
    "    #acc = sum(ypred == ytest)/len(ytest)\n",
    "    #balanced accuracy\n",
    "    PSpec_acc[k],acc_class = Balanced_acc(ypred,ytest)\n",
    "    \n",
    "    print 'Patient {}, Nclasses = {}, Personal model (Trained on SCO) - BAcc = {:.2f}'.format(s,Nclasses,PSpec_acc[k])\n",
    "    k = k+1\n",
    "\n",
    "print 'Median BAcc - Patient Specific (SCO) = %s'%np.median(PSpec_acc)"
   ]
  },
  {
   "cell_type": "markdown",
   "metadata": {},
   "source": [
    "## Train and test on CBR - Device specific model (CBR)\n",
    "* Leave One Session Out of CBR \n",
    "* Keep out 1 session (#4) for target"
   ]
  },
  {
   "cell_type": "code",
   "execution_count": 103,
   "metadata": {
    "collapsed": false
   },
   "outputs": [
    {
     "name": "stdout",
     "output_type": "stream",
     "text": [
      "0.725367965368\n",
      "0.82981072094\n",
      "0.846109691653\n",
      "Patient 1, Device Specific model - BAcc = 0.80\n",
      "0.731255382867\n",
      "0.525760055833\n",
      "0.727296126266\n",
      "Patient 2, Device Specific model - BAcc = 0.66\n",
      "0.736384441753\n",
      "0.561959666975\n",
      "0.598804012536\n",
      "Patient 5, Device Specific model - BAcc = 0.63\n",
      "0.667389478646\n",
      "0.585918834888\n",
      "0.567933000054\n",
      "Patient 6, Device Specific model - BAcc = 0.61\n",
      "0.925177845528\n",
      "0.702176462137\n",
      "0.942361866551\n",
      "Patient 8, Device Specific model - BAcc = 0.86\n",
      "0.95025140953\n",
      "0.583071441865\n",
      "0.609741867044\n",
      "Patient 11, Device Specific model - BAcc = 0.71\n",
      "0.98545850701\n",
      "0.990572257384\n",
      "0.574267399267\n",
      "Patient 14, Device Specific model - BAcc = 0.85\n",
      "0.951020622896\n",
      "0.568789283307\n",
      "0.99198644788\n",
      "Patient 15, Device Specific model - BAcc = 0.84\n",
      "0.631941012441\n",
      "0.657935662498\n",
      "0.775184219153\n",
      "Patient 16, Device Specific model - BAcc = 0.69\n",
      "0.54763491006\n",
      "0.981369432195\n",
      "0.770778736551\n",
      "Patient 19, Device Specific model - BAcc = 0.77\n",
      "Median BAcc - Device Specific (CBR) = 0.740474632874\n"
     ]
    }
   ],
   "source": [
    "DSpec_acc = np.zeros(len(PatientCodes)) \n",
    "k = 0\n",
    "for s in PatientCodes:\n",
    "    \n",
    "    data =  CBRData[(CBRData['SubjID'] == s) & (CBRData['Session'] != 4)] #keep out 1 session for target\n",
    "    Bacc = np.zeros(3)\n",
    "    for session in range(1,4):\n",
    "                  \n",
    "        test = data[data['Session'] == session]\n",
    "        train = data[data['Session'] != session]\n",
    "        Nclasses = len(test['Label'].unique()) #How many activities we have for this patient\n",
    "\n",
    "        Xtrain = train.select_columns(feature_cols).to_numpy()\n",
    "        ytrain = train.select_columns(label_cols).to_numpy()\n",
    "        ytrain = ytrain.reshape(-1)\n",
    "        Xtest = test.select_columns(feature_cols).to_numpy()\n",
    "        ytest = test.select_columns(label_cols).to_numpy()\n",
    "        ytest = ytest.reshape(-1)\n",
    "\n",
    "        RF = RandomForestClassifier(n_estimators=50)\n",
    "        RF = RF.fit(Xtrain,ytrain)\n",
    "        ypred = RF.predict(Xtest)\n",
    "        #acc = sum(ypred == ytest)/len(ytest)\n",
    "        #balanced accuracy\n",
    "        Bacc[session-1],acc_class = Balanced_acc(ypred,ytest)\n",
    "        print Bacc[session-1]\n",
    "\n",
    "    DSpec_acc[k] = Bacc.mean() #the CV BAcc on 3 session \n",
    "    print 'Patient {}, Device Specific model - BAcc = {:.2f}'.format(s,DSpec_acc[k])\n",
    "    k = k+1\n",
    "\n",
    "print 'Median BAcc - Device Specific (CBR) = %s'%np.median(DSpec_acc)"
   ]
  },
  {
   "cell_type": "code",
   "execution_count": 100,
   "metadata": {
    "collapsed": false
   },
   "outputs": [
    {
     "name": "stdout",
     "output_type": "stream",
     "text": [
      "[[ 0.47526525  0.53606491  0.70635756  0.810877  ]\n",
      " [ 0.36063675  0.49733055  0.50881787  0.65280518]\n",
      " [ 0.48004495  0.46099644  0.65623359  0.64992855]\n",
      " [ 0.55116184  0.53908786  0.53863606  0.60315514]\n",
      " [ 0.35515544  0.45150789  0.71108308  0.84267854]\n",
      " [ 0.51300985  0.5636338   0.46233764  0.68254092]\n",
      " [ 0.49162157  0.60161512  0.50509914  0.84415917]\n",
      " [ 0.41777058  0.57888872  0.48117362  0.81351295]\n",
      " [ 0.54500879  0.52586827  0.47180157  0.657297  ]\n",
      " [ 0.56512249  0.88307578  0.72797706  0.7456988 ]]\n"
     ]
    }
   ],
   "source": [
    "acc_all=np.vstack((SOacc,ISpec_acc,PSpec_acc,DSpec_acc)).T\n",
    "print acc_all"
   ]
  },
  {
   "cell_type": "code",
   "execution_count": 101,
   "metadata": {
    "collapsed": false
   },
   "outputs": [
    {
     "data": {
      "text/plain": [
       "<function matplotlib.pyplot.show>"
      ]
     },
     "execution_count": 101,
     "metadata": {},
     "output_type": "execute_result"
    },
    {
     "data": {
      "image/png": "[encoded data removed]",
      "text/plain": [
       "<matplotlib.figure.Figure at 0x81bc978>"
      ]
     },
     "metadata": {},
     "output_type": "display_data"
    }
   ],
   "source": [
    "plt.boxplot(acc_all)\n",
    "plt.show"
   ]
  },
  {
   "cell_type": "code",
   "execution_count": 91,
   "metadata": {
    "collapsed": false
   },
   "outputs": [
    {
     "data": {
      "text/plain": [
       "0.48583326343716116"
      ]
     },
     "execution_count": 91,
     "metadata": {},
     "output_type": "execute_result"
    }
   ],
   "source": [
    "np.median(SOacc)"
   ]
  },
  {
   "cell_type": "code",
   "execution_count": 92,
   "metadata": {
    "collapsed": false
   },
   "outputs": [
    {
     "data": {
      "text/plain": [
       "0.54303794835874197"
      ]
     },
     "execution_count": 92,
     "metadata": {},
     "output_type": "execute_result"
    }
   ],
   "source": [
    "np.median(ISpec_acc)"
   ]
  },
  {
   "cell_type": "code",
   "execution_count": 93,
   "metadata": {
    "collapsed": false
   },
   "outputs": [
    {
     "data": {
      "text/plain": [
       "0.53132645221479224"
      ]
     },
     "execution_count": 93,
     "metadata": {},
     "output_type": "execute_result"
    }
   ],
   "source": [
    "np.median(PSpec_acc)"
   ]
  },
  {
   "cell_type": "code",
   "execution_count": 94,
   "metadata": {
    "collapsed": false
   },
   "outputs": [
    {
     "data": {
      "text/plain": [
       "0.72544900011338287"
      ]
     },
     "execution_count": 94,
     "metadata": {},
     "output_type": "execute_result"
    }
   ],
   "source": [
    "np.median(DSpec_acc)"
   ]
  },
  {
   "cell_type": "code",
   "execution_count": 104,
   "metadata": {
    "collapsed": true
   },
   "outputs": [],
   "source": [
    "np.savetxt('results.csv', acc_all, delimiter=',') "
   ]
  }
 ],
 "metadata": {
  "kernelspec": {
   "display_name": "Python 2",
   "language": "python",
   "name": "python2"
  },
  "language_info": {
   "codemirror_mode": {
    "name": "ipython",
    "version": 2
   },
   "file_extension": ".py",
   "mimetype": "text/x-python",
   "name": "python",
   "nbconvert_exporter": "python",
   "pygments_lexer": "ipython2",
   "version": "2.7.11"
  }
 },
 "nbformat": 4,
 "nbformat_minor": 0
}
