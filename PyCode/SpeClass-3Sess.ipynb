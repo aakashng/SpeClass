{
 "cells": [
  {
   "cell_type": "code",
   "execution_count": 1,
   "metadata": {
    "collapsed": true
   },
   "outputs": [],
   "source": [
    "from __future__ import division\n",
    "import numpy as np\n",
    "from sklearn.datasets import make_classification\n",
    "from sklearn.cross_validation import train_test_split\n",
    "from sklearn.metrics import confusion_matrix\n",
    "from sklearn.ensemble import RandomForestClassifier\n",
    "from sklearn.tree import DecisionTreeClassifier\n",
    "import matplotlib.pyplot as plt\n",
    "%matplotlib inline\n",
    "import graphlab\n",
    "import scipy #to save mat files\n",
    "import time  #to time code"
   ]
  },
  {
   "cell_type": "code",
   "execution_count": 2,
   "metadata": {
    "collapsed": true
   },
   "outputs": [],
   "source": [
    "#balanced accuracy\n",
    "def Balanced_acc(ypred,ytest):\n",
    "    acc_c = 0\n",
    "    acc_class = np.zeros(5) #the accuracy per class\n",
    "    for c in np.unique(ytest):\n",
    "        i = ytest == c\n",
    "        correct = ypred[i] == ytest[i]\n",
    "        acc_c += sum(correct)/len(correct)\n",
    "        acc_class[c] = sum(correct)/len(correct)\n",
    "\n",
    "    Bacc = acc_c/len(np.unique(ytest))\n",
    "    return Bacc,acc_class\n",
    "\n",
    "def plot_confusion_matrix(cm, title='Confusion matrix', cmap=plt.cm.Blues):\n",
    "    plt.imshow(cm, interpolation='nearest', cmap=cmap)\n",
    "    plt.title(title)\n",
    "    plt.colorbar()\n",
    "    tick_marks = np.arange(5)\n",
    "    plt.xticks(tick_marks, ['Sit','StairsDw','StairsUp','Stand','Walk'], rotation=45)\n",
    "    plt.yticks(tick_marks, ['Sit','StairsDw','StairsUp','Stand','Walk'])\n",
    "    plt.tight_layout()\n",
    "    plt.ylabel('True label')\n",
    "    plt.xlabel('Predicted label')\n",
    "    \n",
    "def prec_rec(cmat):\n",
    "    tpfp = cmat.sum(axis=1)\n",
    "    tpfn = cmat.sum(axis=0)\n",
    "    prec = cmat.diagonal()/tpfp\n",
    "    recall = cmat.diagonal()/tpfn\n",
    "    return prec,recall"
   ]
  },
  {
   "cell_type": "markdown",
   "metadata": {},
   "source": [
    "### Load Data"
   ]
  },
  {
   "cell_type": "code",
   "execution_count": 3,
   "metadata": {
    "collapsed": false
   },
   "outputs": [
    {
     "name": "stdout",
     "output_type": "stream",
     "text": [
      "This non-commercial license of GraphLab Create for academic use is assigned to llonini@ricres.org and will expire on October 14, 2017.\n"
     ]
    },
    {
     "name": "stderr",
     "output_type": "stream",
     "text": [
      "[INFO] graphlab.cython.cy_server: GraphLab Create v2.1 started. Logging: /tmp/graphlab_server_1476807430.log\n"
     ]
    }
   ],
   "source": [
    "HealthyData = graphlab.SFrame.read_csv('../../Datasets/Cbrace/HealthyData.csv',verbose=False)\n",
    "CBRData = graphlab.SFrame.read_csv('../../Datasets/Cbrace/CBRData3Sess.csv',verbose=False)\n",
    "SCOData = graphlab.SFrame.read_csv('../../Datasets/Cbrace/SCOData3Sess.csv',verbose=False)"
   ]
  },
  {
   "cell_type": "code",
   "execution_count": 4,
   "metadata": {
    "collapsed": false
   },
   "outputs": [
    {
     "name": "stdout",
     "output_type": "stream",
     "text": [
      "[51 52 53 54 55 56 57 58 59 60 61]\n",
      "[ 1  2  5  6  8 11 14 15 16 19 24]\n"
     ]
    }
   ],
   "source": [
    "HealthyCodes = HealthyData['SubjID'].unique()\n",
    "HealthyCodes = HealthyCodes.sort()\n",
    "HealthyCodes = HealthyCodes.to_numpy()\n",
    "print HealthyCodes\n",
    "PatientCodes = CBRData['SubjID'].unique()\n",
    "PatientCodes = PatientCodes.sort()\n",
    "PatientCodes = PatientCodes.to_numpy()\n",
    "print PatientCodes"
   ]
  },
  {
   "cell_type": "markdown",
   "metadata": {},
   "source": [
    "## Global Healthy model"
   ]
  },
  {
   "cell_type": "code",
   "execution_count": 5,
   "metadata": {
    "collapsed": false
   },
   "outputs": [
    {
     "name": "stdout",
     "output_type": "stream",
     "text": [
      "Test on Patient 1, Train samples=8375, Test samples=1288, Nclass test=5\n",
      "BAcc = 0.46\n",
      "Test on Patient 2, Train samples=8375, Test samples=991, Nclass test=5\n",
      "BAcc = 0.40\n",
      "Test on Patient 5, Train samples=8375, Test samples=1358, Nclass test=5\n",
      "BAcc = 0.46\n",
      "Test on Patient 6, Train samples=8375, Test samples=2246, Nclass test=5\n",
      "BAcc = 0.58\n",
      "Test on Patient 8, Train samples=8375, Test samples=856, Nclass test=3\n",
      "BAcc = 0.36\n",
      "Test on Patient 11, Train samples=8375, Test samples=1207, Nclass test=5\n",
      "BAcc = 0.54\n",
      "Test on Patient 14, Train samples=8375, Test samples=1778, Nclass test=5\n",
      "BAcc = 0.53\n",
      "Test on Patient 15, Train samples=8375, Test samples=3177, Nclass test=5\n",
      "BAcc = 0.54\n",
      "Test on Patient 16, Train samples=8375, Test samples=1126, Nclass test=5\n",
      "BAcc = 0.53\n",
      "Test on Patient 19, Train samples=8375, Test samples=1020, Nclass test=3\n",
      "BAcc = 0.55\n",
      "Test on Patient 24, Train samples=8375, Test samples=1449, Nclass test=5\n",
      "BAcc = 0.60\n",
      "\n",
      "median Bacc - Healthy model = 0.534000559836\n"
     ]
    }
   ],
   "source": [
    "col_names = HealthyData.column_names()\n",
    "label_cols = col_names[-1:] #the : is used to return a list with one element \n",
    "feature_cols = col_names[2:-1]\n",
    "\n",
    "Xtrain = HealthyData.select_columns(feature_cols).to_numpy()\n",
    "ytrain = HealthyData.select_columns(label_cols).to_numpy()\n",
    "ytrain = ytrain.reshape(-1) #to squeeze last dimension and obtain a 1D array\n",
    "\n",
    "RF = RandomForestClassifier(n_estimators=10,random_state=0)\n",
    "RF = RF.fit(Xtrain,ytrain)\n",
    "\n",
    "#test on each patient (CBR)\n",
    "SOacc = np.zeros(len(PatientCodes))\n",
    "acc_class_subj = [] #accuracy per class for each subject\n",
    "cmat_H = {} #store confusion mats, precision and recall for all subjects  \n",
    "prec_H = {} \n",
    "recall_H ={}\n",
    "k = 0\n",
    "\n",
    "for s in PatientCodes:\n",
    "    test = CBRData[(CBRData['SubjID'] == s)]\n",
    "    Xtest = test.select_columns(feature_cols).to_numpy()\n",
    "    ytest = test.select_columns(label_cols).to_numpy()\n",
    "    ytest = ytest.reshape(-1) #to squeeze last dimension and obtain a 1D array\n",
    "    Nclasses = len(test['Label'].unique()) #How many activities we have for this patient in test data\n",
    "\n",
    "    print 'Test on Patient %s, Train samples=%s, Test samples=%s, Nclass test=%s'%(s,len(ytrain),len(ytest),Nclasses)\n",
    "    ypred = RF.predict(Xtest)\n",
    "\n",
    "    #acc = sum(ypred == ytest)/len(ytest)\n",
    "    #SOacc[k] = acc\n",
    "\n",
    "    #balanced accuracy\n",
    "    SOacc[k],acc_class = Balanced_acc(ypred,ytest)\n",
    "    acc_class_subj.append(acc_class)  \n",
    "    \n",
    "    #confusion matrix\n",
    "    cmat = confusion_matrix(ytest, ypred,labels=[0,1,2,3,4]) #labels=[\"Sit\",\"Stairs Dw\",\"Stairs Up\",\"Stand\",\"Walk\"])\n",
    "    prec,recall = prec_rec(cmat)\n",
    "    #assemble data in dicts\n",
    "    key = 'S'+np.array_str(np.array(s)) #subj code\n",
    "    cmat_H.update({key:cmat})\n",
    "    prec_H.update({s:prec})\n",
    "    recall_H.update({s:recall})\n",
    "    \n",
    "    print 'BAcc = {:.2f}'.format(SOacc[k])\n",
    "    k = k+1\n",
    "\n",
    "print '\\nmedian Bacc - Healthy model = %s'%np.median(SOacc)\n",
    "\n",
    "#mean precision and recall per class\n",
    "prec_H_mean = np.nanmean(np.asarray(prec_H.values()),axis=0)\n",
    "rec_H_mean = np.nanmean(np.asarray(recall_H.values()),axis=0)\n",
    "#acc_class_subj_mean = np.nanmean(acc_class_subj,axis=0)"
   ]
  },
  {
   "cell_type": "code",
   "execution_count": 6,
   "metadata": {
    "collapsed": false
   },
   "outputs": [],
   "source": [
    "#save data\n",
    "#save the dict to matlab format \n",
    "scipy.io.savemat('cmatHealthy',cmat_H)\n",
    "np.savetxt('precisionHealthy.csv', prec_H_mean, delimiter=',') \n",
    "np.savetxt('recallHealthy.csv', rec_H_mean, delimiter=',') "
   ]
  },
  {
   "cell_type": "markdown",
   "metadata": {},
   "source": [
    "## Global model SCO (Leave one subject out)"
   ]
  },
  {
   "cell_type": "code",
   "execution_count": 7,
   "metadata": {
    "collapsed": false
   },
   "outputs": [
    {
     "name": "stdout",
     "output_type": "stream",
     "text": [
      "Patient 1, Nclass train = 5, Nclass test = 5, Nsamples train = 16679.0, Global SCO - BAcc = 0.52\n",
      "Patient 2, Nclass train = 5, Nclass test = 5, Nsamples train = 16200.0, Global SCO - BAcc = 0.50\n",
      "Patient 5, Nclass train = 5, Nclass test = 5, Nsamples train = 15238.0, Global SCO - BAcc = 0.51\n",
      "Patient 6, Nclass train = 5, Nclass test = 5, Nsamples train = 16538.0, Global SCO - BAcc = 0.57\n",
      "Patient 8, Nclass train = 5, Nclass test = 3, Nsamples train = 15432.0, Global SCO - BAcc = 0.46\n",
      "Patient 11, Nclass train = 5, Nclass test = 5, Nsamples train = 15978.0, Global SCO - BAcc = 0.53\n",
      "Patient 14, Nclass train = 5, Nclass test = 5, Nsamples train = 16008.0, Global SCO - BAcc = 0.60\n",
      "Patient 15, Nclass train = 5, Nclass test = 5, Nsamples train = 15751.0, Global SCO - BAcc = 0.57\n",
      "Patient 16, Nclass train = 5, Nclass test = 5, Nsamples train = 15430.0, Global SCO - BAcc = 0.56\n",
      "Patient 19, Nclass train = 5, Nclass test = 3, Nsamples train = 16359.0, Global SCO - BAcc = 0.83\n",
      "Patient 24, Nclass train = 5, Nclass test = 5, Nsamples train = 16527.0, Global SCO - BAcc = 0.59\n",
      "Median BAcc - Impairment Specific (SCO) = 0.555673336315\n",
      "Avg train size = 16012.7272727\n"
     ]
    }
   ],
   "source": [
    "ISpec_acc = np.zeros(len(PatientCodes)) \n",
    "Nsamples = np.zeros(len(PatientCodes))\n",
    "acc_class_subj = [] #accuracy per class for each subject\n",
    "\n",
    "cmat_ISpec = {} #store confusion mats, precision and recall for all subjects  \n",
    "prec_ISpec = {} \n",
    "recall_ISpec ={}\n",
    "\n",
    "k = 0\n",
    "for s in PatientCodes:\n",
    "    \n",
    "    train = SCOData[(SCOData['SubjID'] != s)]\n",
    "    test = CBRData[(CBRData['SubjID'] == s)] \n",
    "    Nclasstrain = len(train['Label'].unique())\n",
    "    Nclasses = len(test['Label'].unique()) #How many activities we have for this patient in test data\n",
    "\n",
    "    Xtrain = train.select_columns(feature_cols).to_numpy()\n",
    "    ytrain = train.select_columns(label_cols).to_numpy()\n",
    "    ytrain = ytrain.reshape(-1)\n",
    "    Xtest = test.select_columns(feature_cols).to_numpy()\n",
    "    ytest = test.select_columns(label_cols).to_numpy()\n",
    "    ytest = ytest.reshape(-1)\n",
    "    Nsamples[k] = ytrain.shape[0]\n",
    "    \n",
    "    RF = RandomForestClassifier(n_estimators=10,random_state=0)\n",
    "    RF = RF.fit(Xtrain,ytrain)\n",
    "    ypred = RF.predict(Xtest)\n",
    "\n",
    "    #acc = sum(ypred == ytest)/len(ytest)\n",
    "    #balanced accuracy\n",
    "    ISpec_acc[k],acc_class = Balanced_acc(ypred,ytest)\n",
    "    acc_class_subj.append(acc_class)\n",
    "    \n",
    "    #confusion matrix\n",
    "    cmat = confusion_matrix(ytest, ypred,labels=[0,1,2,3,4]) #labels=[\"Sit\",\"Stairs Dw\",\"Stairs Up\",\"Stand\",\"Walk\"])\n",
    "    prec,recall = prec_rec(cmat)\n",
    "    #assemble data in dicts\n",
    "    key = 'S'+np.array_str(np.array(s)) #subj code\n",
    "    cmat_ISpec.update({key:cmat})\n",
    "    prec_ISpec.update({s:prec})\n",
    "    recall_ISpec.update({s:recall})\n",
    "\n",
    "    print 'Patient {}, Nclass train = {}, Nclass test = {}, Nsamples train = {}, Global SCO - BAcc = {:.2f}'.format(s,Nclasstrain,Nclasses,Nsamples[k],ISpec_acc[k])\n",
    "    k = k+1\n",
    "\n",
    "print 'Median BAcc - Impairment Specific (SCO) = %s'%np.median(ISpec_acc)\n",
    "print 'Avg train size = {}'.format(np.mean(Nsamples))\n",
    "\n",
    "#mean precision and recall per class\n",
    "prec_ISpec_mean = np.nanmean(np.asarray(prec_ISpec.values()),axis=0)\n",
    "rec_ISpec_mean = np.nanmean(np.asarray(recall_ISpec.values()),axis=0)"
   ]
  },
  {
   "cell_type": "code",
   "execution_count": 12,
   "metadata": {
    "collapsed": false
   },
   "outputs": [],
   "source": [
    "#save the dict to matlab format \n",
    "scipy.io.savemat('cmatISpec',cmat_ISpec)\n",
    "np.savetxt('precisionISpec.csv', prec_ISpec_mean, delimiter=',') \n",
    "np.savetxt('recallISpec.csv', rec_ISpec_mean, delimiter=',') "
   ]
  },
  {
   "cell_type": "markdown",
   "metadata": {},
   "source": [
    "## Global model CBR (Leave one subject out)"
   ]
  },
  {
   "cell_type": "code",
   "execution_count": 8,
   "metadata": {
    "collapsed": false
   },
   "outputs": [
    {
     "name": "stdout",
     "output_type": "stream",
     "text": [
      "Patient 1, Nclass train = 5, Nclass test = 5, Nsamples train = 15208.0, Global SCO - BAcc = 0.65\n",
      "Patient 2, Nclass train = 5, Nclass test = 5, Nsamples train = 15505.0, Global SCO - BAcc = 0.46\n",
      "Patient 5, Nclass train = 5, Nclass test = 5, Nsamples train = 15138.0, Global SCO - BAcc = 0.55\n",
      "Patient 6, Nclass train = 5, Nclass test = 5, Nsamples train = 14250.0, Global SCO - BAcc = 0.61\n",
      "Patient 8, Nclass train = 5, Nclass test = 3, Nsamples train = 15640.0, Global SCO - BAcc = 0.64\n",
      "Patient 11, Nclass train = 5, Nclass test = 5, Nsamples train = 15289.0, Global SCO - BAcc = 0.58\n",
      "Patient 14, Nclass train = 5, Nclass test = 5, Nsamples train = 14718.0, Global SCO - BAcc = 0.60\n",
      "Patient 15, Nclass train = 5, Nclass test = 5, Nsamples train = 13319.0, Global SCO - BAcc = 0.67\n",
      "Patient 16, Nclass train = 5, Nclass test = 5, Nsamples train = 15370.0, Global SCO - BAcc = 0.60\n",
      "Patient 19, Nclass train = 5, Nclass test = 3, Nsamples train = 15476.0, Global SCO - BAcc = 0.90\n",
      "Patient 24, Nclass train = 5, Nclass test = 5, Nsamples train = 15047.0, Global SCO - BAcc = 0.67\n",
      "Median BAcc - Global CBR model = 0.609663016541\n",
      "Avg train size = 14996.3636364\n"
     ]
    }
   ],
   "source": [
    "ISpecCBR_acc = np.zeros(len(PatientCodes))\n",
    "Nsamples = np.zeros(len(PatientCodes))\n",
    "acc_class_subj = [] #accuracy per class for each subject\n",
    "\n",
    "cmat_ISpecCBR = {} #store confusion mats, precision and recall for all subjects  \n",
    "prec_ISpecCBR = {} \n",
    "recall_ISpecCBR ={}\n",
    "\n",
    "k = 0\n",
    "for s in PatientCodes:\n",
    "    \n",
    "    train = CBRData[(CBRData['SubjID'] != s)]\n",
    "    test = CBRData[(CBRData['SubjID'] == s)] #test on 3 CBR sessions\n",
    "    Nclasstrain = len(train['Label'].unique())\n",
    "    Nclasses = len(test['Label'].unique()) #How many activities we have for this patient in test data\n",
    "\n",
    "    Xtrain = train.select_columns(feature_cols).to_numpy()\n",
    "    ytrain = train.select_columns(label_cols).to_numpy()\n",
    "    ytrain = ytrain.reshape(-1)\n",
    "    Xtest = test.select_columns(feature_cols).to_numpy()\n",
    "    ytest = test.select_columns(label_cols).to_numpy()\n",
    "    ytest = ytest.reshape(-1)\n",
    "    Nsamples[k] = ytrain.shape[0]\n",
    "\n",
    "    RF = RandomForestClassifier(n_estimators=50,random_state=0)\n",
    "    RF = RF.fit(Xtrain,ytrain)\n",
    "    ypred = RF.predict(Xtest)\n",
    "    #acc = sum(ypred == ytest)/len(ytest)\n",
    "    #balanced accuracy\n",
    "    ISpecCBR_acc[k],acc_class = Balanced_acc(ypred,ytest)\n",
    "    acc_class_subj.append(acc_class)   \n",
    "    \n",
    "    #confusion matrix\n",
    "    cmat = confusion_matrix(ytest, ypred,labels=[0,1,2,3,4]) #labels=[\"Sit\",\"Stairs Dw\",\"Stairs Up\",\"Stand\",\"Walk\"])\n",
    "    prec,recall = prec_rec(cmat)\n",
    "    #assemble data in dicts\n",
    "    key = 'S'+np.array_str(np.array(s)) #subj code\n",
    "    cmat_ISpecCBR.update({key:cmat})\n",
    "    prec_ISpecCBR.update({s:prec})\n",
    "    recall_ISpecCBR.update({s:recall})\n",
    "\n",
    "    print 'Patient {}, Nclass train = {}, Nclass test = {}, Nsamples train = {}, Global SCO - BAcc = {:.2f}'.format(s,Nclasstrain,Nclasses,Nsamples[k],ISpecCBR_acc[k])\n",
    "    k = k+1\n",
    "\n",
    "print 'Median BAcc - Global CBR model = %s'%np.median(ISpecCBR_acc)\n",
    "print 'Avg train size = {}'.format(np.mean(Nsamples))\n",
    "\n",
    "#mean precision and recall per class\n",
    "prec_ISpecCBR_mean = np.nanmean(np.asarray(prec_ISpecCBR.values()),axis=0)\n",
    "rec_ISpecCBR_mean = np.nanmean(np.asarray(recall_ISpecCBR.values()),axis=0)"
   ]
  },
  {
   "cell_type": "code",
   "execution_count": 9,
   "metadata": {
    "collapsed": true
   },
   "outputs": [],
   "source": [
    "#save the dict to matlab format \n",
    "scipy.io.savemat('cmatISpecCBR',cmat_ISpecCBR)\n",
    "np.savetxt('precisionISpecCBR.csv', prec_ISpecCBR_mean, delimiter=',') \n",
    "np.savetxt('recallISpecCBR.csv', rec_ISpecCBR_mean, delimiter=',') "
   ]
  },
  {
   "cell_type": "markdown",
   "metadata": {},
   "source": [
    "## Personal SCO (Patient Specific model) "
   ]
  },
  {
   "cell_type": "code",
   "execution_count": 10,
   "metadata": {
    "collapsed": false
   },
   "outputs": [
    {
     "name": "stdout",
     "output_type": "stream",
     "text": [
      "Patient 1, Nclass train = 5, Nclass test = 5,  Nsamples train = 935.0, Personal SCO - BAcc = 0.72\n",
      "Patient 2, Nclass train = 5, Nclass test = 5,  Nsamples train = 1414.0, Personal SCO - BAcc = 0.55\n",
      "Patient 5, Nclass train = 5, Nclass test = 5,  Nsamples train = 2376.0, Personal SCO - BAcc = 0.65\n",
      "Patient 6, Nclass train = 5, Nclass test = 5,  Nsamples train = 1076.0, Personal SCO - BAcc = 0.74\n",
      "Patient 8, Nclass train = 5, Nclass test = 3,  Nsamples train = 2182.0, Personal SCO - BAcc = 0.69\n",
      "Patient 11, Nclass train = 5, Nclass test = 5,  Nsamples train = 1636.0, Personal SCO - BAcc = 0.43\n",
      "Patient 14, Nclass train = 5, Nclass test = 5,  Nsamples train = 1606.0, Personal SCO - BAcc = 0.48\n",
      "Patient 15, Nclass train = 5, Nclass test = 5,  Nsamples train = 1863.0, Personal SCO - BAcc = 0.44\n",
      "Patient 16, Nclass train = 5, Nclass test = 5,  Nsamples train = 2184.0, Personal SCO - BAcc = 0.46\n",
      "Patient 19, Nclass train = 5, Nclass test = 3,  Nsamples train = 1255.0, Personal SCO - BAcc = 0.73\n",
      "Patient 24, Nclass train = 5, Nclass test = 5,  Nsamples train = 1087.0, Personal SCO - BAcc = 0.75\n",
      "Median BAcc - Patient Specific (SCO) = 0.65157867467\n",
      "Avg train size = 1601.27272727\n"
     ]
    }
   ],
   "source": [
    "PSpec_acc = np.zeros(len(PatientCodes)) \n",
    "Nsamples = np.zeros(len(PatientCodes))\n",
    "acc_class_subj = [] #accuracy per class for each subject\n",
    "\n",
    "cmat_PSpec = {} #store confusion mats, precision and recall for all subjects  \n",
    "prec_PSpec = {} \n",
    "recall_PSpec ={}\n",
    "\n",
    "k = 0\n",
    "for s in PatientCodes:\n",
    "    \n",
    "    train = SCOData[(SCOData['SubjID'] == s)]\n",
    "    test = CBRData[(CBRData['SubjID'] == s)]\n",
    "    Nclasstrain = len(train['Label'].unique())\n",
    "    Nclasses = len(test['Label'].unique()) #How many activities we have for this patient in test data\n",
    "\n",
    "    Xtrain = train.select_columns(feature_cols).to_numpy()\n",
    "    ytrain = train.select_columns(label_cols).to_numpy()\n",
    "    ytrain = ytrain.reshape(-1)\n",
    "    Xtest = test.select_columns(feature_cols).to_numpy()\n",
    "    ytest = test.select_columns(label_cols).to_numpy()\n",
    "    ytest = ytest.reshape(-1)\n",
    "    Nsamples[k] = ytrain.shape[0]\n",
    "\n",
    "    RF = RandomForestClassifier(n_estimators=50,random_state=0)\n",
    "    RF = RF.fit(Xtrain,ytrain)\n",
    "    ypred = RF.predict(Xtest)\n",
    "    #acc = sum(ypred == ytest)/len(ytest)\n",
    "    #balanced accuracy\n",
    "    PSpec_acc[k],acc_class = Balanced_acc(ypred,ytest)\n",
    "    \n",
    "    #confusion matrix\n",
    "    cmat = confusion_matrix(ytest, ypred,labels=[0,1,2,3,4]) #labels=[\"Sit\",\"Stairs Dw\",\"Stairs Up\",\"Stand\",\"Walk\"])\n",
    "    prec,recall = prec_rec(cmat)\n",
    "    #assemble data in dicts\n",
    "    key = 'S'+np.array_str(np.array(s)) #subj code\n",
    "    cmat_PSpec.update({key:cmat})\n",
    "    prec_PSpec.update({s:prec})\n",
    "    recall_PSpec.update({s:recall})\n",
    "    \n",
    "    print 'Patient {}, Nclass train = {}, Nclass test = {},  Nsamples train = {}, Personal SCO - BAcc = {:.2f}'.format(s,Nclasstrain,Nclasses,Nsamples[k],PSpec_acc[k])\n",
    "    k = k+1\n",
    "\n",
    "print 'Median BAcc - Patient Specific (SCO) = %s'%np.median(PSpec_acc)\n",
    "print 'Avg train size = {}'.format(np.mean(Nsamples))\n",
    "\n",
    "#mean precision and recall per class\n",
    "prec_PSpec_mean = np.nanmean(np.asarray(prec_PSpec.values()),axis=0)\n",
    "rec_PSpec_mean = np.nanmean(np.asarray(recall_PSpec.values()),axis=0)"
   ]
  },
  {
   "cell_type": "code",
   "execution_count": 11,
   "metadata": {
    "collapsed": true
   },
   "outputs": [],
   "source": [
    "#save the dict to matlab format \n",
    "scipy.io.savemat('cmatPSpec',cmat_PSpec)\n",
    "np.savetxt('precisionPSpec.csv', prec_PSpec_mean, delimiter=',') \n",
    "np.savetxt('recallPSpec.csv', rec_PSpec_mean, delimiter=',') "
   ]
  },
  {
   "cell_type": "markdown",
   "metadata": {},
   "source": [
    "## Personal CBR (Patient and Device specific model) \n",
    "Leave One Session Out "
   ]
  },
  {
   "cell_type": "code",
   "execution_count": 27,
   "metadata": {
    "collapsed": false
   },
   "outputs": [
    {
     "name": "stdout",
     "output_type": "stream",
     "text": [
      "Nclass train = 5, Nclass test =5, BAcc = 0.76\n",
      "Nclass train = 5, Nclass test =5, BAcc = 0.83\n",
      "Nclass train = 5, Nclass test =5, BAcc = 0.86\n",
      "Patient 1, Device Specific model - BAcc = 0.82\n",
      "Nclass train = 5, Nclass test =5, BAcc = 0.76\n",
      "Nclass train = 5, Nclass test =5, BAcc = 0.51\n",
      "Nclass train = 5, Nclass test =5, BAcc = 0.73\n",
      "Patient 2, Device Specific model - BAcc = 0.67\n",
      "Nclass train = 5, Nclass test =5, BAcc = 0.74\n",
      "Nclass train = 5, Nclass test =5, BAcc = 0.54\n",
      "Nclass train = 5, Nclass test =5, BAcc = 0.59\n",
      "Patient 5, Device Specific model - BAcc = 0.63\n",
      "Nclass train = 5, Nclass test =5, BAcc = 0.63\n",
      "Nclass train = 5, Nclass test =5, BAcc = 0.75\n",
      "Nclass train = 5, Nclass test =5, BAcc = 0.89\n",
      "Patient 6, Device Specific model - BAcc = 0.76\n",
      "Nclass train = 3, Nclass test =3, BAcc = 0.94\n",
      "Nclass train = 3, Nclass test =3, BAcc = 0.74\n",
      "Nclass train = 3, Nclass test =3, BAcc = 0.96\n",
      "Patient 8, Device Specific model - BAcc = 0.88\n",
      "Nclass train = 5, Nclass test =5, BAcc = 0.44\n",
      "Nclass train = 5, Nclass test =5, BAcc = 0.53\n",
      "Nclass train = 5, Nclass test =5, BAcc = 0.51\n",
      "Patient 11, Device Specific model - BAcc = 0.49\n",
      "Nclass train = 5, Nclass test =5, BAcc = 0.68\n",
      "Nclass train = 5, Nclass test =5, BAcc = 0.75\n",
      "Nclass train = 5, Nclass test =5, BAcc = 0.89\n",
      "Patient 14, Device Specific model - BAcc = 0.77\n",
      "Nclass train = 5, Nclass test =5, BAcc = 0.59\n",
      "Nclass train = 5, Nclass test =3, BAcc = 0.97\n",
      "Nclass train = 5, Nclass test =5, BAcc = 0.60\n",
      "Patient 15, Device Specific model - BAcc = 0.72\n",
      "Nclass train = 5, Nclass test =5, BAcc = 0.63\n",
      "Nclass train = 5, Nclass test =5, BAcc = 0.65\n",
      "Nclass train = 5, Nclass test =5, BAcc = 0.80\n",
      "Patient 16, Device Specific model - BAcc = 0.70\n",
      "Nclass train = 3, Nclass test =3, BAcc = 0.54\n",
      "Nclass train = 3, Nclass test =3, BAcc = 0.98\n",
      "Nclass train = 3, Nclass test =3, BAcc = 0.81\n",
      "Patient 19, Device Specific model - BAcc = 0.78\n",
      "Nclass train = 5, Nclass test =5, BAcc = 0.85\n",
      "Nclass train = 5, Nclass test =5, BAcc = 0.85\n",
      "Nclass train = 5, Nclass test =5, BAcc = 0.62\n",
      "Patient 24, Device Specific model - BAcc = 0.78\n",
      "Median BAcc - Device Specific (CBR) = 0.759794088869\n",
      "Avg train size = 999.757575758\n"
     ]
    }
   ],
   "source": [
    "DSpec_acc = np.zeros(len(PatientCodes)) \n",
    "Nsamples = np.zeros(len(PatientCodes))\n",
    "Nsessions = 3\n",
    "\n",
    "cmat_DSpec = {} #store confusion mats, precision and recall for all subjects  \n",
    "prec_DSpec = {} \n",
    "recall_DSpec ={}\n",
    "k = 0\n",
    "\n",
    "for s in PatientCodes:\n",
    "    cmat = np.zeros((5,5)) #temporary arrays to store cmat, prec and recall in each session\n",
    "    prec = np.zeros(5)\n",
    "    recall = np.zeros(5)\n",
    "\n",
    "    data =  CBRData[(CBRData['SubjID'] == s)] \n",
    "    Bacc = np.zeros(Nsessions)\n",
    "    for session in range(1,Nsessions+1):\n",
    "                  \n",
    "        test = data[data['Session'] == session]\n",
    "        train = data[data['Session'] != session]\n",
    "        Nclasstrain = len(train['Label'].unique())\n",
    "        Nclasses = len(test['Label'].unique()) #How many activities we have for this patient in test data\n",
    "\n",
    "        Xtrain = train.select_columns(feature_cols).to_numpy()\n",
    "        ytrain = train.select_columns(label_cols).to_numpy()\n",
    "        ytrain = ytrain.reshape(-1)\n",
    "        Xtest = test.select_columns(feature_cols).to_numpy()\n",
    "        ytest = test.select_columns(label_cols).to_numpy()\n",
    "        ytest = ytest.reshape(-1)\n",
    "        Nsamples[k] = Nsamples[k]+ytrain.shape[0]\n",
    "\n",
    "        RF = RandomForestClassifier(n_estimators=100,random_state=0)\n",
    "        RF = RF.fit(Xtrain,ytrain)\n",
    "        ypred = RF.predict(Xtest)\n",
    "        #acc = sum(ypred == ytest)/len(ytest)\n",
    "        #balanced accuracy on each session\n",
    "        Bacc[session-1],acc_class = Balanced_acc(ypred,ytest)\n",
    "        print 'Nclass train = {}, Nclass test ={}, BAcc = {:.2f}'.format(Nclasstrain,Nclasses,Bacc[session-1])\n",
    "        \n",
    "        #confusion matrix, prec and recall in each session\n",
    "        cmat_tmp = confusion_matrix(ytest,ypred,labels=[0,1,2,3,4]) #labels=[\"Sit\",\"Stairs Dw\",\"Stairs Up\",\"Stand\",\"Walk\"])\n",
    "        cmat += cmat_tmp\n",
    "        pr,re = prec_rec(cmat_tmp)\n",
    "        prec += pr\n",
    "        recall += re\n",
    "\n",
    "    DSpec_acc[k] = Bacc.mean() #the CV BAcc on 3 sessions \n",
    "    Nsamples[k] = Nsamples[k]/len(range(1,Nsessions+1)) #mean number of samples across sessions    \n",
    "    #mean confusion matrix (instances), precision and recall on 3 sessions\n",
    "    avgcmat = cmat/Nsessions\n",
    "    prec = prec/Nsessions\n",
    "    recall = recall/Nsessions\n",
    "\n",
    "    #assemble data in dicts\n",
    "    key = 'S'+np.array_str(np.array(s)) #subj code\n",
    "    cmat_DSpec.update({key:avgcmat})     #the confusion matrix with instances from the 4 sessions\n",
    "    prec_DSpec.update({s:prec})\n",
    "    recall_DSpec.update({s:recall})\n",
    "   \n",
    "    print 'Patient {}, Device Specific model - BAcc = {:.2f}'.format(s,DSpec_acc[k])\n",
    "    k = k+1\n",
    "\n",
    "print 'Median BAcc - Device Specific (CBR) = %s'%(np.median(DSpec_acc))\n",
    "print 'Avg train size = {}'.format(np.mean(Nsamples))\n",
    "\n",
    "#mean precision and recall per class\n",
    "prec_DSpec_mean = np.nanmean(np.asarray(prec_DSpec.values()),axis=0)\n",
    "rec_DSpec_mean = np.nanmean(np.asarray(recall_DSpec.values()),axis=0)"
   ]
  },
  {
   "cell_type": "code",
   "execution_count": 28,
   "metadata": {
    "collapsed": false
   },
   "outputs": [],
   "source": [
    "#save the dict to matlab format \n",
    "scipy.io.savemat('cmatDSpec',cmat_DSpec)\n",
    "np.savetxt('precisionDSpec.csv', prec_DSpec_mean, delimiter=',') \n",
    "np.savetxt('recallDSpec.csv', rec_DSpec_mean, delimiter=',') "
   ]
  },
  {
   "cell_type": "markdown",
   "metadata": {},
   "source": [
    "## Assemble results for all models"
   ]
  },
  {
   "cell_type": "code",
   "execution_count": 29,
   "metadata": {
    "collapsed": false
   },
   "outputs": [
    {
     "name": "stdout",
     "output_type": "stream",
     "text": [
      "[[ 0.464898    0.51884631  0.6460751   0.72130591  0.81941724]\n",
      " [ 0.39534911  0.49705282  0.46467181  0.54641183  0.66640783]\n",
      " [ 0.45820613  0.50928317  0.54516304  0.65157867  0.62684499]\n",
      " [ 0.57510649  0.56908657  0.60966302  0.7438839   0.75979409]\n",
      " [ 0.35719858  0.46364216  0.63736381  0.6913094   0.87778724]\n",
      " [ 0.53808672  0.52784409  0.57850914  0.42806913  0.4936162 ]\n",
      " [ 0.53400056  0.60009651  0.6025275   0.47528689  0.77433946]\n",
      " [ 0.53581328  0.5713727   0.67393761  0.44079779  0.72243056]\n",
      " [ 0.52738244  0.55567334  0.59662325  0.45840207  0.69537655]\n",
      " [ 0.55105444  0.83379062  0.89697221  0.72716989  0.77757322]\n",
      " [ 0.60378523  0.59033602  0.67279505  0.75460028  0.7764429 ]]\n"
     ]
    }
   ],
   "source": [
    "acc_all=np.vstack((SOacc,ISpec_acc,ISpecCBR_acc,PSpec_acc,DSpec_acc)).T\n",
    "print acc_all"
   ]
  },
  {
   "cell_type": "code",
   "execution_count": 30,
   "metadata": {
    "collapsed": false
   },
   "outputs": [
    {
     "data": {
      "image/png": "[encoded data removed]",
      "text/plain": [
       "<matplotlib.figure.Figure at 0x130068a10>"
      ]
     },
     "metadata": {},
     "output_type": "display_data"
    }
   ],
   "source": [
    "plt.figure()\n",
    "plt.boxplot(acc_all)\n",
    "plt.show()"
   ]
  },
  {
   "cell_type": "code",
   "execution_count": 17,
   "metadata": {
    "collapsed": false
   },
   "outputs": [
    {
     "data": {
      "text/plain": [
       "0.53400055983576222"
      ]
     },
     "execution_count": 17,
     "metadata": {},
     "output_type": "execute_result"
    }
   ],
   "source": [
    "np.median(SOacc)"
   ]
  },
  {
   "cell_type": "code",
   "execution_count": 18,
   "metadata": {
    "collapsed": false
   },
   "outputs": [
    {
     "data": {
      "text/plain": [
       "0.55567333631468108"
      ]
     },
     "execution_count": 18,
     "metadata": {},
     "output_type": "execute_result"
    }
   ],
   "source": [
    "np.median(ISpec_acc)"
   ]
  },
  {
   "cell_type": "code",
   "execution_count": 19,
   "metadata": {
    "collapsed": false
   },
   "outputs": [
    {
     "data": {
      "text/plain": [
       "0.60966301654077415"
      ]
     },
     "execution_count": 19,
     "metadata": {},
     "output_type": "execute_result"
    }
   ],
   "source": [
    "np.median(ISpecCBR_acc)"
   ]
  },
  {
   "cell_type": "code",
   "execution_count": 20,
   "metadata": {
    "collapsed": false
   },
   "outputs": [
    {
     "data": {
      "text/plain": [
       "0.65157867467006247"
      ]
     },
     "execution_count": 20,
     "metadata": {},
     "output_type": "execute_result"
    }
   ],
   "source": [
    "np.median(PSpec_acc)"
   ]
  },
  {
   "cell_type": "code",
   "execution_count": 31,
   "metadata": {
    "collapsed": false
   },
   "outputs": [
    {
     "data": {
      "text/plain": [
       "0.75979408886883126"
      ]
     },
     "execution_count": 31,
     "metadata": {},
     "output_type": "execute_result"
    }
   ],
   "source": [
    "np.median(DSpec_acc)"
   ]
  },
  {
   "cell_type": "code",
   "execution_count": 32,
   "metadata": {
    "collapsed": true
   },
   "outputs": [],
   "source": [
    "np.savetxt('results.csv', acc_all, delimiter=',') "
   ]
  },
  {
   "cell_type": "code",
   "execution_count": 35,
   "metadata": {
    "collapsed": false
   },
   "outputs": [
    {
     "data": {
      "text/plain": [
       "array([ 0.46684448,  0.7242379 ])"
      ]
     },
     "execution_count": 35,
     "metadata": {},
     "output_type": "execute_result"
    }
   ],
   "source": [
    "np.percentile(PSpec_acc,[25,75])"
   ]
  },
  {
   "cell_type": "markdown",
   "metadata": {},
   "source": [
    "## Try Gradient Boosting"
   ]
  },
  {
   "cell_type": "code",
   "execution_count": 75,
   "metadata": {
    "collapsed": true
   },
   "outputs": [],
   "source": [
    "from sklearn.ensemble import GradientBoostingClassifier"
   ]
  },
  {
   "cell_type": "code",
   "execution_count": 79,
   "metadata": {
    "collapsed": false
   },
   "outputs": [
    {
     "name": "stdout",
     "output_type": "stream",
     "text": [
      "Test on Patient 1, Train samples=8375, Test samples=1288, Nclass test=5\n",
      "BAcc = 0.52\n",
      "Test on Patient 2, Train samples=8375, Test samples=991, Nclass test=5\n",
      "BAcc = 0.39\n",
      "Test on Patient 5, Train samples=8375, Test samples=1358, Nclass test=5\n",
      "BAcc = 0.45\n",
      "Test on Patient 6, Train samples=8375, Test samples=2246, Nclass test=5\n",
      "BAcc = 0.60\n",
      "Test on Patient 8, Train samples=8375, Test samples=856, Nclass test=3\n",
      "BAcc = 0.36\n",
      "Test on Patient 11, Train samples=8375, Test samples=1207, Nclass test=5\n",
      "BAcc = 0.52\n",
      "Test on Patient 14, Train samples=8375, Test samples=1778, Nclass test=5\n",
      "BAcc = 0.53\n",
      "Test on Patient 15, Train samples=8375, Test samples=3177, Nclass test=5\n",
      "BAcc = 0.48\n",
      "Test on Patient 16, Train samples=8375, Test samples=1126, Nclass test=5\n",
      "BAcc = 0.53\n",
      "Test on Patient 19, Train samples=8375, Test samples=1020, Nclass test=3\n",
      "BAcc = 0.64\n",
      "Test on Patient 24, Train samples=8375, Test samples=1449, Nclass test=5\n",
      "BAcc = 0.64\n",
      "\n",
      "median Bacc - Healthy model = 0.519083682588\n"
     ]
    }
   ],
   "source": [
    "col_names = HealthyData.column_names()\n",
    "label_cols = col_names[-1:] #the : is used to return a list with one element \n",
    "feature_cols = col_names[2:-1]\n",
    "\n",
    "Xtrain = HealthyData.select_columns(feature_cols).to_numpy()\n",
    "ytrain = HealthyData.select_columns(label_cols).to_numpy()\n",
    "ytrain = ytrain.reshape(-1) #to squeeze last dimension and obtain a 1D array\n",
    "\n",
    "clf = GradientBoostingClassifier(n_estimators=100,random_state=0)\n",
    "clf = clf.fit(Xtrain,ytrain)\n",
    "\n",
    "#test on each patient (CBR)\n",
    "SOacc = np.zeros(len(PatientCodes))\n",
    "acc_class_subj = [] #accuracy per class for each subject\n",
    "cmat_H = {} #store confusion mats, precision and recall for all subjects  \n",
    "prec_H = {} \n",
    "recall_H ={}\n",
    "k = 0\n",
    "\n",
    "for s in PatientCodes:\n",
    "    test = CBRData[(CBRData['SubjID'] == s)]\n",
    "    Xtest = test.select_columns(feature_cols).to_numpy()\n",
    "    ytest = test.select_columns(label_cols).to_numpy()\n",
    "    ytest = ytest.reshape(-1) #to squeeze last dimension and obtain a 1D array\n",
    "    Nclasses = len(test['Label'].unique()) #How many activities we have for this patient in test data\n",
    "\n",
    "    print 'Test on Patient %s, Train samples=%s, Test samples=%s, Nclass test=%s'%(s,len(ytrain),len(ytest),Nclasses)\n",
    "    ypred = clf.predict(Xtest)\n",
    "\n",
    "    #acc = sum(ypred == ytest)/len(ytest)\n",
    "    #SOacc[k] = acc\n",
    "\n",
    "    #balanced accuracy\n",
    "    SOacc[k],acc_class = Balanced_acc(ypred,ytest)\n",
    "    acc_class_subj.append(acc_class)  \n",
    "    \n",
    "    #confusion matrix\n",
    "    cmat = confusion_matrix(ytest, ypred,labels=[0,1,2,3,4]) #labels=[\"Sit\",\"Stairs Dw\",\"Stairs Up\",\"Stand\",\"Walk\"])\n",
    "    prec,recall = prec_rec(cmat)\n",
    "    #assemble data in dicts\n",
    "    key = 'S'+np.array_str(np.array(s)) #subj code\n",
    "    cmat_H.update({key:cmat})\n",
    "    prec_H.update({s:prec})\n",
    "    recall_H.update({s:recall})\n",
    "    \n",
    "    print 'BAcc = {:.2f}'.format(SOacc[k])\n",
    "    k = k+1\n",
    "\n",
    "print '\\nmedian Bacc - Healthy model = %s'%np.median(SOacc)\n",
    "\n",
    "#mean precision and recall per class\n",
    "prec_H_mean = np.nanmean(np.asarray(prec_H.values()),axis=0)\n",
    "rec_H_mean = np.nanmean(np.asarray(recall_H.values()),axis=0)\n",
    "#acc_class_subj_mean = np.nanmean(acc_class_subj,axis=0)"
   ]
  },
  {
   "cell_type": "markdown",
   "metadata": {},
   "source": [
    "## Global model simulations\n",
    "Train on increasing number of healthy subjects (from 1 to 11) and test on 1 CBR patient. Run Nruns times by randomzing subjects in each run"
   ]
  },
  {
   "cell_type": "markdown",
   "metadata": {},
   "source": [
    "* Healthy model"
   ]
  },
  {
   "cell_type": "code",
   "execution_count": 5,
   "metadata": {
    "collapsed": false
   },
   "outputs": [
    {
     "name": "stdout",
     "output_type": "stream",
     "text": [
      "train on 1 subjects\n",
      "run=100/1000\n",
      "run=200/1000\n",
      "run=300/1000\n",
      "run=400/1000\n",
      "run=500/1000\n",
      "run=600/1000\n",
      "run=700/1000\n",
      "run=800/1000\n",
      "run=900/1000\n",
      "run=1000/1000\n",
      "train on 2 subjects\n",
      "run=100/1000\n",
      "run=200/1000\n",
      "run=300/1000\n",
      "run=400/1000\n",
      "run=500/1000\n",
      "run=600/1000\n",
      "run=700/1000\n",
      "run=800/1000\n",
      "run=900/1000\n",
      "run=1000/1000\n",
      "train on 3 subjects\n",
      "run=100/1000\n",
      "run=200/1000\n",
      "run=300/1000\n",
      "run=400/1000\n",
      "run=500/1000\n",
      "run=600/1000\n",
      "run=700/1000\n",
      "run=800/1000\n",
      "run=900/1000\n",
      "run=1000/1000\n",
      "train on 4 subjects\n",
      "run=100/1000\n",
      "run=200/1000\n",
      "run=300/1000\n",
      "run=400/1000\n",
      "run=500/1000\n",
      "run=600/1000\n",
      "run=700/1000\n",
      "run=800/1000\n",
      "run=900/1000\n",
      "run=1000/1000\n",
      "train on 5 subjects\n",
      "run=100/1000\n",
      "run=200/1000\n",
      "run=300/1000\n",
      "run=400/1000\n",
      "run=500/1000\n",
      "run=600/1000\n",
      "run=700/1000\n",
      "run=800/1000\n",
      "run=900/1000\n",
      "run=1000/1000\n",
      "train on 6 subjects\n",
      "run=100/1000\n",
      "run=200/1000\n",
      "run=300/1000\n",
      "run=400/1000\n",
      "run=500/1000\n",
      "run=600/1000\n",
      "run=700/1000\n",
      "run=800/1000\n",
      "run=900/1000\n",
      "run=1000/1000\n",
      "train on 7 subjects\n",
      "run=100/1000\n",
      "run=200/1000\n",
      "run=300/1000\n",
      "run=400/1000\n",
      "run=500/1000\n",
      "run=600/1000\n",
      "run=700/1000\n",
      "run=800/1000\n",
      "run=900/1000\n",
      "run=1000/1000\n",
      "train on 8 subjects\n",
      "run=100/1000\n",
      "run=200/1000\n",
      "run=300/1000\n",
      "run=400/1000\n",
      "run=500/1000\n",
      "run=600/1000\n",
      "run=700/1000\n",
      "run=800/1000\n",
      "run=900/1000\n",
      "run=1000/1000\n",
      "train on 9 subjects\n",
      "run=100/1000\n",
      "run=200/1000\n",
      "run=300/1000\n",
      "run=400/1000\n",
      "run=500/1000\n",
      "run=600/1000\n",
      "run=700/1000\n",
      "run=800/1000\n",
      "run=900/1000\n",
      "run=1000/1000\n",
      "train on 10 subjects\n",
      "run=100/1000\n",
      "run=200/1000\n",
      "run=300/1000\n",
      "run=400/1000\n",
      "run=500/1000\n",
      "run=600/1000\n",
      "run=700/1000\n",
      "run=800/1000\n",
      "run=900/1000\n",
      "run=1000/1000\n",
      "train on 11 subjects\n",
      "run=100/1000\n",
      "run=200/1000\n",
      "run=300/1000\n",
      "run=400/1000\n",
      "run=500/1000\n",
      "run=600/1000\n",
      "run=700/1000\n",
      "run=800/1000\n",
      "run=900/1000\n",
      "run=1000/1000\n",
      "Elapsed time=29523.37 secs\n"
     ]
    }
   ],
   "source": [
    "col_names = HealthyData.column_names()\n",
    "label_cols = col_names[-1:] #the : is used to return a list with one element \n",
    "feature_cols = col_names[2:-1]\n",
    "\n",
    "Nruns = 1000 #total # of runs\n",
    "Ntrain = len(HealthyData['SubjID'].unique()) #the total number of healthy to train on\n",
    "Bacc_all = np.zeros((Nruns,Ntrain)) #contains the Bacc for each run \n",
    "\n",
    "t0 = time.time()\n",
    "#loop through num subj to train on\n",
    "for n in range(Ntrain):\n",
    "    print 'train on {} subjects'.format(n+1)\n",
    "    for run in range(1,Nruns+1):\n",
    "        if run%100 == 0:\n",
    "            print 'run={}/{}'.format(run,Nruns)       \n",
    "        #pick n subj to train \n",
    "        np.random.shuffle(HealthyCodes)\n",
    "        subjtrain = HealthyCodes[0:n+1]\n",
    "        train = HealthyData.filter_by(subjtrain,'SubjID')\n",
    "        test = np.random.shuffle(PatientCodes)\n",
    "        subjtest = PatientCodes[0] #pick one subj to test\n",
    "        test = CBRData.filter_by(subjtest,'SubjID')\n",
    "        #print 'Run=%s, Train on subj %s, test on patient %s'%(run,train['SubjID'].unique(),test['SubjID'].unique())\n",
    "\n",
    "        Xtrain = train.select_columns(feature_cols).to_numpy()\n",
    "        ytrain = train.select_columns(label_cols).to_numpy()\n",
    "        ytrain = ytrain.reshape(-1) #to squeeze last dimension and obtain a 1D array\n",
    "        Xtest = test.select_columns(feature_cols).to_numpy()\n",
    "        ytest = test.select_columns(label_cols).to_numpy()\n",
    "        ytest = ytest.reshape(-1)\n",
    "\n",
    "        RF = RandomForestClassifier(n_estimators=10)\n",
    "        RF = RF.fit(Xtrain,ytrain)\n",
    "        ypred = RF.predict(Xtest)\n",
    "\n",
    "        #acc = sum(ypred == ytest)/len(ytest)\n",
    "        #balanced accuracy for current run\n",
    "        Bacc_all[run-1,n],acc_class = Balanced_acc(ypred,ytest)\n",
    "        #print 'Bacc = {:.2f}'.format(Bacc_all[run,n])\n",
    "\n",
    "t1 = time.time()\n",
    "print 'Elapsed time=%.2f secs'%(t1-t0)"
   ]
  },
  {
   "cell_type": "code",
   "execution_count": 6,
   "metadata": {
    "collapsed": true
   },
   "outputs": [],
   "source": [
    "np.savetxt('results_GlobalH.csv', Bacc_all, delimiter=',') "
   ]
  },
  {
   "cell_type": "markdown",
   "metadata": {},
   "source": [
    "* Global SCO Model simulations"
   ]
  },
  {
   "cell_type": "code",
   "execution_count": 7,
   "metadata": {
    "collapsed": false,
    "scrolled": true
   },
   "outputs": [
    {
     "name": "stdout",
     "output_type": "stream",
     "text": [
      "train on 1 subjects\n",
      "run=100/1000\n",
      "run=200/1000\n",
      "run=300/1000\n",
      "run=400/1000\n",
      "run=500/1000\n",
      "run=600/1000\n",
      "run=700/1000\n",
      "run=800/1000\n",
      "run=900/1000\n",
      "run=1000/1000\n",
      "train on 2 subjects\n",
      "run=100/1000\n",
      "run=200/1000\n",
      "run=300/1000\n",
      "run=400/1000\n",
      "run=500/1000\n",
      "run=600/1000\n",
      "run=700/1000\n",
      "run=800/1000\n",
      "run=900/1000\n",
      "run=1000/1000\n",
      "train on 3 subjects\n",
      "run=100/1000\n",
      "run=200/1000\n",
      "run=300/1000\n",
      "run=400/1000\n",
      "run=500/1000\n",
      "run=600/1000\n",
      "run=700/1000\n",
      "run=800/1000\n",
      "run=900/1000\n",
      "run=1000/1000\n",
      "train on 4 subjects\n",
      "run=100/1000\n",
      "run=200/1000\n",
      "run=300/1000\n",
      "run=400/1000\n",
      "run=500/1000\n",
      "run=600/1000\n",
      "run=700/1000\n",
      "run=800/1000\n",
      "run=900/1000\n",
      "run=1000/1000\n",
      "train on 5 subjects\n",
      "run=100/1000\n",
      "run=200/1000\n",
      "run=300/1000\n",
      "run=400/1000\n",
      "run=500/1000\n",
      "run=600/1000\n",
      "run=700/1000\n",
      "run=800/1000\n",
      "run=900/1000\n",
      "run=1000/1000\n",
      "train on 6 subjects\n",
      "run=100/1000\n",
      "run=200/1000\n",
      "run=300/1000\n",
      "run=400/1000\n",
      "run=500/1000\n",
      "run=600/1000\n",
      "run=700/1000\n",
      "run=800/1000\n",
      "run=900/1000\n",
      "run=1000/1000\n",
      "train on 7 subjects\n",
      "run=100/1000\n",
      "run=200/1000\n",
      "run=300/1000\n",
      "run=400/1000\n",
      "run=500/1000\n",
      "run=600/1000\n",
      "run=700/1000\n",
      "run=800/1000\n",
      "run=900/1000\n",
      "run=1000/1000\n",
      "train on 8 subjects\n",
      "run=100/1000\n",
      "run=200/1000\n",
      "run=300/1000\n",
      "run=400/1000\n",
      "run=500/1000\n",
      "run=600/1000\n",
      "run=700/1000\n",
      "run=800/1000\n",
      "run=900/1000\n",
      "run=1000/1000\n",
      "train on 9 subjects\n",
      "run=100/1000\n",
      "run=200/1000\n",
      "run=300/1000\n",
      "run=400/1000\n",
      "run=500/1000\n",
      "run=600/1000\n",
      "run=700/1000\n",
      "run=800/1000\n",
      "run=900/1000\n",
      "run=1000/1000\n",
      "train on 10 subjects\n",
      "run=100/1000\n",
      "run=200/1000\n",
      "run=300/1000\n",
      "run=400/1000\n",
      "run=500/1000\n",
      "run=600/1000\n",
      "run=700/1000\n",
      "run=800/1000\n",
      "run=900/1000\n",
      "run=1000/1000\n",
      "Elapsed time=96572.86 secs\n"
     ]
    }
   ],
   "source": [
    "col_names = SCOData.column_names()\n",
    "label_cols = col_names[-1:] #the : is used to return a list with one element \n",
    "feature_cols = col_names[2:-1]\n",
    "\n",
    "Nruns = 1000 #total # of runs\n",
    "Ntrain = len(SCOData['SubjID'].unique()) #the total number of patients (SCO)\n",
    "Bacc_all = np.zeros((Nruns,Ntrain-1)) #contains the Bacc for each run \n",
    "\n",
    "t0 = time.time()\n",
    "#loop through num subj to train on\n",
    "for n in range(Ntrain-1): #-1 as one patient is out for test\n",
    "    print 'train on {} subjects'.format(n+1)\n",
    "    for run in range(1,Nruns+1):\n",
    "        if run%100 == 0:\n",
    "            print 'run={}/{}'.format(run,Nruns)       \n",
    "        #pick n subj to train (use last for test)\n",
    "        np.random.shuffle(PatientCodes)\n",
    "        subjtrain = PatientCodes[0:n+1]\n",
    "        train = SCOData.filter_by(subjtrain,'SubjID')\n",
    "        subjtest = PatientCodes[n+1] #pick one patient to test (the last, not in train)\n",
    "        test = CBRData.filter_by(subjtest,'SubjID')\n",
    "        #print 'Run=%s, Train on subj %s, test on patient %s'%(run,train['SubjID'].unique(),test['SubjID'].unique())\n",
    "\n",
    "        Xtrain = train.select_columns(feature_cols).to_numpy()\n",
    "        ytrain = train.select_columns(label_cols).to_numpy()\n",
    "        ytrain = ytrain.reshape(-1) #to squeeze last dimension and obtain a 1D array\n",
    "        Xtest = test.select_columns(feature_cols).to_numpy()\n",
    "        ytest = test.select_columns(label_cols).to_numpy()\n",
    "        ytest = ytest.reshape(-1)\n",
    "\n",
    "        RF = RandomForestClassifier(n_estimators=10)\n",
    "        RF = RF.fit(Xtrain,ytrain)\n",
    "        ypred = RF.predict(Xtest)\n",
    "\n",
    "        #acc = sum(ypred == ytest)/len(ytest)\n",
    "        #balanced accuracy for current run\n",
    "        Bacc_all[run-1,n],acc_class = Balanced_acc(ypred,ytest)\n",
    "        #print 'Bacc = {:.2f}'.format(Bacc_all[run-1,n])\n",
    "t1 = time.time()\n",
    "print 'Elapsed time=%.2f secs'%(t1-t0)"
   ]
  },
  {
   "cell_type": "code",
   "execution_count": 8,
   "metadata": {
    "collapsed": true
   },
   "outputs": [],
   "source": [
    "np.savetxt('results_GlobalP.csv', Bacc_all, delimiter=',') "
   ]
  },
  {
   "cell_type": "markdown",
   "metadata": {
    "collapsed": true
   },
   "source": [
    "* Global CBR Simulations"
   ]
  },
  {
   "cell_type": "code",
   "execution_count": 5,
   "metadata": {
    "collapsed": false
   },
   "outputs": [
    {
     "name": "stdout",
     "output_type": "stream",
     "text": [
      "train on 1 subjects\n",
      "run=100/1000\n",
      "run=200/1000\n",
      "run=300/1000\n",
      "run=400/1000\n",
      "run=500/1000\n",
      "run=600/1000\n",
      "run=700/1000\n",
      "run=800/1000\n",
      "run=900/1000\n",
      "run=1000/1000\n",
      "train on 2 subjects\n",
      "run=100/1000\n",
      "run=200/1000\n",
      "run=300/1000\n",
      "run=400/1000\n",
      "run=500/1000\n",
      "run=600/1000\n",
      "run=700/1000\n",
      "run=800/1000\n",
      "run=900/1000\n",
      "run=1000/1000\n",
      "train on 3 subjects\n",
      "run=100/1000\n",
      "run=200/1000\n",
      "run=300/1000\n",
      "run=400/1000\n",
      "run=500/1000\n",
      "run=600/1000\n",
      "run=700/1000\n",
      "run=800/1000\n",
      "run=900/1000\n",
      "run=1000/1000\n",
      "train on 4 subjects\n",
      "run=100/1000\n",
      "run=200/1000\n",
      "run=300/1000\n",
      "run=400/1000\n",
      "run=500/1000\n",
      "run=600/1000\n",
      "run=700/1000\n",
      "run=800/1000\n",
      "run=900/1000\n",
      "run=1000/1000\n",
      "train on 5 subjects\n",
      "run=100/1000\n",
      "run=200/1000\n",
      "run=300/1000\n",
      "run=400/1000\n",
      "run=500/1000\n",
      "run=600/1000\n",
      "run=700/1000\n",
      "run=800/1000\n",
      "run=900/1000\n",
      "run=1000/1000\n",
      "train on 6 subjects\n",
      "run=100/1000\n",
      "run=200/1000\n",
      "run=300/1000\n",
      "run=400/1000\n",
      "run=500/1000\n",
      "run=600/1000\n",
      "run=700/1000\n",
      "run=800/1000\n",
      "run=900/1000\n",
      "run=1000/1000\n",
      "train on 7 subjects\n",
      "run=100/1000\n",
      "run=200/1000\n",
      "run=300/1000\n",
      "run=400/1000\n",
      "run=500/1000\n",
      "run=600/1000\n",
      "run=700/1000\n",
      "run=800/1000\n",
      "run=900/1000\n",
      "run=1000/1000\n",
      "train on 8 subjects\n",
      "run=100/1000\n",
      "run=200/1000\n",
      "run=300/1000\n",
      "run=400/1000\n",
      "run=500/1000\n",
      "run=600/1000\n",
      "run=700/1000\n",
      "run=800/1000\n",
      "run=900/1000\n",
      "run=1000/1000\n",
      "train on 9 subjects\n",
      "run=100/1000\n",
      "run=200/1000\n",
      "run=300/1000\n",
      "run=400/1000\n",
      "run=500/1000\n",
      "run=600/1000\n",
      "run=700/1000\n",
      "run=800/1000\n",
      "run=900/1000\n",
      "run=1000/1000\n",
      "train on 10 subjects\n",
      "run=100/1000\n",
      "run=200/1000\n",
      "run=300/1000\n",
      "run=400/1000\n",
      "run=500/1000\n",
      "run=600/1000\n",
      "run=700/1000\n",
      "run=800/1000\n",
      "run=900/1000\n",
      "run=1000/1000\n",
      "Elapsed time=38237.74 secs\n"
     ]
    }
   ],
   "source": [
    "col_names = CBRData.column_names()\n",
    "label_cols = col_names[-1:] #the : is used to return a list with one element \n",
    "feature_cols = col_names[2:-1]\n",
    "\n",
    "Nruns = 1000 #total # of runs\n",
    "Ntrain = len(CBRData['SubjID'].unique()) #the total number of patients (CBR)\n",
    "Bacc_all = np.zeros((Nruns,Ntrain-1)) #contains the Bacc for each run \n",
    "\n",
    "t0 = time.time()\n",
    "#loop through num subj to train on\n",
    "for n in range(Ntrain-1): #-1 as one patient is out for test\n",
    "    print 'train on {} subjects'.format(n+1)\n",
    "    for run in range(1,Nruns+1):\n",
    "        if run%100 == 0:\n",
    "            print 'run={}/{}'.format(run,Nruns)       \n",
    "        #pick n subj to train (use last for test)\n",
    "        np.random.shuffle(PatientCodes)\n",
    "        subjtrain = PatientCodes[0:n+1]\n",
    "        train = CBRData.filter_by(subjtrain,'SubjID')\n",
    "        subjtest = PatientCodes[n+1] #pick one patient to test (the last, not in train)\n",
    "        test = CBRData.filter_by(subjtest,'SubjID')\n",
    "        #print 'Run=%s, Train on subj %s, test on patient %s'%(run,train['SubjID'].unique(),test['SubjID'].unique())\n",
    "\n",
    "        Xtrain = train.select_columns(feature_cols).to_numpy()\n",
    "        ytrain = train.select_columns(label_cols).to_numpy()\n",
    "        ytrain = ytrain.reshape(-1) #to squeeze last dimension and obtain a 1D array\n",
    "        Xtest = test.select_columns(feature_cols).to_numpy()\n",
    "        ytest = test.select_columns(label_cols).to_numpy()\n",
    "        ytest = ytest.reshape(-1)\n",
    "\n",
    "        RF = RandomForestClassifier(n_estimators=50,n_jobs=-1)\n",
    "        RF = RF.fit(Xtrain,ytrain)\n",
    "        ypred = RF.predict(Xtest)\n",
    "\n",
    "        #acc = sum(ypred == ytest)/len(ytest)\n",
    "        #balanced accuracy for current run\n",
    "        Bacc_all[run-1,n],acc_class = Balanced_acc(ypred,ytest)\n",
    "        #print 'Bacc = {:.2f}'.format(Bacc_all[run-1,n])\n",
    "t1 = time.time()\n",
    "print 'Elapsed time=%.2f secs'%(t1-t0)"
   ]
  },
  {
   "cell_type": "code",
   "execution_count": 6,
   "metadata": {
    "collapsed": true
   },
   "outputs": [],
   "source": [
    "np.savetxt('results_GlobalP_CBR.csv', Bacc_all, delimiter=',') "
   ]
  }
 ],
 "metadata": {
  "kernelspec": {
   "display_name": "Python 2",
   "language": "python",
   "name": "python2"
  },
  "language_info": {
   "codemirror_mode": {
    "name": "ipython",
    "version": 2
   },
   "file_extension": ".py",
   "mimetype": "text/x-python",
   "name": "python",
   "nbconvert_exporter": "python",
   "pygments_lexer": "ipython2",
   "version": "2.7.11"
  }
 },
 "nbformat": 4,
 "nbformat_minor": 0
}
