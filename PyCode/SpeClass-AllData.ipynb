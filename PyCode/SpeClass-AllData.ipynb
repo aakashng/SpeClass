{
 "cells": [
  {
   "cell_type": "code",
   "execution_count": 4,
   "metadata": {
    "collapsed": true
   },
   "outputs": [],
   "source": [
    "from __future__ import division\n",
    "import numpy as np\n",
    "from sklearn.datasets import make_classification\n",
    "from sklearn.cross_validation import train_test_split\n",
    "from sklearn.metrics import confusion_matrix\n",
    "from sklearn.ensemble import RandomForestClassifier\n",
    "from sklearn.tree import DecisionTreeClassifier\n",
    "import matplotlib.pyplot as plt\n",
    "%matplotlib inline\n",
    "import graphlab"
   ]
  },
  {
   "cell_type": "code",
   "execution_count": 5,
   "metadata": {
    "collapsed": true
   },
   "outputs": [],
   "source": [
    "#balanced accuracy\n",
    "def Balanced_acc(ypred,ytest):\n",
    "    acc_c = 0\n",
    "    acc_class = np.zeros(5) #the accuracy per class\n",
    "    for c in np.unique(ytest):\n",
    "        i = ytest == c\n",
    "        correct = ypred[i] == ytest[i]\n",
    "        acc_c += sum(correct)/len(correct)\n",
    "        acc_class[c] = sum(correct)/len(correct)\n",
    "\n",
    "    Bacc = acc_c/len(np.unique(ytest))\n",
    "    return Bacc,acc_class\n",
    "\n",
    "def plot_confusion_matrix(cm, title='Confusion matrix', cmap=plt.cm.Blues):\n",
    "    plt.imshow(cm, interpolation='nearest', cmap=cmap)\n",
    "    plt.title(title)\n",
    "    plt.colorbar()\n",
    "    tick_marks = np.arange(5)\n",
    "    plt.xticks(tick_marks, ['Sit','StairsUp','StairsDw','Stand','Walk'], rotation=45)\n",
    "    plt.yticks(tick_marks, ['Sit','StairsUp','StairsDw','Stand','Walk'])\n",
    "    plt.tight_layout()\n",
    "    plt.ylabel('True label')\n",
    "    plt.xlabel('Predicted label')"
   ]
  },
  {
   "cell_type": "markdown",
   "metadata": {},
   "source": [
    "### Load Data"
   ]
  },
  {
   "cell_type": "code",
   "execution_count": 6,
   "metadata": {
    "collapsed": false
   },
   "outputs": [
    {
     "name": "stdout",
     "output_type": "stream",
     "text": [
      "This non-commercial license of GraphLab Create for academic use is assigned to llonini@ricres.org and will expire on November 11, 2016.\n"
     ]
    },
    {
     "name": "stderr",
     "output_type": "stream",
     "text": [
      "[INFO] graphlab.cython.cy_server: GraphLab Create v2.1 started. Logging: C:\\Users\\llonini\\AppData\\Local\\Temp\\graphlab_server_1475252075.log.0\n"
     ]
    }
   ],
   "source": [
    "HealthyData = graphlab.SFrame.read_csv('../../Datasets/Cbrace/HealthyData.csv',verbose=False)\n",
    "CBRData = graphlab.SFrame.read_csv('../../Datasets/Cbrace/PatientCBRData.csv',verbose=False)\n",
    "SCOData = graphlab.SFrame.read_csv('../../Datasets/Cbrace/PatientSCOData.csv',verbose=False)"
   ]
  },
  {
   "cell_type": "code",
   "execution_count": 7,
   "metadata": {
    "collapsed": false
   },
   "outputs": [
    {
     "name": "stdout",
     "output_type": "stream",
     "text": [
      "[51L, 52L, 53L, 54L, 55L, 56L, 57L, 58L, 59L, 60L, 61L]\n",
      "[1L, 2L, 5L, 6L, 8L, 11L, 12L, 13L, 14L, 15L, 16L, 19L]\n"
     ]
    }
   ],
   "source": [
    "HealthyCodes = HealthyData['SubjID'].unique()\n",
    "HealthyCodes = HealthyCodes.sort()\n",
    "print HealthyCodes\n",
    "PatientCodes = CBRData['SubjID'].unique()\n",
    "PatientCodes = PatientCodes.sort()\n",
    "print PatientCodes"
   ]
  },
  {
   "cell_type": "code",
   "execution_count": 8,
   "metadata": {
    "collapsed": true
   },
   "outputs": [],
   "source": [
    "PatientCodes = np.array([1, 2, 5, 6, 8, 11, 14, 15, 16, 19]) #all patients with 4 sessions in SCO and CBR"
   ]
  },
  {
   "cell_type": "markdown",
   "metadata": {},
   "source": [
    "### We use 4 sessions from both CBR and SCO data. Remove stairs CBR data for patients who don't have at least 2 sessions with stairs data"
   ]
  },
  {
   "cell_type": "markdown",
   "metadata": {},
   "source": [
    "Inspect SCO Data"
   ]
  },
  {
   "cell_type": "code",
   "execution_count": 12,
   "metadata": {
    "collapsed": false,
    "scrolled": true
   },
   "outputs": [
    {
     "name": "stdout",
     "output_type": "stream",
     "text": [
      "1 1 [0 1 2 3 4]\n",
      "1 2 [0 1 2 3 4]\n",
      "1 3 [0 1 2 3 4]\n",
      "1 4 [0 1 2 3 4]\n",
      "2 1 [0 1 2 3 4]\n",
      "2 2 [0 1 2 3 4]\n",
      "2 3 [0 3 4]\n",
      "2 4 [0 1 2 3 4]\n",
      "5 1 [0 3 4]\n",
      "5 2 [0 1 2 3 4]\n",
      "5 3 [0 1 2 3 4]\n",
      "6 1 [0 1 2 3 4]\n",
      "6 2 [0 1 2 3 4]\n",
      "6 3 [0 1 2 3 4]\n",
      "6 4 [0 1 2 3 4]\n",
      "8 1 [0 1 2 3 4]\n",
      "8 2 [0 3 4]\n",
      "8 3 [0 3 4]\n",
      "8 4 [0 3 4]\n",
      "11 1 [0 3 4]\n",
      "11 2 [0 3 4]\n",
      "11 3 [0 3 4]\n",
      "11 4 [0 1 2 3 4]\n",
      "14 1 [0 1 2 3 4]\n",
      "14 2 [0 1 2 3 4]\n",
      "14 3 [0 1 2 3 4]\n",
      "14 4 [0 1 2 3 4]\n",
      "15 1 [0 3 4]\n",
      "15 2 [0 3 4]\n",
      "15 3 [0 1 2 3 4]\n",
      "16 1 [0 1 2 3 4]\n",
      "16 2 [0 3 4]\n",
      "16 3 [0 1 2 3 4]\n",
      "16 4 [0 1 2 3 4]\n",
      "19 1 [0 3 4]\n",
      "19 2 [0 1 2 3 4]\n",
      "19 3 [0 3 4]\n"
     ]
    }
   ],
   "source": [
    "for s in PatientCodes:\n",
    "    data = SCOData[SCOData['SubjID']==s]\n",
    "    for sess in np.unique(data['Session']):\n",
    "        print s,sess,np.unique(data[data['Session']==sess]['Label'].unique().sort())"
   ]
  },
  {
   "cell_type": "code",
   "execution_count": 13,
   "metadata": {
    "collapsed": false
   },
   "outputs": [
    {
     "name": "stdout",
     "output_type": "stream",
     "text": [
      "18762\n"
     ]
    }
   ],
   "source": [
    "print SCOData.num_rows()"
   ]
  },
  {
   "cell_type": "markdown",
   "metadata": {},
   "source": [
    "Inspect CBR Data"
   ]
  },
  {
   "cell_type": "code",
   "execution_count": 21,
   "metadata": {
    "collapsed": false,
    "scrolled": true
   },
   "outputs": [
    {
     "name": "stdout",
     "output_type": "stream",
     "text": [
      "1 1 [0 1 2 3 4]\n",
      "1 2 [0 1 2 3 4]\n",
      "1 3 [0 1 2 3 4]\n",
      "1 4 [0 1 2 3 4]\n",
      "2 1 [0 1 2 3 4]\n",
      "2 2 [0 1 2 3 4]\n",
      "2 3 [0 1 2 3 4]\n",
      "2 4 [0 1 2 3 4]\n",
      "5 1 [0 1 2 3 4]\n",
      "5 2 [0 1 2 3 4]\n",
      "5 3 [0 1 2 3 4]\n",
      "5 4 [0 1 2 3 4]\n",
      "6 1 [0 1 3 4]\n",
      "6 2 [0 1 2 3 4]\n",
      "6 3 [0 1 2 3 4]\n",
      "6 4 [0 1 2 3 4]\n",
      "8 1 [0 3 4]\n",
      "8 2 [0 3 4]\n",
      "8 3 [0 3 4]\n",
      "8 4 [0 3 4]\n",
      "11 1 [0 3 4]\n",
      "11 2 [0 1 2 3 4]\n",
      "11 3 [0 1 2 3 4]\n",
      "11 4 [0 1 2 3 4]\n",
      "14 1 [0 3 4]\n",
      "14 2 [0 3 4]\n",
      "14 3 [0 1 2 3 4]\n",
      "14 4 [0 1 2 3 4]\n",
      "15 1 [0 3 4]\n",
      "15 2 [0 1 2 3 4]\n",
      "15 3 [0 3 4]\n",
      "15 4 [0 1 2 3 4]\n",
      "16 1 [0 1 2 3 4]\n",
      "16 2 [0 1 2 3 4]\n",
      "16 3 [0 1 2 3 4]\n",
      "16 4 [0 1 2 3 4]\n",
      "19 1 [0 3 4]\n",
      "19 2 [0 3 4]\n",
      "19 3 [0 3 4]\n",
      "19 4 [0 3 4]\n"
     ]
    }
   ],
   "source": [
    "for s in PatientCodes:\n",
    "    data = CBRData[CBRData['SubjID']==s]\n",
    "    for sess in np.unique(data['Session']):\n",
    "        print s,sess,np.unique(data[data['Session']==sess]['Label'].unique().sort())\n"
   ]
  },
  {
   "cell_type": "markdown",
   "metadata": {},
   "source": [
    "* Remove stairs from CBR08 "
   ]
  },
  {
   "cell_type": "code",
   "execution_count": 16,
   "metadata": {
    "collapsed": false
   },
   "outputs": [
    {
     "name": "stdout",
     "output_type": "stream",
     "text": [
      "1 [0L, 1L, 2L, 3L, 4L]\n",
      "2 [0L, 1L, 2L, 3L, 4L]\n",
      "5 [0L, 1L, 2L, 3L, 4L]\n",
      "6 [0L, 1L, 2L, 3L, 4L]\n",
      "8 [0L, 3L, 4L]\n",
      "11 [0L, 1L, 2L, 3L, 4L]\n",
      "14 [0L, 1L, 2L, 3L, 4L]\n",
      "15 [0L, 1L, 2L, 3L, 4L]\n",
      "16 [0L, 1L, 2L, 3L, 4L]\n",
      "19 [0L, 3L, 4L]\n"
     ]
    }
   ],
   "source": [
    "Nostairs = [8] #the patient to remove stairs \n",
    "CBRDatanew = CBRData.filter_by(Nostairs,'SubjID',exclude=True)\n",
    "for s in Nostairs:\n",
    "    data = CBRData[(CBRData['SubjID']==s)].filter_by([0,3,4],'Label')\n",
    "    CBRDatanew=CBRDatanew.append(data)\n",
    "\n",
    "for s in PatientCodes:\n",
    "    print s,CBRDatanew[CBRDatanew['SubjID']==s]['Label'].unique().sort()"
   ]
  },
  {
   "cell_type": "markdown",
   "metadata": {},
   "source": [
    "All the CBR subjects have stairs except 2 of them"
   ]
  },
  {
   "cell_type": "code",
   "execution_count": 17,
   "metadata": {
    "collapsed": false
   },
   "outputs": [
    {
     "name": "stdout",
     "output_type": "stream",
     "text": [
      "22354\n",
      "22323\n"
     ]
    }
   ],
   "source": [
    "print CBRData.num_rows()\n",
    "print CBRDatanew.num_rows()"
   ]
  },
  {
   "cell_type": "code",
   "execution_count": 18,
   "metadata": {
    "collapsed": true
   },
   "outputs": [],
   "source": [
    "CBRData = CBRDatanew"
   ]
  },
  {
   "cell_type": "markdown",
   "metadata": {},
   "source": [
    "## Train RF on healthy "
   ]
  },
  {
   "cell_type": "code",
   "execution_count": 20,
   "metadata": {
    "collapsed": false
   },
   "outputs": [
    {
     "name": "stdout",
     "output_type": "stream",
     "text": [
      "Test on Patient 1, Train samples=8375, Test samples=1678, Nclass test=5\n",
      "BAcc = 0.48\n",
      "Test on Patient 2, Train samples=8375, Test samples=1458, Nclass test=5\n",
      "BAcc = 0.34\n",
      "Test on Patient 5, Train samples=8375, Test samples=1773, Nclass test=5\n",
      "BAcc = 0.45\n",
      "Test on Patient 6, Train samples=8375, Test samples=2916, Nclass test=5\n",
      "BAcc = 0.58\n",
      "Test on Patient 8, Train samples=8375, Test samples=1179, Nclass test=3\n",
      "BAcc = 0.34\n",
      "Test on Patient 11, Train samples=8375, Test samples=1708, Nclass test=5\n",
      "BAcc = 0.52\n",
      "Test on Patient 14, Train samples=8375, Test samples=1976, Nclass test=5\n",
      "BAcc = 0.49\n",
      "Test on Patient 15, Train samples=8375, Test samples=3511, Nclass test=5\n",
      "BAcc = 0.48\n",
      "Test on Patient 16, Train samples=8375, Test samples=1734, Nclass test=5\n",
      "BAcc = 0.59\n",
      "Test on Patient 19, Train samples=8375, Test samples=1565, Nclass test=3\n",
      "BAcc = 0.54\n",
      "\n",
      "median Bacc - Healthy model = 0.487269560388\n"
     ]
    }
   ],
   "source": [
    "col_names = HealthyData.column_names()\n",
    "label_cols = col_names[-1:] #the : is used to return a list with one element \n",
    "feature_cols = col_names[2:-1]\n",
    "\n",
    "Xtrain = HealthyData.select_columns(feature_cols).to_numpy()\n",
    "ytrain = HealthyData.select_columns(label_cols).to_numpy()\n",
    "ytrain = ytrain.reshape(-1) #to squeeze last dimension and obtain a 1D array\n",
    "\n",
    "RF = RandomForestClassifier(n_estimators=100)\n",
    "RF = RF.fit(Xtrain,ytrain)\n",
    "\n",
    "#test on each patient (CBR)\n",
    "SOacc = np.zeros(len(PatientCodes))\n",
    "acc_class_subj = [] #accuracy per class for each subject\n",
    "\n",
    "\n",
    "k = 0\n",
    "\n",
    "for s in PatientCodes:\n",
    "    test = CBRData[(CBRData['SubjID'] == s)]\n",
    "    Xtest = test.select_columns(feature_cols).to_numpy()\n",
    "    ytest = test.select_columns(label_cols).to_numpy()\n",
    "    ytest = ytest.reshape(-1) #to squeeze last dimension and obtain a 1D array\n",
    "    Nclasses = len(test['Label'].unique()) #How many activities we have for this patient in test data\n",
    "\n",
    "    print 'Test on Patient %s, Train samples=%s, Test samples=%s, Nclass test=%s'%(s,len(ytrain),len(ytest),Nclasses)\n",
    "    ypred = RF.predict(Xtest)\n",
    "\n",
    "    #acc = sum(ypred == ytest)/len(ytest)\n",
    "    #SOacc[k] = acc\n",
    "\n",
    "    #balanced accuracy\n",
    "    SOacc[k],acc_class = Balanced_acc(ypred,ytest)\n",
    "    acc_class_subj.append(acc_class)    \n",
    "    print 'BAcc = {:.2f}'.format(SOacc[k])\n",
    "    k = k+1\n",
    "\n",
    "print '\\nmedian Bacc - Healthy model = %s'%np.median(SOacc)"
   ]
  },
  {
   "cell_type": "markdown",
   "metadata": {},
   "source": [
    "## Global model SCO (Leave one subject out)"
   ]
  },
  {
   "cell_type": "code",
   "execution_count": 22,
   "metadata": {
    "collapsed": false
   },
   "outputs": [
    {
     "name": "stdout",
     "output_type": "stream",
     "text": [
      "Patient 1, Nclass train = 5, Nclass test = 5, Impairment specific (SCO) model - BAcc = 0.52\n",
      "Patient 2, Nclass train = 5, Nclass test = 5, Impairment specific (SCO) model - BAcc = 0.42\n",
      "Patient 5, Nclass train = 5, Nclass test = 5, Impairment specific (SCO) model - BAcc = 0.47\n",
      "Patient 6, Nclass train = 5, Nclass test = 5, Impairment specific (SCO) model - BAcc = 0.55\n",
      "Patient 8, Nclass train = 5, Nclass test = 3, Impairment specific (SCO) model - BAcc = 0.50\n",
      "Patient 11, Nclass train = 5, Nclass test = 5, Impairment specific (SCO) model - BAcc = 0.57\n",
      "Patient 14, Nclass train = 5, Nclass test = 5, Impairment specific (SCO) model - BAcc = 0.59\n",
      "Patient 15, Nclass train = 5, Nclass test = 5, Impairment specific (SCO) model - BAcc = 0.56\n",
      "Patient 16, Nclass train = 5, Nclass test = 5, Impairment specific (SCO) model - BAcc = 0.55\n",
      "Patient 19, Nclass train = 5, Nclass test = 3, Impairment specific (SCO) model - BAcc = 0.84\n",
      "Median BAcc - Impairment Specific (SCO) = 0.552865293212\n"
     ]
    }
   ],
   "source": [
    "ISpec_acc = np.zeros(len(PatientCodes)) \n",
    "k = 0\n",
    "for s in PatientCodes:\n",
    "    \n",
    "    train = SCOData[(SCOData['SubjID'] != s)]\n",
    "    test = CBRData[(CBRData['SubjID'] == s)] \n",
    "    Nclasstrain = len(train['Label'].unique())\n",
    "    Nclasses = len(test['Label'].unique()) #How many activities we have for this patient in test data\n",
    "\n",
    "    Xtrain = train.select_columns(feature_cols).to_numpy()\n",
    "    ytrain = train.select_columns(label_cols).to_numpy()\n",
    "    ytrain = ytrain.reshape(-1)\n",
    "    Xtest = test.select_columns(feature_cols).to_numpy()\n",
    "    ytest = test.select_columns(label_cols).to_numpy()\n",
    "    ytest = ytest.reshape(-1)\n",
    "    \n",
    "    RF = RandomForestClassifier(n_estimators=100)\n",
    "    RF = RF.fit(Xtrain,ytrain)\n",
    "    ypred = RF.predict(Xtest)\n",
    "    #acc = sum(ypred == ytest)/len(ytest)\n",
    "    #balanced accuracy\n",
    "    ISpec_acc[k],acc_class = Balanced_acc(ypred,ytest)\n",
    "    acc_class_subj.append(acc_class)   \n",
    "    print 'Patient {}, Nclass train = {}, Nclass test = {}, Impairment specific (SCO) model - BAcc = {:.2f}'.format(s,Nclasstrain,Nclasses,ISpec_acc[k])\n",
    "    k = k+1\n",
    "\n",
    "print 'Median BAcc - Impairment Specific (SCO) = %s'%np.median(ISpec_acc)"
   ]
  },
  {
   "cell_type": "markdown",
   "metadata": {},
   "source": [
    "## Global model CBR (Leave one subject out)"
   ]
  },
  {
   "cell_type": "code",
   "execution_count": 24,
   "metadata": {
    "collapsed": false
   },
   "outputs": [
    {
     "name": "stdout",
     "output_type": "stream",
     "text": [
      "Patient 1, Nclass train = 5, Nclass test = 5, Global CBR model - BAcc = 0.61\n",
      "Patient 2, Nclass train = 5, Nclass test = 5, Global CBR model - BAcc = 0.44\n",
      "Patient 5, Nclass train = 5, Nclass test = 5, Global CBR model - BAcc = 0.54\n",
      "Patient 6, Nclass train = 5, Nclass test = 5, Global CBR model - BAcc = 0.57\n",
      "Patient 8, Nclass train = 5, Nclass test = 3, Global CBR model - BAcc = 0.56\n",
      "Patient 11, Nclass train = 5, Nclass test = 5, Global CBR model - BAcc = 0.57\n",
      "Patient 14, Nclass train = 5, Nclass test = 5, Global CBR model - BAcc = 0.54\n",
      "Patient 15, Nclass train = 5, Nclass test = 5, Global CBR model - BAcc = 0.60\n",
      "Patient 16, Nclass train = 5, Nclass test = 5, Global CBR model - BAcc = 0.60\n",
      "Patient 19, Nclass train = 5, Nclass test = 3, Global CBR model - BAcc = 0.88\n",
      "Median BAcc - Global CBR model = 0.57144592259\n"
     ]
    }
   ],
   "source": [
    "ISpecCBR_acc = np.zeros(len(PatientCodes)) \n",
    "k = 0\n",
    "for s in PatientCodes:\n",
    "    \n",
    "    train = CBRData[(CBRData['SubjID'] != s)]\n",
    "    test = CBRData[(CBRData['SubjID'] == s)] #test on 3 CBR sessions\n",
    "    Nclasstrain = len(train['Label'].unique())\n",
    "    Nclasses = len(test['Label'].unique()) #How many activities we have for this patient in test data\n",
    "\n",
    "    Xtrain = train.select_columns(feature_cols).to_numpy()\n",
    "    ytrain = train.select_columns(label_cols).to_numpy()\n",
    "    ytrain = ytrain.reshape(-1)\n",
    "    Xtest = test.select_columns(feature_cols).to_numpy()\n",
    "    ytest = test.select_columns(label_cols).to_numpy()\n",
    "    ytest = ytest.reshape(-1)\n",
    "    \n",
    "    RF = RandomForestClassifier(n_estimators=100,random_state=0)\n",
    "    RF = RF.fit(Xtrain,ytrain)\n",
    "    ypred = RF.predict(Xtest)\n",
    "    #acc = sum(ypred == ytest)/len(ytest)\n",
    "    #balanced accuracy\n",
    "    ISpecCBR_acc[k],acc_class = Balanced_acc(ypred,ytest)\n",
    "    acc_class_subj.append(acc_class)   \n",
    "    print 'Patient {}, Nclass train = {}, Nclass test = {}, Global CBR model - BAcc = {:.2f}'.format(s,Nclasstrain,Nclasses,ISpecCBR_acc[k])\n",
    "    k = k+1\n",
    "\n",
    "print 'Median BAcc - Global CBR model = %s'%np.median(ISpecCBR_acc)"
   ]
  },
  {
   "cell_type": "markdown",
   "metadata": {},
   "source": [
    "## Train on SCO and test on CBR (Patient Specific model) "
   ]
  },
  {
   "cell_type": "code",
   "execution_count": 23,
   "metadata": {
    "collapsed": false
   },
   "outputs": [
    {
     "name": "stdout",
     "output_type": "stream",
     "text": [
      "Patient 1, Nclass train = 5, Nclass test = 5, Personal model (Trained on SCO) - BAcc = 0.72\n",
      "Patient 2, Nclass train = 5, Nclass test = 5, Personal model (Trained on SCO) - BAcc = 0.49\n",
      "Patient 5, Nclass train = 5, Nclass test = 5, Personal model (Trained on SCO) - BAcc = 0.63\n",
      "Patient 6, Nclass train = 5, Nclass test = 5, Personal model (Trained on SCO) - BAcc = 0.61\n",
      "Patient 8, Nclass train = 5, Nclass test = 3, Personal model (Trained on SCO) - BAcc = 0.77\n",
      "Patient 11, Nclass train = 5, Nclass test = 5, Personal model (Trained on SCO) - BAcc = 0.46\n",
      "Patient 14, Nclass train = 5, Nclass test = 5, Personal model (Trained on SCO) - BAcc = 0.53\n",
      "Patient 15, Nclass train = 5, Nclass test = 5, Personal model (Trained on SCO) - BAcc = 0.49\n",
      "Patient 16, Nclass train = 5, Nclass test = 5, Personal model (Trained on SCO) - BAcc = 0.50\n",
      "Patient 19, Nclass train = 5, Nclass test = 3, Personal model (Trained on SCO) - BAcc = 0.79\n",
      "Median BAcc - Patient Specific (SCO) = 0.57368818819\n"
     ]
    }
   ],
   "source": [
    "PSpec_acc = np.zeros(len(PatientCodes)) \n",
    "k = 0\n",
    "for s in PatientCodes:\n",
    "    \n",
    "    train = SCOData[(SCOData['SubjID'] == s)]\n",
    "    test = CBRData[(CBRData['SubjID'] == s)]\n",
    "    Nclasstrain = len(train['Label'].unique())\n",
    "    Nclasses = len(test['Label'].unique()) #How many activities we have for this patient in test data\n",
    "\n",
    "    Xtrain = train.select_columns(feature_cols).to_numpy()\n",
    "    ytrain = train.select_columns(label_cols).to_numpy()\n",
    "    ytrain = ytrain.reshape(-1)\n",
    "    Xtest = test.select_columns(feature_cols).to_numpy()\n",
    "    ytest = test.select_columns(label_cols).to_numpy()\n",
    "    ytest = ytest.reshape(-1)\n",
    "    \n",
    "    RF = RandomForestClassifier(n_estimators=50)\n",
    "    RF = RF.fit(Xtrain,ytrain)\n",
    "    ypred = RF.predict(Xtest)\n",
    "    #acc = sum(ypred == ytest)/len(ytest)\n",
    "    #balanced accuracy\n",
    "    PSpec_acc[k],acc_class = Balanced_acc(ypred,ytest)\n",
    "    \n",
    "    print 'Patient {}, Nclass train = {}, Nclass test = {}, Personal model (Trained on SCO) - BAcc = {:.2f}'.format(s,Nclasstrain,Nclasses,PSpec_acc[k])\n",
    "    k = k+1\n",
    "\n",
    "print 'Median BAcc - Patient Specific (SCO) = %s'%np.median(PSpec_acc)"
   ]
  },
  {
   "cell_type": "markdown",
   "metadata": {},
   "source": [
    "## Patient and Device specific model (CBR) - Leave One Session Out "
   ]
  },
  {
   "cell_type": "code",
   "execution_count": 26,
   "metadata": {
    "collapsed": false
   },
   "outputs": [
    {
     "data": {
      "text/plain": [
       "[1, 2, 3, 4]"
      ]
     },
     "execution_count": 26,
     "metadata": {},
     "output_type": "execute_result"
    }
   ],
   "source": [
    "range(1,5)"
   ]
  },
  {
   "cell_type": "code",
   "execution_count": 31,
   "metadata": {
    "collapsed": false
   },
   "outputs": [
    {
     "name": "stdout",
     "output_type": "stream",
     "text": [
      "Nclass train = 5, Nclass test =5, BAcc = 0.86\n",
      "Nclass train = 5, Nclass test =5, BAcc = 0.85\n",
      "Nclass train = 5, Nclass test =5, BAcc = 0.88\n",
      "Nclass train = 5, Nclass test =5, BAcc = 0.74\n",
      "Patient 1, Device Specific model - BAcc = 0.84\n",
      "Nclass train = 5, Nclass test =5, BAcc = 0.75\n",
      "Nclass train = 5, Nclass test =5, BAcc = 0.54\n",
      "Nclass train = 5, Nclass test =5, BAcc = 0.72\n",
      "Nclass train = 5, Nclass test =5, BAcc = 0.58\n",
      "Patient 2, Device Specific model - BAcc = 0.64\n",
      "Nclass train = 5, Nclass test =5, BAcc = 0.70\n",
      "Nclass train = 5, Nclass test =5, BAcc = 0.59\n",
      "Nclass train = 5, Nclass test =5, BAcc = 0.66\n",
      "Nclass train = 5, Nclass test =5, BAcc = 0.70\n",
      "Patient 5, Device Specific model - BAcc = 0.66\n",
      "Nclass train = 5, Nclass test =4, BAcc = 0.68\n",
      "Nclass train = 5, Nclass test =5, BAcc = 0.51\n",
      "Nclass train = 5, Nclass test =5, BAcc = 0.62\n",
      "Nclass train = 5, Nclass test =5, BAcc = 0.77\n",
      "Patient 6, Device Specific model - BAcc = 0.65\n",
      "Nclass train = 3, Nclass test =3, BAcc = 0.92\n",
      "Nclass train = 3, Nclass test =3, BAcc = 0.72\n",
      "Nclass train = 3, Nclass test =3, BAcc = 0.98\n",
      "Nclass train = 3, Nclass test =3, BAcc = 0.98\n",
      "Patient 8, Device Specific model - BAcc = 0.90\n",
      "Nclass train = 5, Nclass test =3, BAcc = 0.98\n",
      "Nclass train = 5, Nclass test =5, BAcc = 0.47\n",
      "Nclass train = 5, Nclass test =5, BAcc = 0.69\n",
      "Nclass train = 5, Nclass test =5, BAcc = 0.51\n",
      "Patient 11, Device Specific model - BAcc = 0.66\n",
      "Nclass train = 5, Nclass test =3, BAcc = 0.98\n",
      "Nclass train = 5, Nclass test =3, BAcc = 0.99\n",
      "Nclass train = 5, Nclass test =5, BAcc = 0.58\n",
      "Nclass train = 5, Nclass test =5, BAcc = 0.69\n",
      "Patient 14, Device Specific model - BAcc = 0.81\n",
      "Nclass train = 5, Nclass test =3, BAcc = 0.94\n",
      "Nclass train = 5, Nclass test =5, BAcc = 0.59\n",
      "Nclass train = 5, Nclass test =3, BAcc = 0.98\n",
      "Nclass train = 5, Nclass test =5, BAcc = 0.60\n",
      "Patient 15, Device Specific model - BAcc = 0.78\n",
      "Nclass train = 5, Nclass test =5, BAcc = 0.63\n",
      "Nclass train = 5, Nclass test =5, BAcc = 0.63\n",
      "Nclass train = 5, Nclass test =5, BAcc = 0.82\n",
      "Nclass train = 5, Nclass test =5, BAcc = 0.94\n",
      "Patient 16, Device Specific model - BAcc = 0.75\n",
      "Nclass train = 3, Nclass test =3, BAcc = 0.49\n",
      "Nclass train = 3, Nclass test =3, BAcc = 0.98\n",
      "Nclass train = 3, Nclass test =3, BAcc = 0.85\n",
      "Nclass train = 3, Nclass test =3, BAcc = 0.80\n",
      "Patient 19, Device Specific model - BAcc = 0.78\n",
      "Median BAcc - Device Specific (CBR) = 0.766494187096\n"
     ]
    }
   ],
   "source": [
    "DSpec_acc = np.zeros(len(PatientCodes)) \n",
    "k = 0\n",
    "for s in PatientCodes:\n",
    "    \n",
    "    data =  CBRData[(CBRData['SubjID'] == s)] \n",
    "    Bacc = np.zeros(4)\n",
    "    for session in range(1,5):\n",
    "                  \n",
    "        test = data[data['Session'] == session]\n",
    "        train = data[data['Session'] != session]\n",
    "        Nclasstrain = len(train['Label'].unique())\n",
    "        Nclasses = len(test['Label'].unique()) #How many activities we have for this patient in test data\n",
    "\n",
    "        Xtrain = train.select_columns(feature_cols).to_numpy()\n",
    "        ytrain = train.select_columns(label_cols).to_numpy()\n",
    "        ytrain = ytrain.reshape(-1)\n",
    "        Xtest = test.select_columns(feature_cols).to_numpy()\n",
    "        ytest = test.select_columns(label_cols).to_numpy()\n",
    "        ytest = ytest.reshape(-1)\n",
    "\n",
    "        RF = RandomForestClassifier(n_estimators=50)\n",
    "        RF = RF.fit(Xtrain,ytrain)\n",
    "        ypred = RF.predict(Xtest)\n",
    "        #acc = sum(ypred == ytest)/len(ytest)\n",
    "        #balanced accuracy on each session\n",
    "        Bacc[session-1],acc_class = Balanced_acc(ypred,ytest)\n",
    "        print 'Nclass train = {}, Nclass test ={}, BAcc = {:.2f}'.format(Nclasstrain,Nclasses,Bacc[session-1])\n",
    "\n",
    "    DSpec_acc[k] = Bacc.mean() #the CV BAcc on 3 sessions \n",
    "    print 'Patient {}, Device Specific model - BAcc = {:.2f}'.format(s,DSpec_acc[k])\n",
    "    k = k+1\n",
    "\n",
    "print 'Median BAcc - Device Specific (CBR) = %s'%np.median(DSpec_acc)"
   ]
  },
  {
   "cell_type": "code",
   "execution_count": 32,
   "metadata": {
    "collapsed": false
   },
   "outputs": [
    {
     "name": "stdout",
     "output_type": "stream",
     "text": [
      "[[ 0.48298527  0.52099959  0.71821111  0.83621866]\n",
      " [ 0.34437885  0.41904023  0.48740246  0.64440573]\n",
      " [ 0.45225881  0.47068381  0.62645498  0.6614866 ]\n",
      " [ 0.58308531  0.551398    0.61301841  0.64513608]\n",
      " [ 0.34432134  0.49734316  0.77364931  0.90150699]\n",
      " [ 0.52072587  0.5672036   0.46337939  0.66125236]\n",
      " [ 0.49155385  0.58938643  0.53435797  0.80886127]\n",
      " [ 0.481689    0.55877392  0.49354566  0.7790484 ]\n",
      " [ 0.58665849  0.55433259  0.5042735   0.75393997]\n",
      " [ 0.54362576  0.84007384  0.79297314  0.78107457]]\n"
     ]
    }
   ],
   "source": [
    "acc_all=np.vstack((SOacc,ISpec_acc,PSpec_acc,DSpec_acc)).T\n",
    "print acc_all"
   ]
  },
  {
   "cell_type": "code",
   "execution_count": 33,
   "metadata": {
    "collapsed": false
   },
   "outputs": [
    {
     "data": {
      "text/plain": [
       "<function matplotlib.pyplot.show>"
      ]
     },
     "execution_count": 33,
     "metadata": {},
     "output_type": "execute_result"
    },
    {
     "data": {
      "image/png": "[encoded data removed]",
      "text/plain": [
       "<matplotlib.figure.Figure at 0x3bb60b8>"
      ]
     },
     "metadata": {},
     "output_type": "display_data"
    }
   ],
   "source": [
    "plt.boxplot(acc_all)\n",
    "plt.show"
   ]
  },
  {
   "cell_type": "code",
   "execution_count": 34,
   "metadata": {
    "collapsed": false
   },
   "outputs": [
    {
     "data": {
      "text/plain": [
       "0.48726956038769192"
      ]
     },
     "execution_count": 34,
     "metadata": {},
     "output_type": "execute_result"
    }
   ],
   "source": [
    "np.median(SOacc)"
   ]
  },
  {
   "cell_type": "code",
   "execution_count": 35,
   "metadata": {
    "collapsed": false
   },
   "outputs": [
    {
     "data": {
      "text/plain": [
       "0.55286529321191025"
      ]
     },
     "execution_count": 35,
     "metadata": {},
     "output_type": "execute_result"
    }
   ],
   "source": [
    "np.median(ISpec_acc)"
   ]
  },
  {
   "cell_type": "code",
   "execution_count": 36,
   "metadata": {
    "collapsed": false
   },
   "outputs": [
    {
     "data": {
      "text/plain": [
       "0.57368818819032008"
      ]
     },
     "execution_count": 36,
     "metadata": {},
     "output_type": "execute_result"
    }
   ],
   "source": [
    "np.median(PSpec_acc)"
   ]
  },
  {
   "cell_type": "code",
   "execution_count": 37,
   "metadata": {
    "collapsed": false
   },
   "outputs": [
    {
     "data": {
      "text/plain": [
       "0.7664941870963089"
      ]
     },
     "execution_count": 37,
     "metadata": {},
     "output_type": "execute_result"
    }
   ],
   "source": [
    "np.median(DSpec_acc)"
   ]
  },
  {
   "cell_type": "code",
   "execution_count": 38,
   "metadata": {
    "collapsed": true
   },
   "outputs": [],
   "source": [
    "np.savetxt('results.csv', acc_all, delimiter=',') "
   ]
  },
  {
   "cell_type": "code",
   "execution_count": null,
   "metadata": {
    "collapsed": true
   },
   "outputs": [],
   "source": []
  }
 ],
 "metadata": {
  "kernelspec": {
   "display_name": "Python 2",
   "language": "python",
   "name": "python2"
  },
  "language_info": {
   "codemirror_mode": {
    "name": "ipython",
    "version": 2
   },
   "file_extension": ".py",
   "mimetype": "text/x-python",
   "name": "python",
   "nbconvert_exporter": "python",
   "pygments_lexer": "ipython2",
   "version": "2.7.11"
  }
 },
 "nbformat": 4,
 "nbformat_minor": 0
}
