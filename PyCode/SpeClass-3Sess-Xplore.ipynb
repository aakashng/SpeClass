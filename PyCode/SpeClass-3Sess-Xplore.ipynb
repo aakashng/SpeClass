{
 "cells": [
  {
   "cell_type": "code",
   "execution_count": 1,
   "metadata": {
    "collapsed": false
   },
   "outputs": [
    {
     "name": "stdout",
     "output_type": "stream",
     "text": [
      "Populating the interactive namespace from numpy and matplotlib\n"
     ]
    }
   ],
   "source": [
    "from __future__ import division\n",
    "import numpy as np\n",
    "from sklearn.datasets import make_classification\n",
    "from sklearn.cross_validation import train_test_split\n",
    "from sklearn.metrics import confusion_matrix\n",
    "from sklearn.ensemble import RandomForestClassifier\n",
    "from sklearn.tree import DecisionTreeClassifier\n",
    "import xgboost\n",
    "import matplotlib.pyplot as plt\n",
    "%matplotlib inline\n",
    "import graphlab\n",
    "import scipy #to save mat files\n",
    "import time  #to time code\n",
    "%pylab inline "
   ]
  },
  {
   "cell_type": "code",
   "execution_count": 2,
   "metadata": {
    "collapsed": true
   },
   "outputs": [],
   "source": [
    "#balanced accuracy\n",
    "def Balanced_acc(ypred,ytest):\n",
    "    acc_c = 0\n",
    "    acc_class = np.zeros(5) #the accuracy per class\n",
    "    for c in np.unique(ytest):\n",
    "        i = ytest == c\n",
    "        correct = ypred[i] == ytest[i]\n",
    "        acc_c += sum(correct)/len(correct)\n",
    "        acc_class[c] = sum(correct)/len(correct)\n",
    "\n",
    "    Bacc = acc_c/len(np.unique(ytest))\n",
    "    return Bacc,acc_class\n",
    "\n",
    "def plot_confusion_matrix(cm, title='Confusion matrix', cmap=plt.cm.Blues):\n",
    "    plt.imshow(cm, interpolation='nearest', cmap=cmap)\n",
    "    plt.title(title)\n",
    "    plt.colorbar()\n",
    "    tick_marks = np.arange(5)\n",
    "    plt.xticks(tick_marks, ['Sit','StairsDw','StairsUp','Stand','Walk'], rotation=45)\n",
    "    plt.yticks(tick_marks, ['Sit','StairsDw','StairsUp','Stand','Walk'])\n",
    "    plt.tight_layout()\n",
    "    plt.ylabel('True label')\n",
    "    plt.xlabel('Predicted label')\n",
    "    \n",
    "def prec_rec(cmat):\n",
    "    tpfp = cmat.sum(axis=1)\n",
    "    tpfn = cmat.sum(axis=0)\n",
    "    prec = cmat.diagonal()/tpfp\n",
    "    recall = cmat.diagonal()/tpfn\n",
    "    return prec,recall"
   ]
  },
  {
   "cell_type": "markdown",
   "metadata": {},
   "source": [
    "### Load Data"
   ]
  },
  {
   "cell_type": "code",
   "execution_count": 6,
   "metadata": {
    "collapsed": false
   },
   "outputs": [],
   "source": [
    "HealthyData = graphlab.SFrame.read_csv('../../Datasets/Cbrace/HealthyData.csv',verbose=False)\n",
    "CBRData = graphlab.SFrame.read_csv('../../Datasets/Cbrace/CBRData3Sess.csv',verbose=False)\n",
    "SCOData = graphlab.SFrame.read_csv('../../Datasets/Cbrace/SCOData3Sess.csv',verbose=False)"
   ]
  },
  {
   "cell_type": "code",
   "execution_count": 8,
   "metadata": {
    "collapsed": false
   },
   "outputs": [
    {
     "name": "stdout",
     "output_type": "stream",
     "text": [
      "[51 52 53 54 55 56 57 58 59 60 61]\n",
      "[ 1  2  5  6  8 11 14 15 16 19 24]\n"
     ]
    }
   ],
   "source": [
    "HealthyCodes = HealthyData['SubjID'].unique()\n",
    "HealthyCodes = HealthyCodes.sort()\n",
    "HealthyCodes = HealthyCodes.to_numpy()\n",
    "print HealthyCodes\n",
    "PatientCodes = CBRData['SubjID'].unique()\n",
    "PatientCodes = PatientCodes.sort()\n",
    "PatientCodes = PatientCodes.to_numpy()\n",
    "print PatientCodes"
   ]
  },
  {
   "cell_type": "markdown",
   "metadata": {},
   "source": [
    "## Global Healthy model"
   ]
  },
  {
   "cell_type": "code",
   "execution_count": 9,
   "metadata": {
    "collapsed": false
   },
   "outputs": [
    {
     "name": "stdout",
     "output_type": "stream",
     "text": [
      "Test on Patient 1, Train samples=8375, Test samples=1288, Nclass test=5\n",
      "BAcc = 0.42\n",
      "Test on Patient 2, Train samples=8375, Test samples=991, Nclass test=5\n",
      "BAcc = 0.37\n",
      "Test on Patient 5, Train samples=8375, Test samples=1358, Nclass test=5\n",
      "BAcc = 0.48\n",
      "Test on Patient 6, Train samples=8375, Test samples=2246, Nclass test=5\n",
      "BAcc = 0.61\n",
      "Test on Patient 8, Train samples=8375, Test samples=856, Nclass test=3\n",
      "BAcc = 0.34\n",
      "Test on Patient 11, Train samples=8375, Test samples=1207, Nclass test=5\n",
      "BAcc = 0.53\n",
      "Test on Patient 14, Train samples=8375, Test samples=1778, Nclass test=5\n",
      "BAcc = 0.53\n",
      "Test on Patient 15, Train samples=8375, Test samples=3177, Nclass test=5\n",
      "BAcc = 0.50\n",
      "Test on Patient 16, Train samples=8375, Test samples=1126, Nclass test=5\n",
      "BAcc = 0.51\n",
      "Test on Patient 19, Train samples=8375, Test samples=1020, Nclass test=3\n",
      "BAcc = 0.60\n",
      "Test on Patient 24, Train samples=8375, Test samples=1449, Nclass test=5\n",
      "BAcc = 0.63\n",
      "\n",
      "median Bacc - Healthy model = 0.510104882\n"
     ]
    }
   ],
   "source": [
    "col_names = HealthyData.column_names()\n",
    "label_cols = col_names[-1:] #the : is used to return a list with one element \n",
    "feature_cols = col_names[2:-1]\n",
    "\n",
    "Xtrain = HealthyData.select_columns(feature_cols).to_numpy()\n",
    "ytrain = HealthyData.select_columns(label_cols).to_numpy()\n",
    "ytrain = ytrain.reshape(-1) #to squeeze last dimension and obtain a 1D array\n",
    "\n",
    "RF = RandomForestClassifier(n_estimators=10)\n",
    "RF = RF.fit(Xtrain,ytrain)\n",
    "\n",
    "#test on each patient (CBR)\n",
    "SOacc = np.zeros(len(PatientCodes))\n",
    "acc_class_subj = [] #accuracy per class for each subject\n",
    "cmat_H = {} #store confusion mats, precision and recall for all subjects  \n",
    "prec_H = {} \n",
    "recall_H ={}\n",
    "k = 0\n",
    "\n",
    "for s in PatientCodes:\n",
    "    test = CBRData[(CBRData['SubjID'] == s)]\n",
    "    Xtest = test.select_columns(feature_cols).to_numpy()\n",
    "    ytest = test.select_columns(label_cols).to_numpy()\n",
    "    ytest = ytest.reshape(-1) #to squeeze last dimension and obtain a 1D array\n",
    "    Nclasses = len(test['Label'].unique()) #How many activities we have for this patient in test data\n",
    "\n",
    "    print 'Test on Patient %s, Train samples=%s, Test samples=%s, Nclass test=%s'%(s,len(ytrain),len(ytest),Nclasses)\n",
    "    ypred = RF.predict(Xtest)\n",
    "\n",
    "    #acc = sum(ypred == ytest)/len(ytest)\n",
    "    #SOacc[k] = acc\n",
    "\n",
    "    #balanced accuracy\n",
    "    SOacc[k],acc_class = Balanced_acc(ypred,ytest)\n",
    "    acc_class_subj.append(acc_class)  \n",
    "    \n",
    "    #confusion matrix\n",
    "    cmat = confusion_matrix(ytest, ypred,labels=[0,1,2,3,4]) #labels=[\"Sit\",\"Stairs Dw\",\"Stairs Up\",\"Stand\",\"Walk\"])\n",
    "    prec,recall = prec_rec(cmat)\n",
    "    #assemble data in dicts\n",
    "    key = 'S'+np.array_str(s) #subj code\n",
    "    cmat_H.update({key:cmat})\n",
    "    prec_H.update({s:prec})\n",
    "    recall_H.update({s:recall})\n",
    "    \n",
    "    print 'BAcc = {:.2f}'.format(SOacc[k])\n",
    "    k = k+1\n",
    "\n",
    "print '\\nmedian Bacc - Healthy model = %s'%np.median(SOacc)\n",
    "\n",
    "#mean precision and recall per class\n",
    "prec_H_mean = np.nanmean(np.asarray(prec_H.values()),axis=0)\n",
    "rec_H_mean = np.nanmean(np.asarray(recall_H.values()),axis=0)\n",
    "#acc_class_subj_mean = np.nanmean(acc_class_subj,axis=0)"
   ]
  },
  {
   "cell_type": "markdown",
   "metadata": {},
   "source": [
    "### Try XGBoost"
   ]
  },
  {
   "cell_type": "markdown",
   "metadata": {},
   "source": [
    "Sklearn implementation"
   ]
  },
  {
   "cell_type": "code",
   "execution_count": 66,
   "metadata": {
    "collapsed": false
   },
   "outputs": [],
   "source": [
    "clf = xgboost.XGBClassifier()\n",
    "clf.max_depth=6"
   ]
  },
  {
   "cell_type": "code",
   "execution_count": 67,
   "metadata": {
    "collapsed": false
   },
   "outputs": [
    {
     "data": {
      "text/plain": [
       "XGBClassifier(base_score=0.5, colsample_bylevel=1, colsample_bytree=1,\n",
       "       gamma=0, learning_rate=0.1, max_delta_step=0, max_depth=6,\n",
       "       min_child_weight=1, missing=None, n_estimators=100, nthread=-1,\n",
       "       objective='multi:softprob', reg_alpha=0, reg_lambda=1,\n",
       "       scale_pos_weight=1, seed=0, silent=True, subsample=1)"
      ]
     },
     "execution_count": 67,
     "metadata": {},
     "output_type": "execute_result"
    }
   ],
   "source": [
    "clf.fit(Xtrain,ytrain)"
   ]
  },
  {
   "cell_type": "markdown",
   "metadata": {},
   "source": [
    "Native implementation"
   ]
  },
  {
   "cell_type": "code",
   "execution_count": 55,
   "metadata": {
    "collapsed": false
   },
   "outputs": [],
   "source": [
    "xg_train = xgboost.DMatrix(Xtrain, label=ytrain)\n",
    "xg_test = xgboost.DMatrix(Xtest, label=ytest)\n",
    "# setup parameters for xgboost\n",
    "param = {}\n",
    "# use softmax multi-class classification\n",
    "param['objective'] = 'multi:softmax'\n",
    "# scale weight of positive examples\n",
    "param['eta'] = 0.1\n",
    "param['max_depth'] = 3\n",
    "param['silent'] = 1\n",
    "param['nthread'] = 4\n",
    "param['num_class'] = 5"
   ]
  },
  {
   "cell_type": "code",
   "execution_count": 59,
   "metadata": {
    "collapsed": false
   },
   "outputs": [
    {
     "name": "stdout",
     "output_type": "stream",
     "text": [
      "[0]\ttrain-merror:0.151761\ttest-merror:0.462388\n",
      "[1]\ttrain-merror:0.142806\ttest-merror:0.461008\n",
      "[2]\ttrain-merror:0.144716\ttest-merror:0.487233\n",
      "[3]\ttrain-merror:0.134567\ttest-merror:0.482402\n",
      "[4]\ttrain-merror:0.128239\ttest-merror:0.482402\n",
      "[5]\ttrain-merror:0.127522\ttest-merror:0.478261\n",
      "[6]\ttrain-merror:0.118567\ttest-merror:0.465148\n",
      "[7]\ttrain-merror:0.118209\ttest-merror:0.465839\n",
      "[8]\ttrain-merror:0.115463\ttest-merror:0.468599\n",
      "[9]\ttrain-merror:0.116537\ttest-merror:0.47205\n"
     ]
    }
   ],
   "source": [
    "#to print train and test errors (need to clarify)\n",
    "watchlist = [ (xg_train,'train'), (xg_test, 'test') ]\n",
    "num_round = 10\n",
    "bst = xgboost.train(param, xg_train, num_round, watchlist );"
   ]
  },
  {
   "cell_type": "code",
   "execution_count": 69,
   "metadata": {
    "collapsed": false
   },
   "outputs": [
    {
     "name": "stdout",
     "output_type": "stream",
     "text": [
      "Test on Patient 1, Train samples=8375, Test samples=1288, Nclass test=5\n",
      "BAcc = 0.61\n",
      "Test on Patient 2, Train samples=8375, Test samples=991, Nclass test=5\n",
      "BAcc = 0.45\n",
      "Test on Patient 5, Train samples=8375, Test samples=1358, Nclass test=5\n",
      "BAcc = 0.50\n",
      "Test on Patient 6, Train samples=8375, Test samples=2246, Nclass test=5\n",
      "BAcc = 0.68\n",
      "Test on Patient 8, Train samples=8375, Test samples=856, Nclass test=3\n",
      "BAcc = 0.36\n",
      "Test on Patient 11, Train samples=8375, Test samples=1207, Nclass test=5\n",
      "BAcc = 0.54\n",
      "Test on Patient 14, Train samples=8375, Test samples=1778, Nclass test=5\n",
      "BAcc = 0.54\n",
      "Test on Patient 15, Train samples=8375, Test samples=3177, Nclass test=5\n",
      "BAcc = 0.48\n",
      "Test on Patient 16, Train samples=8375, Test samples=1126, Nclass test=5\n",
      "BAcc = 0.55\n",
      "Test on Patient 19, Train samples=8375, Test samples=1020, Nclass test=3\n",
      "BAcc = 0.59\n",
      "Test on Patient 24, Train samples=8375, Test samples=1449, Nclass test=5\n",
      "BAcc = 0.61\n",
      "\n",
      "median Bacc - Healthy model = 0.541352988806\n"
     ]
    }
   ],
   "source": [
    "#test on each patient (CBR)\n",
    "SOacc = np.zeros(len(PatientCodes))\n",
    "acc_class_subj = [] #accuracy per class for each subject\n",
    "cmat_H = {} #store confusion mats, precision and recall for all subjects  \n",
    "prec_H = {} \n",
    "recall_H ={}\n",
    "k = 0\n",
    "for s in PatientCodes:\n",
    "    test = CBRData[(CBRData['SubjID'] == s)]\n",
    "    Xtest = test.select_columns(feature_cols).to_numpy()\n",
    "    ytest = test.select_columns(label_cols).to_numpy()\n",
    "    ytest = ytest.reshape(-1) #to squeeze last dimension and obtain a 1D array\n",
    "    Nclasses = len(test['Label'].unique()) #How many activities we have for this patient in test data\n",
    "\n",
    "    print 'Test on Patient %s, Train samples=%s, Test samples=%s, Nclass test=%s'%(s,len(ytrain),len(ytest),Nclasses)\n",
    "    ypred = clf.predict(Xtest)\n",
    "\n",
    "    #balanced accuracy\n",
    "    SOacc[k],acc_class = Balanced_acc(ypred,ytest)\n",
    "    acc_class_subj.append(acc_class)      \n",
    "    #confusion matrix\n",
    "    cmat = confusion_matrix(ytest, ypred,labels=[0,1,2,3,4]) #labels=[\"Sit\",\"Stairs Dw\",\"Stairs Up\",\"Stand\",\"Walk\"])\n",
    "    prec,recall = prec_rec(cmat)\n",
    "    #assemble data in dicts\n",
    "    key = 'S'+np.array_str(s) #subj code\n",
    "    cmat_H.update({key:cmat})\n",
    "    prec_H.update({s:prec})\n",
    "    recall_H.update({s:recall})\n",
    "    \n",
    "    print 'BAcc = {:.2f}'.format(SOacc[k])\n",
    "    k = k+1\n",
    "\n",
    "print '\\nmedian Bacc - Healthy model = %s'%np.median(SOacc)"
   ]
  },
  {
   "cell_type": "code",
   "execution_count": 64,
   "metadata": {
    "collapsed": false
   },
   "outputs": [
    {
     "data": {
      "text/plain": [
       "array([[375,   0,   0, 249,   0],\n",
       "       [  0,   0,   0,  69,   8],\n",
       "       [  0,   0,  27,  65,   7],\n",
       "       [ 38,   0,   1, 551,   1],\n",
       "       [  0,   0,   9,  20, 358]])"
      ]
     },
     "execution_count": 64,
     "metadata": {},
     "output_type": "execute_result"
    }
   ],
   "source": [
    "cmat_H['S14']"
   ]
  },
  {
   "cell_type": "code",
   "execution_count": 65,
   "metadata": {
    "collapsed": false
   },
   "outputs": [
    {
     "data": {
      "image/png": "[encoded data removed]",
      "text/plain": [
       "<matplotlib.figure.Figure at 0x122959b10>"
      ]
     },
     "metadata": {},
     "output_type": "display_data"
    }
   ],
   "source": [
    "plt.figure()\n",
    "plot_confusion_matrix(cmat_H['S24'])"
   ]
  },
  {
   "cell_type": "markdown",
   "metadata": {},
   "source": [
    "### Plot Feature Importance"
   ]
  },
  {
   "cell_type": "code",
   "execution_count": 10,
   "metadata": {
    "collapsed": false
   },
   "outputs": [
    {
     "name": "stdout",
     "output_type": "stream",
     "text": [
      "[ 0.05965282  0.05632256  0.03892655  0.03548162  0.03504728  0.03395871\n",
      "  0.03242209  0.03231975  0.03182541  0.03157605  0.02905407  0.02864023\n",
      "  0.02200892  0.01873228  0.01794978  0.01684052  0.01658601  0.01495337\n",
      "  0.01423138  0.01373578  0.01371954  0.01170113  0.01129736  0.01123207\n",
      "  0.0107867   0.01013211  0.00997223  0.00971632  0.00963134  0.00952616\n",
      "  0.00943139  0.00931028  0.00901728  0.00823505  0.00797821  0.00792499\n",
      "  0.00768318  0.00690633  0.00657462  0.00625258  0.00615045  0.00584439\n",
      "  0.0058199   0.00579034  0.00554004  0.00548181  0.0051606   0.00515603\n",
      "  0.00515014  0.00497833  0.00451796  0.00451421  0.00442154  0.00437007\n",
      "  0.00434192  0.00424428  0.00409354  0.00404648  0.0038748   0.0038096\n",
      "  0.0036866   0.00368165  0.00367887  0.00351533  0.00346028  0.00341535\n",
      "  0.00337851  0.00337031  0.00329542  0.00328421  0.00325628  0.00311625\n",
      "  0.00300502  0.00297724  0.00296483  0.00279081  0.0027685   0.00268482\n",
      "  0.0025477   0.0025244   0.00251539  0.00223806  0.00214395  0.00212515\n",
      "  0.00205319  0.00201217  0.00195832  0.00185239  0.00182287  0.00180146\n",
      "  0.00179538  0.00176646  0.00176192  0.00171552  0.00170383  0.00168594\n",
      "  0.00167414  0.00164592  0.00158885  0.00156813  0.0015391   0.00151621\n",
      "  0.00145501  0.00143814  0.00143724  0.00143578  0.00142125  0.0013216\n",
      "  0.00132039  0.00131085  0.00128855  0.0012813   0.00123989  0.00121158\n",
      "  0.00119143  0.00116655  0.00116397  0.00116006  0.00114559  0.00114345\n",
      "  0.00112011  0.00096694  0.00091826  0.00090374  0.00087664  0.00086293\n",
      "  0.00060607  0.00057735  0.00057527  0.00053225  0.00044058]\n"
     ]
    }
   ],
   "source": [
    "importances = RF.feature_importances_\n",
    "indices = np.argsort(importances)[::-1]\n",
    "indices\n",
    "sorted_importances = importances[indices]\n",
    "print sorted_importances"
   ]
  },
  {
   "cell_type": "code",
   "execution_count": 11,
   "metadata": {
    "collapsed": true
   },
   "outputs": [],
   "source": [
    "pylab.rcParams['figure.figsize']=(7,4)"
   ]
  },
  {
   "cell_type": "code",
   "execution_count": 12,
   "metadata": {
    "collapsed": false
   },
   "outputs": [
    {
     "data": {
      "image/png": "[encoded data removed]",
      "text/plain": [
       "<matplotlib.figure.Figure at 0x102a2b2d0>"
      ]
     },
     "metadata": {},
     "output_type": "display_data"
    }
   ],
   "source": [
    "plt.figure()\n",
    "plt.title(\"Feature importance\")\n",
    "plt.bar(range(Xtrain.shape[1]),importances)\n",
    "#plt.xticks(range(Xtrain.shape[1]), indices)\n",
    "plt.show()"
   ]
  },
  {
   "cell_type": "code",
   "execution_count": 52,
   "metadata": {
    "collapsed": false
   },
   "outputs": [],
   "source": [
    "#save data\n",
    "#save the dict to matlab format \n",
    "scipy.io.savemat('cmatHealthy',cmat_H)\n",
    "np.savetxt('precisionHealthy.csv', prec_H_mean, delimiter=',') \n",
    "np.savetxt('recallHealthy.csv', rec_H_mean, delimiter=',') "
   ]
  },
  {
   "cell_type": "markdown",
   "metadata": {},
   "source": [
    "## Global model SCO (Leave one subject out)"
   ]
  },
  {
   "cell_type": "code",
   "execution_count": 117,
   "metadata": {
    "collapsed": false
   },
   "outputs": [],
   "source": [
    "# setup parameters for xgboost\n",
    "param = {}\n",
    "# use softmax multi-class classification\n",
    "param['objective'] = 'multi:softmax'\n",
    "# scale weight of positive examples\n",
    "param['eta'] = 1\n",
    "param['max_depth'] = 6\n",
    "param['silent'] = 1\n",
    "param['nthread'] = 4\n",
    "param['num_class'] = 5\n",
    "num_rounds = 10  #how many iterations (trees)\n",
    "#weights for xgboost\n",
    "weights = np.ones(len(ytrain))\n",
    "weights[ytrain==1] = 1\n",
    "weights[ytrain==2] = 1"
   ]
  },
  {
   "cell_type": "code",
   "execution_count": 118,
   "metadata": {
    "collapsed": false
   },
   "outputs": [
    {
     "name": "stdout",
     "output_type": "stream",
     "text": [
      "[0]\ttrain-merror:-0.001078\ttest-merror:0.832298\n",
      "[1]\ttrain-merror:-0.001078\ttest-merror:0.638975\n",
      "[2]\ttrain-merror:-0.032577\ttest-merror:0.52795\n",
      "[3]\ttrain-merror:-0.032158\ttest-merror:0.510093\n",
      "[4]\ttrain-merror:-0.031566\ttest-merror:0.48059\n",
      "[5]\ttrain-merror:0.053403\ttest-merror:0.682453\n",
      "[6]\ttrain-merror:1\ttest-merror:0.725932\n",
      "[7]\ttrain-merror:1\ttest-merror:0.725932\n",
      "[8]\ttrain-merror:1\ttest-merror:0.725932\n",
      "[9]\ttrain-merror:1\ttest-merror:0.725932\n",
      "Patient 1, Nclass train = 5, Nclass test = 5, Nsamples train = 16679.0, Global SCO - BAcc = 0.26\n",
      "[0]\ttrain-merror:0.112061\ttest-merror:0.25328\n",
      "[1]\ttrain-merror:0.083329\ttest-merror:0.248234\n",
      "[2]\ttrain-merror:0.063314\ttest-merror:0.258325\n",
      "[3]\ttrain-merror:0.047256\ttest-merror:0.277497\n",
      "[4]\ttrain-merror:0.034065\ttest-merror:0.269425\n",
      "[5]\ttrain-merror:0.024546\ttest-merror:0.27447\n",
      "[6]\ttrain-merror:0.01904\ttest-merror:0.266398\n",
      "[7]\ttrain-merror:0.013248\ttest-merror:0.26337\n",
      "[8]\ttrain-merror:0.008258\ttest-merror:0.266398\n",
      "[9]\ttrain-merror:0.006251\ttest-merror:0.266398\n",
      "Patient 2, Nclass train = 5, Nclass test = 5, Nsamples train = 16200.0, Global SCO - BAcc = 0.51\n",
      "[0]\ttrain-merror:0.112679\ttest-merror:0.273196\n",
      "[1]\ttrain-merror:0.07816\ttest-merror:0.28866\n",
      "[2]\ttrain-merror:0.062475\ttest-merror:0.316642\n",
      "[3]\ttrain-merror:0.049285\ttest-merror:0.317378\n",
      "[4]\ttrain-merror:0.03826\ttest-merror:0.324006\n",
      "[5]\ttrain-merror:0.028416\ttest-merror:0.336524\n",
      "[6]\ttrain-merror:0.02041\ttest-merror:0.33137\n",
      "[7]\ttrain-merror:0.012009\ttest-merror:0.325479\n",
      "[8]\ttrain-merror:0.006956\ttest-merror:0.327688\n",
      "[9]\ttrain-merror:0.0042\ttest-merror:0.325479\n",
      "Patient 5, Nclass train = 5, Nclass test = 5, Nsamples train = 15238.0, Global SCO - BAcc = 0.51\n",
      "[0]\ttrain-merror:-0.063448\ttest-merror:0.362422\n",
      "[1]\ttrain-merror:-0.063448\ttest-merror:0.306322\n",
      "[2]\ttrain-merror:-0.063448\ttest-merror:0.317008\n",
      "[3]\ttrain-merror:-0.063448\ttest-merror:0.322796\n",
      "[4]\ttrain-merror:-0.063448\ttest-merror:0.303206\n",
      "[5]\ttrain-merror:-0.063448\ttest-merror:0.284951\n",
      "[6]\ttrain-merror:-0.063448\ttest-merror:0.283615\n",
      "[7]\ttrain-merror:-0.063448\ttest-merror:0.280499\n",
      "[8]\ttrain-merror:-0.063448\ttest-merror:0.279163\n",
      "[9]\ttrain-merror:-0.063448\ttest-merror:0.267587\n",
      "Patient 6, Nclass train = 5, Nclass test = 5, Nsamples train = 16538.0, Global SCO - BAcc = 0.53\n",
      "[0]\ttrain-merror:0.122345\ttest-merror:0.53271\n",
      "[1]\ttrain-merror:0.083613\ttest-merror:0.550234\n",
      "[2]\ttrain-merror:0.065483\ttest-merror:0.546729\n",
      "[3]\ttrain-merror:0.050079\ttest-merror:0.521028\n",
      "[4]\ttrain-merror:0.041395\ttest-merror:0.508178\n",
      "[5]\ttrain-merror:0.031062\ttest-merror:0.507009\n",
      "[6]\ttrain-merror:0.024025\ttest-merror:0.518692\n",
      "[7]\ttrain-merror:0.017559\ttest-merror:0.516355\n",
      "[8]\ttrain-merror:0.01103\ttest-merror:0.537383\n",
      "[9]\ttrain-merror:0.006466\ttest-merror:0.531542\n",
      "Patient 8, Nclass train = 5, Nclass test = 3, Nsamples train = 15432.0, Global SCO - BAcc = 0.49\n",
      "[0]\ttrain-merror:1.31967\ttest-merror:0.891466\n",
      "[1]\ttrain-merror:1.31967\ttest-merror:0.749793\n",
      "[2]\ttrain-merror:1.31967\ttest-merror:0.749793\n",
      "[3]\ttrain-merror:1.31967\ttest-merror:0.71831\n",
      "[4]\ttrain-merror:1.31967\ttest-merror:0.71831\n",
      "[5]\ttrain-merror:1.31946\ttest-merror:0.717481\n",
      "[6]\ttrain-merror:1.31946\ttest-merror:0.593206\n",
      "[7]\ttrain-merror:1.31946\ttest-merror:0.553438\n",
      "[8]\ttrain-merror:1.29777\ttest-merror:0.565037\n",
      "[9]\ttrain-merror:1.29777\ttest-merror:0.591549\n",
      "Patient 11, Nclass train = 5, Nclass test = 5, Nsamples train = 15978.0, Global SCO - BAcc = 0.36\n",
      "[0]\ttrain-merror:0\ttest-merror:0.649044\n",
      "[1]\ttrain-merror:1\ttest-merror:0.649044\n",
      "[2]\ttrain-merror:1\ttest-merror:0.649044\n",
      "[3]\ttrain-merror:1\ttest-merror:0.649044\n",
      "[4]\ttrain-merror:1\ttest-merror:0.649044\n",
      "[5]\ttrain-merror:1\ttest-merror:0.649044\n",
      "[6]\ttrain-merror:1\ttest-merror:0.649044\n",
      "[7]\ttrain-merror:1\ttest-merror:0.649044\n",
      "[8]\ttrain-merror:1\ttest-merror:0.649044\n",
      "[9]\ttrain-merror:1\ttest-merror:0.649044\n",
      "Patient 14, Nclass train = 5, Nclass test = 5, Nsamples train = 16008.0, Global SCO - BAcc = 0.20\n",
      "[0]\ttrain-merror:0.124623\ttest-merror:0.166509\n",
      "[1]\ttrain-merror:0.091154\ttest-merror:0.169342\n",
      "[2]\ttrain-merror:0.073172\ttest-merror:0.174378\n",
      "[3]\ttrain-merror:0.054797\ttest-merror:0.178155\n",
      "[4]\ttrain-merror:0.042066\ttest-merror:0.178785\n",
      "[5]\ttrain-merror:0.029663\ttest-merror:0.181618\n",
      "[6]\ttrain-merror:0.01995\ttest-merror:0.190116\n",
      "[7]\ttrain-merror:0.01365\ttest-merror:0.196412\n",
      "[8]\ttrain-merror:0.008466\ttest-merror:0.188543\n",
      "[9]\ttrain-merror:0.004528\ttest-merror:0.195153\n",
      "Patient 15, Nclass train = 5, Nclass test = 5, Nsamples train = 15751.0, Global SCO - BAcc = 0.54\n",
      "[0]\ttrain-merror:-0\ttest-merror:0.257549\n",
      "[1]\ttrain-merror:-0\ttest-merror:0.257549\n",
      "[2]\ttrain-merror:1\ttest-merror:0.254885\n",
      "[3]\ttrain-merror:1\ttest-merror:0.255773\n",
      "[4]\ttrain-merror:1\ttest-merror:0.250444\n",
      "[5]\ttrain-merror:1\ttest-merror:0.245115\n",
      "[6]\ttrain-merror:1\ttest-merror:0.250444\n",
      "[7]\ttrain-merror:1\ttest-merror:0.246004\n",
      "[8]\ttrain-merror:1\ttest-merror:0.254885\n",
      "[9]\ttrain-merror:1\ttest-merror:0.259325\n",
      "Patient 16, Nclass train = 5, Nclass test = 5, Nsamples train = 15430.0, Global SCO - BAcc = 0.48\n",
      "[0]\ttrain-merror:nan\ttest-merror:0.681373\n",
      "[1]\ttrain-merror:nan\ttest-merror:0.681373\n",
      "[2]\ttrain-merror:nan\ttest-merror:0.681373\n",
      "[3]\ttrain-merror:nan\ttest-merror:0.681373\n",
      "[4]\ttrain-merror:nan\ttest-merror:0.681373\n",
      "[5]\ttrain-merror:nan\ttest-merror:0.681373\n",
      "[6]\ttrain-merror:nan\ttest-merror:0.681373\n",
      "[7]\ttrain-merror:nan\ttest-merror:0.681373\n",
      "[8]\ttrain-merror:nan\ttest-merror:0.681373\n",
      "[9]\ttrain-merror:nan\ttest-merror:0.681373\n",
      "Patient 19, Nclass train = 5, Nclass test = 3, Nsamples train = 16359.0, Global SCO - BAcc = 0.33\n",
      "[0]\ttrain-merror:-0\ttest-merror:0.800552\n",
      "[1]\ttrain-merror:-0\ttest-merror:0.759834\n",
      "[2]\ttrain-merror:-0\ttest-merror:0.757074\n",
      "[3]\ttrain-merror:-0\ttest-merror:0.762595\n",
      "[4]\ttrain-merror:-0\ttest-merror:0.770876\n",
      "[5]\ttrain-merror:-0\ttest-merror:0.750863\n",
      "[6]\ttrain-merror:-0\ttest-merror:0.663906\n",
      "[7]\ttrain-merror:0\ttest-merror:0.73568\n",
      "[8]\ttrain-merror:0\ttest-merror:0.730849\n",
      "[9]\ttrain-merror:0\ttest-merror:0.661146\n",
      "Patient 24, Nclass train = 5, Nclass test = 5, Nsamples train = 16527.0, Global SCO - BAcc = 0.20\n",
      "Median BAcc - Impairment Specific (SCO) = 0.479218073406\n",
      "Avg train size = 16012.7272727\n"
     ]
    }
   ],
   "source": [
    "ISpec_acc = np.zeros(len(PatientCodes)) \n",
    "Nsamples = np.zeros(len(PatientCodes))\n",
    "acc_class_subj = [] #accuracy per class for each subject\n",
    "importances = [] #the feature importance for each subject as a list of lists\n",
    "cmat_ISpec = {} #store confusion mats, precision and recall for all subjects  \n",
    "prec_ISpec = {} \n",
    "recall_ISpec ={}\n",
    "\n",
    "k = 0\n",
    "for s in PatientCodes:\n",
    "    \n",
    "    train = SCOData[(SCOData['SubjID'] != s)]\n",
    "    test = CBRData[(CBRData['SubjID'] == s)] \n",
    "    Nclasstrain = len(train['Label'].unique())\n",
    "    Nclasses = len(test['Label'].unique()) #How many activities we have for this patient in test data\n",
    "\n",
    "    Xtrain = train.select_columns(feature_cols).to_numpy()\n",
    "    ytrain = train.select_columns(label_cols).to_numpy()\n",
    "    ytrain = ytrain.reshape(-1)\n",
    "    Xtest = test.select_columns(feature_cols).to_numpy()\n",
    "    ytest = test.select_columns(label_cols).to_numpy()\n",
    "    ytest = ytest.reshape(-1)\n",
    "    Nsamples[k] = ytrain.shape[0]\n",
    "\n",
    "    #RF Classifier\n",
    "#     RF = RandomForestClassifier(n_estimators=100)\n",
    "#     RF = RF.fit(Xtrain,ytrain)\n",
    "#     ypred = RF.predict(Xtest)\n",
    "\n",
    "    #XGBoost Classifier\n",
    "#     clf = xgboost.XGBClassifier()\n",
    "#     clf.max_depth=8\n",
    "#     clf.fit(Xtrain,ytrain)\n",
    "#     ypred = clf.predict(Xtest)\n",
    "\n",
    "    #weighted XGboost\n",
    "    xg_train = xgboost.DMatrix(Xtrain, label=ytrain, weight=weights)\n",
    "    xg_test = xgboost.DMatrix(Xtest, label=ytest)\n",
    "    watchlist = [ (xg_train,'train'), (xg_test, 'test') ] #store error on train and test for each learner\n",
    "\n",
    "    bst = xgboost.train(param,xg_train,num_rounds,watchlist)\n",
    "    ypred = bst.predict(xg_test)\n",
    "\n",
    "    #acc = sum(ypred == ytest)/len(ytest)\n",
    "    #balanced accuracy\n",
    "    ISpec_acc[k],acc_class = Balanced_acc(ypred,ytest)\n",
    "    acc_class_subj.append(acc_class)\n",
    "    \n",
    "    #confusion matrix\n",
    "    cmat = confusion_matrix(ytest, ypred,labels=[0,1,2,3,4]) #labels=[\"Sit\",\"Stairs Dw\",\"Stairs Up\",\"Stand\",\"Walk\"])\n",
    "    prec,recall = prec_rec(cmat)\n",
    "    #assemble data in dicts\n",
    "    key = 'S'+np.array_str(s) #subj code\n",
    "    cmat_ISpec.update({key:cmat})\n",
    "    prec_ISpec.update({s:prec})\n",
    "    recall_ISpec.update({s:recall})\n",
    "    \n",
    "    #store feature importance\n",
    "    importances.append(RF.feature_importances_)\n",
    "\n",
    "    print 'Patient {}, Nclass train = {}, Nclass test = {}, Nsamples train = {}, Global SCO - BAcc = {:.2f}'.format(s,Nclasstrain,Nclasses,Nsamples[k],ISpec_acc[k])\n",
    "    k = k+1\n",
    "\n",
    "print 'Median BAcc - Impairment Specific (SCO) = %s'%np.median(ISpec_acc)\n",
    "print 'Avg train size = {}'.format(np.mean(Nsamples))\n",
    "\n",
    "#mean precision and recall per class\n",
    "prec_ISpec_mean = np.nanmean(np.asarray(prec_ISpec.values()),axis=0)\n",
    "rec_ISpec_mean = np.nanmean(np.asarray(recall_ISpec.values()),axis=0)"
   ]
  },
  {
   "cell_type": "markdown",
   "metadata": {},
   "source": [
    " ### Look at the feature importance per subject"
   ]
  },
  {
   "cell_type": "code",
   "execution_count": 104,
   "metadata": {
    "collapsed": false
   },
   "outputs": [
    {
     "name": "stdout",
     "output_type": "stream",
     "text": [
      "Populating the interactive namespace from numpy and matplotlib\n"
     ]
    },
    {
     "name": "stderr",
     "output_type": "stream",
     "text": [
      "WARNING: pylab import has clobbered these variables: ['indices', 'test']\n",
      "`%matplotlib` prevents importing * from pylab and numpy\n"
     ]
    }
   ],
   "source": [
    "%pylab inline\n",
    "pylab.rcParams['figure.figsize']=(10,10)"
   ]
  },
  {
   "cell_type": "code",
   "execution_count": 105,
   "metadata": {
    "collapsed": false
   },
   "outputs": [
    {
     "data": {
      "image/png": "[encoded data removed]",
      "text/plain": [
       "<matplotlib.figure.Figure at 0x384b5748>"
      ]
     },
     "metadata": {},
     "output_type": "display_data"
    }
   ],
   "source": [
    "#f, axarr = plt.subplots(5,2)\n",
    "for i in range(10):\n",
    "    ax = plt.subplot(5,2,i+1)\n",
    "    plt.bar(range(Xtrain.shape[1]),importances[i])\n",
    "plt.show()"
   ]
  },
  {
   "cell_type": "code",
   "execution_count": 110,
   "metadata": {
    "collapsed": false
   },
   "outputs": [],
   "source": [
    "importances_all = np.asarray(importances)\n",
    "importances_all.shape\n",
    "mu_importances = np.mean(importances_all,axis=0)"
   ]
  },
  {
   "cell_type": "code",
   "execution_count": 115,
   "metadata": {
    "collapsed": false
   },
   "outputs": [
    {
     "data": {
      "image/png": "[encoded data removed]",
      "text/plain": [
       "<matplotlib.figure.Figure at 0x34e8f6d8>"
      ]
     },
     "metadata": {},
     "output_type": "display_data"
    }
   ],
   "source": [
    "pylab.rcParams['figure.figsize']=(7,4)\n",
    "plt.figure()\n",
    "plt.title(\"Feature importance\")\n",
    "plt.bar(range(Xtrain.shape[1]),mu_importances)\n",
    "#plt.xticks(range(Xtrain.shape[1]), indices)\n",
    "plt.show()"
   ]
  },
  {
   "cell_type": "markdown",
   "metadata": {},
   "source": [
    "### Select features whose importance sums to 90% of the total importance"
   ]
  },
  {
   "cell_type": "code",
   "execution_count": 144,
   "metadata": {
    "collapsed": false
   },
   "outputs": [
    {
     "name": "stdout",
     "output_type": "stream",
     "text": [
      "Feature ranking:\n",
      "1. feature 0 (0.051061), cumsum=0.051061\n",
      "2. feature 49 (0.043212), cumsum=0.094273\n",
      "3. feature 60 (0.039530), cumsum=0.133803\n",
      "4. feature 43 (0.038951), cumsum=0.172753\n",
      "5. feature 30 (0.034470), cumsum=0.207223\n",
      "6. feature 64 (0.031857), cumsum=0.239080\n",
      "7. feature 83 (0.031208), cumsum=0.270288\n",
      "8. feature 65 (0.030865), cumsum=0.301153\n",
      "9. feature 59 (0.022128), cumsum=0.323281\n",
      "10. feature 35 (0.019325), cumsum=0.342606\n",
      "11. feature 107 (0.017671), cumsum=0.360277\n",
      "12. feature 55 (0.016563), cumsum=0.376840\n",
      "13. feature 2 (0.016032), cumsum=0.392872\n",
      "14. feature 42 (0.015592), cumsum=0.408464\n",
      "15. feature 54 (0.015570), cumsum=0.424034\n",
      "16. feature 32 (0.015551), cumsum=0.439585\n",
      "17. feature 14 (0.015302), cumsum=0.454887\n",
      "18. feature 48 (0.015137), cumsum=0.470023\n",
      "19. feature 56 (0.013759), cumsum=0.483782\n",
      "20. feature 66 (0.013756), cumsum=0.497539\n",
      "21. feature 90 (0.013281), cumsum=0.510820\n",
      "22. feature 7 (0.012944), cumsum=0.523763\n",
      "23. feature 39 (0.012541), cumsum=0.536304\n",
      "24. feature 11 (0.012418), cumsum=0.548722\n",
      "25. feature 52 (0.012053), cumsum=0.560776\n",
      "26. feature 94 (0.011230), cumsum=0.572006\n",
      "27. feature 112 (0.011111), cumsum=0.583117\n",
      "28. feature 46 (0.010757), cumsum=0.593875\n",
      "29. feature 108 (0.010482), cumsum=0.604357\n",
      "30. feature 51 (0.010184), cumsum=0.614541\n",
      "31. feature 44 (0.009710), cumsum=0.624250\n",
      "32. feature 84 (0.009656), cumsum=0.633907\n",
      "33. feature 45 (0.009520), cumsum=0.643426\n",
      "34. feature 28 (0.009462), cumsum=0.652889\n",
      "35. feature 50 (0.009320), cumsum=0.662209\n",
      "36. feature 12 (0.008029), cumsum=0.670238\n",
      "37. feature 111 (0.007963), cumsum=0.678200\n",
      "38. feature 122 (0.007718), cumsum=0.685919\n",
      "39. feature 69 (0.007610), cumsum=0.693528\n",
      "40. feature 57 (0.007226), cumsum=0.700754\n",
      "41. feature 88 (0.007160), cumsum=0.707914\n",
      "42. feature 67 (0.007053), cumsum=0.714967\n",
      "43. feature 37 (0.006940), cumsum=0.721907\n",
      "44. feature 47 (0.006899), cumsum=0.728806\n",
      "45. feature 33 (0.006865), cumsum=0.735671\n",
      "46. feature 95 (0.006557), cumsum=0.742228\n",
      "47. feature 53 (0.006316), cumsum=0.748544\n",
      "48. feature 98 (0.006214), cumsum=0.754758\n",
      "49. feature 63 (0.006196), cumsum=0.760954\n",
      "50. feature 87 (0.005664), cumsum=0.766618\n",
      "51. feature 22 (0.005558), cumsum=0.772177\n",
      "52. feature 89 (0.005486), cumsum=0.777663\n",
      "53. feature 4 (0.005220), cumsum=0.782883\n",
      "54. feature 16 (0.005157), cumsum=0.788040\n",
      "55. feature 36 (0.004985), cumsum=0.793025\n",
      "56. feature 25 (0.004954), cumsum=0.797978\n",
      "57. feature 58 (0.004873), cumsum=0.802851\n",
      "58. feature 31 (0.004859), cumsum=0.807710\n",
      "59. feature 1 (0.004802), cumsum=0.812512\n",
      "60. feature 23 (0.004635), cumsum=0.817147\n",
      "61. feature 3 (0.004466), cumsum=0.821613\n",
      "62. feature 15 (0.004370), cumsum=0.825983\n",
      "63. feature 29 (0.004267), cumsum=0.830250\n",
      "64. feature 27 (0.004228), cumsum=0.834478\n",
      "65. feature 8 (0.003852), cumsum=0.838330\n",
      "66. feature 9 (0.003843), cumsum=0.842172\n",
      "67. feature 21 (0.003750), cumsum=0.845922\n",
      "68. feature 92 (0.003594), cumsum=0.849517\n",
      "69. feature 91 (0.003508), cumsum=0.853024\n",
      "70. feature 113 (0.003392), cumsum=0.856416\n",
      "71. feature 73 (0.003387), cumsum=0.859803\n",
      "72. feature 26 (0.003379), cumsum=0.863182\n",
      "73. feature 119 (0.003298), cumsum=0.866480\n",
      "74. feature 115 (0.003237), cumsum=0.869717\n",
      "75. feature 41 (0.003208), cumsum=0.872925\n",
      "76. feature 100 (0.003048), cumsum=0.875973\n",
      "77. feature 117 (0.003001), cumsum=0.878974\n",
      "78. feature 68 (0.002975), cumsum=0.881950\n",
      "79. feature 118 (0.002950), cumsum=0.884899\n",
      "80. feature 74 (0.002892), cumsum=0.887792\n",
      "81. feature 82 (0.002869), cumsum=0.890661\n",
      "82. feature 13 (0.002869), cumsum=0.893530\n",
      "83. feature 114 (0.002810), cumsum=0.896340\n",
      "84. feature 40 (0.002808), cumsum=0.899147\n",
      "85. feature 70 (0.002799), cumsum=0.901947\n",
      "86. feature 120 (0.002778), cumsum=0.904725\n",
      "87. feature 97 (0.002665), cumsum=0.907390\n",
      "88. feature 121 (0.002593), cumsum=0.909983\n",
      "89. feature 102 (0.002558), cumsum=0.912541\n",
      "90. feature 109 (0.002557), cumsum=0.915098\n",
      "91. feature 96 (0.002515), cumsum=0.917613\n",
      "92. feature 110 (0.002515), cumsum=0.920128\n",
      "93. feature 72 (0.002514), cumsum=0.922642\n",
      "94. feature 123 (0.002470), cumsum=0.925112\n",
      "95. feature 61 (0.002456), cumsum=0.927568\n",
      "96. feature 79 (0.002442), cumsum=0.930010\n",
      "97. feature 62 (0.002437), cumsum=0.932447\n",
      "98. feature 125 (0.002429), cumsum=0.934876\n",
      "99. feature 93 (0.002416), cumsum=0.937292\n",
      "100. feature 103 (0.002391), cumsum=0.939684\n",
      "101. feature 116 (0.002376), cumsum=0.942059\n",
      "102. feature 104 (0.002344), cumsum=0.944404\n",
      "103. feature 129 (0.002316), cumsum=0.946720\n",
      "104. feature 6 (0.002314), cumsum=0.949034\n",
      "105. feature 106 (0.002296), cumsum=0.951330\n",
      "106. feature 127 (0.002284), cumsum=0.953614\n",
      "107. feature 101 (0.002284), cumsum=0.955898\n",
      "108. feature 77 (0.002240), cumsum=0.958137\n",
      "109. feature 81 (0.002233), cumsum=0.960370\n",
      "110. feature 78 (0.002210), cumsum=0.962580\n",
      "111. feature 80 (0.002181), cumsum=0.964761\n",
      "112. feature 71 (0.002162), cumsum=0.966923\n",
      "113. feature 76 (0.002160), cumsum=0.969082\n",
      "114. feature 99 (0.002129), cumsum=0.971211\n",
      "115. feature 124 (0.002062), cumsum=0.973273\n",
      "116. feature 75 (0.002053), cumsum=0.975327\n",
      "117. feature 5 (0.002038), cumsum=0.977365\n",
      "118. feature 126 (0.002037), cumsum=0.979401\n",
      "119. feature 85 (0.002034), cumsum=0.981436\n",
      "120. feature 128 (0.002015), cumsum=0.983450\n",
      "121. feature 105 (0.002009), cumsum=0.985459\n",
      "122. feature 130 (0.002001), cumsum=0.987460\n",
      "123. feature 34 (0.001950), cumsum=0.989410\n",
      "124. feature 10 (0.001891), cumsum=0.991301\n",
      "125. feature 38 (0.001860), cumsum=0.993160\n",
      "126. feature 86 (0.001663), cumsum=0.994824\n",
      "127. feature 24 (0.001532), cumsum=0.996356\n",
      "128. feature 19 (0.001042), cumsum=0.997398\n",
      "129. feature 18 (0.000907), cumsum=0.998305\n",
      "130. feature 17 (0.000880), cumsum=0.999185\n",
      "131. feature 20 (0.000815), cumsum=1.000000\n"
     ]
    }
   ],
   "source": [
    "indices = np.argsort(mu_importances)[::-1]\n",
    "print(\"Feature ranking:\")\n",
    "for f in range(Xtrain.shape[1]):\n",
    "    print '%d. feature %d (%f), cumsum=%f'%(f + 1, indices[f], mu_importances[indices[f]],np.sum(mu_importances[indices[0:f+1]]))"
   ]
  },
  {
   "cell_type": "code",
   "execution_count": 125,
   "metadata": {
    "collapsed": false
   },
   "outputs": [
    {
     "name": "stdout",
     "output_type": "stream",
     "text": [
      "(array([  0,   2,   4,   7,  11,  12,  14,  16,  22,  28,  30,  32,  33,\n",
      "        35,  37,  39,  42,  43,  44,  45,  46,  47,  48,  49,  50,  51,\n",
      "        52,  53,  54,  55,  56,  57,  59,  60,  63,  64,  65,  66,  67,\n",
      "        69,  83,  84,  87,  88,  89,  90,  94,  95,  98, 107, 108, 111,\n",
      "       112, 122], dtype=int64),)\n"
     ]
    }
   ],
   "source": [
    "indices = np.where(mu_importances > 0.005)\n",
    "print indices"
   ]
  },
  {
   "cell_type": "markdown",
   "metadata": {},
   "source": []
  },
  {
   "cell_type": "code",
   "execution_count": 120,
   "metadata": {
    "collapsed": false
   },
   "outputs": [
    {
     "data": {
      "text/plain": [
       "(54L,)"
      ]
     },
     "execution_count": 120,
     "metadata": {},
     "output_type": "execute_result"
    }
   ],
   "source": [
    "\n",
    "mu_importances[np.where(mu_importances > 0.005)].shape"
   ]
  },
  {
   "cell_type": "code",
   "execution_count": 80,
   "metadata": {
    "collapsed": false
   },
   "outputs": [],
   "source": [
    "#save the dict to matlab format \n",
    "scipy.io.savemat('cmatISpec',cmat_ISpec)\n",
    "np.savetxt('precisionISpec.csv', prec_ISpec_mean, delimiter=',') \n",
    "np.savetxt('recallISpec.csv', rec_ISpec_mean, delimiter=',') "
   ]
  },
  {
   "cell_type": "markdown",
   "metadata": {},
   "source": [
    "## Global model CBR (Leave one subject out)"
   ]
  },
  {
   "cell_type": "code",
   "execution_count": 81,
   "metadata": {
    "collapsed": false
   },
   "outputs": [
    {
     "name": "stdout",
     "output_type": "stream",
     "text": [
      "Patient 1, Nclass train = 5, Nclass test = 5, Global CBR model - BAcc = 0.63\n",
      "Patient 2, Nclass train = 5, Nclass test = 5, Global CBR model - BAcc = 0.48\n",
      "Patient 5, Nclass train = 5, Nclass test = 5, Global CBR model - BAcc = 0.52\n",
      "Patient 6, Nclass train = 5, Nclass test = 5, Global CBR model - BAcc = 0.59\n",
      "Patient 8, Nclass train = 5, Nclass test = 3, Global CBR model - BAcc = 0.62\n",
      "Patient 11, Nclass train = 5, Nclass test = 5, Global CBR model - BAcc = 0.57\n",
      "Patient 14, Nclass train = 5, Nclass test = 5, Global CBR model - BAcc = 0.60\n",
      "Patient 15, Nclass train = 5, Nclass test = 5, Global CBR model - BAcc = 0.67\n",
      "Patient 16, Nclass train = 5, Nclass test = 5, Global CBR model - BAcc = 0.59\n",
      "Patient 19, Nclass train = 5, Nclass test = 3, Global CBR model - BAcc = 0.90\n",
      "Patient 24, Nclass train = 5, Nclass test = 5, Global CBR model - BAcc = 0.66\n",
      "Median BAcc - Global CBR model = 0.602154346755\n"
     ]
    }
   ],
   "source": [
    "ISpecCBR_acc = np.zeros(len(PatientCodes)) \n",
    "k = 0\n",
    "for s in PatientCodes:\n",
    "    \n",
    "    train = CBRData[(CBRData['SubjID'] != s)]\n",
    "    test = CBRData[(CBRData['SubjID'] == s)] #test on 3 CBR sessions\n",
    "    Nclasstrain = len(train['Label'].unique())\n",
    "    Nclasses = len(test['Label'].unique()) #How many activities we have for this patient in test data\n",
    "\n",
    "    Xtrain = train.select_columns(feature_cols).to_numpy()\n",
    "    ytrain = train.select_columns(label_cols).to_numpy()\n",
    "    ytrain = ytrain.reshape(-1)\n",
    "    Xtest = test.select_columns(feature_cols).to_numpy()\n",
    "    ytest = test.select_columns(label_cols).to_numpy()\n",
    "    ytest = ytest.reshape(-1)\n",
    "    \n",
    "    RF = RandomForestClassifier(n_estimators=100,random_state=0)\n",
    "    RF = RF.fit(Xtrain,ytrain)\n",
    "    ypred = RF.predict(Xtest)\n",
    "    #acc = sum(ypred == ytest)/len(ytest)\n",
    "    #balanced accuracy\n",
    "    ISpecCBR_acc[k],acc_class = Balanced_acc(ypred,ytest)\n",
    "    acc_class_subj.append(acc_class)   \n",
    "    print 'Patient {}, Nclass train = {}, Nclass test = {}, Global CBR model - BAcc = {:.2f}'.format(s,Nclasstrain,Nclasses,ISpecCBR_acc[k])\n",
    "    k = k+1\n",
    "\n",
    "print 'Median BAcc - Global CBR model = %s'%np.median(ISpecCBR_acc)"
   ]
  },
  {
   "cell_type": "markdown",
   "metadata": {},
   "source": [
    "## Personal SCO (Patient Specific model) "
   ]
  },
  {
   "cell_type": "code",
   "execution_count": 82,
   "metadata": {
    "collapsed": false
   },
   "outputs": [
    {
     "name": "stdout",
     "output_type": "stream",
     "text": [
      "Patient 1, Nclass train = 5, Nclass test = 5,  Nsamples train = 935.0, Personal SCO - BAcc = 0.68\n",
      "Patient 2, Nclass train = 5, Nclass test = 5,  Nsamples train = 1414.0, Personal SCO - BAcc = 0.55\n",
      "Patient 5, Nclass train = 5, Nclass test = 5,  Nsamples train = 2376.0, Personal SCO - BAcc = 0.67\n",
      "Patient 6, Nclass train = 5, Nclass test = 5,  Nsamples train = 1076.0, Personal SCO - BAcc = 0.65\n",
      "Patient 8, Nclass train = 5, Nclass test = 3,  Nsamples train = 2182.0, Personal SCO - BAcc = 0.74\n",
      "Patient 11, Nclass train = 5, Nclass test = 5,  Nsamples train = 1636.0, Personal SCO - BAcc = 0.47\n",
      "Patient 14, Nclass train = 5, Nclass test = 5,  Nsamples train = 1606.0, Personal SCO - BAcc = 0.48\n",
      "Patient 15, Nclass train = 5, Nclass test = 5,  Nsamples train = 1863.0, Personal SCO - BAcc = 0.41\n",
      "Patient 16, Nclass train = 5, Nclass test = 5,  Nsamples train = 2184.0, Personal SCO - BAcc = 0.51\n",
      "Patient 19, Nclass train = 5, Nclass test = 3,  Nsamples train = 1255.0, Personal SCO - BAcc = 0.72\n",
      "Patient 24, Nclass train = 5, Nclass test = 5,  Nsamples train = 1087.0, Personal SCO - BAcc = 0.74\n",
      "Median BAcc - Patient Specific (SCO) = 0.653458098257\n",
      "Avg train size = 1601.27272727\n"
     ]
    }
   ],
   "source": [
    "PSpec_acc = np.zeros(len(PatientCodes)) \n",
    "Nsamples = np.zeros(len(PatientCodes))\n",
    "acc_class_subj = [] #accuracy per class for each subject\n",
    "\n",
    "cmat_PSpec = {} #store confusion mats, precision and recall for all subjects  \n",
    "prec_PSpec = {} \n",
    "recall_PSpec ={}\n",
    "\n",
    "k = 0\n",
    "for s in PatientCodes:\n",
    "    \n",
    "    train = SCOData[(SCOData['SubjID'] == s)]\n",
    "    test = CBRData[(CBRData['SubjID'] == s)]\n",
    "    Nclasstrain = len(train['Label'].unique())\n",
    "    Nclasses = len(test['Label'].unique()) #How many activities we have for this patient in test data\n",
    "\n",
    "    Xtrain = train.select_columns(feature_cols).to_numpy()\n",
    "    ytrain = train.select_columns(label_cols).to_numpy()\n",
    "    ytrain = ytrain.reshape(-1)\n",
    "    Xtest = test.select_columns(feature_cols).to_numpy()\n",
    "    ytest = test.select_columns(label_cols).to_numpy()\n",
    "    ytest = ytest.reshape(-1)\n",
    "    Nsamples[k] = ytrain.shape[0]\n",
    "\n",
    "    RF = RandomForestClassifier(n_estimators=50)\n",
    "    RF = RF.fit(Xtrain,ytrain)\n",
    "    ypred = RF.predict(Xtest)\n",
    "    #acc = sum(ypred == ytest)/len(ytest)\n",
    "    #balanced accuracy\n",
    "    PSpec_acc[k],acc_class = Balanced_acc(ypred,ytest)\n",
    "    \n",
    "    #confusion matrix\n",
    "    cmat = confusion_matrix(ytest, ypred,labels=[0,1,2,3,4]) #labels=[\"Sit\",\"Stairs Dw\",\"Stairs Up\",\"Stand\",\"Walk\"])\n",
    "    prec,recall = prec_rec(cmat)\n",
    "    #assemble data in dicts\n",
    "    key = 'S'+np.array_str(s) #subj code\n",
    "    cmat_PSpec.update({key:cmat})\n",
    "    prec_PSpec.update({s:prec})\n",
    "    recall_PSpec.update({s:recall})\n",
    "    \n",
    "    print 'Patient {}, Nclass train = {}, Nclass test = {},  Nsamples train = {}, Personal SCO - BAcc = {:.2f}'.format(s,Nclasstrain,Nclasses,Nsamples[k],PSpec_acc[k])\n",
    "    k = k+1\n",
    "\n",
    "print 'Median BAcc - Patient Specific (SCO) = %s'%np.median(PSpec_acc)\n",
    "print 'Avg train size = {}'.format(np.mean(Nsamples))\n",
    "\n",
    "#mean precision and recall per class\n",
    "prec_PSpec_mean = np.nanmean(np.asarray(prec_PSpec.values()),axis=0)\n",
    "rec_PSpec_mean = np.nanmean(np.asarray(recall_PSpec.values()),axis=0)"
   ]
  },
  {
   "cell_type": "code",
   "execution_count": 83,
   "metadata": {
    "collapsed": true
   },
   "outputs": [],
   "source": [
    "#save the dict to matlab format \n",
    "scipy.io.savemat('cmatPSpec',cmat_PSpec)\n",
    "np.savetxt('precisionPSpec.csv', prec_PSpec_mean, delimiter=',') \n",
    "np.savetxt('recallPSpec.csv', rec_PSpec_mean, delimiter=',') "
   ]
  },
  {
   "cell_type": "markdown",
   "metadata": {},
   "source": [
    "## Personal CBR (Patient and Device specific model) \n",
    "Leave One Session Out "
   ]
  },
  {
   "cell_type": "code",
   "execution_count": 111,
   "metadata": {
    "collapsed": false
   },
   "outputs": [
    {
     "name": "stdout",
     "output_type": "stream",
     "text": [
      "Nclass train = 5, Nclass test =5, BAcc = 0.73\n",
      "Nclass train = 5, Nclass test =5, BAcc = 0.86\n",
      "Nclass train = 5, Nclass test =5, BAcc = 0.78\n",
      "Patient 1, Device Specific model - BAcc = 0.79\n",
      "Nclass train = 5, Nclass test =5, BAcc = 0.74\n",
      "Nclass train = 5, Nclass test =5, BAcc = 0.53\n",
      "Nclass train = 5, Nclass test =5, BAcc = 0.76\n",
      "Patient 2, Device Specific model - BAcc = 0.68\n",
      "Nclass train = 5, Nclass test =5, BAcc = 0.72\n",
      "Nclass train = 5, Nclass test =5, BAcc = 0.56\n",
      "Nclass train = 5, Nclass test =5, BAcc = 0.60\n",
      "Patient 5, Device Specific model - BAcc = 0.63\n",
      "Nclass train = 5, Nclass test =5, BAcc = 0.58\n",
      "Nclass train = 5, Nclass test =5, BAcc = 0.74\n",
      "Nclass train = 5, Nclass test =5, BAcc = 0.85\n",
      "Patient 6, Device Specific model - BAcc = 0.73\n",
      "Nclass train = 3, Nclass test =3, BAcc = 0.93\n",
      "Nclass train = 3, Nclass test =3, BAcc = 0.74\n",
      "Nclass train = 3, Nclass test =3, BAcc = 0.89\n",
      "Patient 8, Device Specific model - BAcc = 0.85\n",
      "Nclass train = 5, Nclass test =5, BAcc = 0.41\n",
      "Nclass train = 5, Nclass test =5, BAcc = 0.57\n",
      "Nclass train = 5, Nclass test =5, BAcc = 0.51\n",
      "Patient 11, Device Specific model - BAcc = 0.50\n",
      "Nclass train = 5, Nclass test =5, BAcc = 0.70\n",
      "Nclass train = 5, Nclass test =5, BAcc = 0.67\n",
      "Nclass train = 5, Nclass test =5, BAcc = 0.88\n",
      "Patient 14, Device Specific model - BAcc = 0.75\n",
      "Nclass train = 5, Nclass test =5, BAcc = 0.68\n",
      "Nclass train = 5, Nclass test =3, BAcc = 0.97\n",
      "Nclass train = 5, Nclass test =5, BAcc = 0.60\n",
      "Patient 15, Device Specific model - BAcc = 0.75\n",
      "Nclass train = 5, Nclass test =5, BAcc = 0.59\n",
      "Nclass train = 5, Nclass test =5, BAcc = 0.62\n",
      "Nclass train = 5, Nclass test =5, BAcc = 0.75\n",
      "Patient 16, Device Specific model - BAcc = 0.66\n",
      "Nclass train = 3, Nclass test =3, BAcc = 0.55\n",
      "Nclass train = 3, Nclass test =3, BAcc = 0.98\n",
      "Nclass train = 3, Nclass test =3, BAcc = 0.85\n",
      "Patient 19, Device Specific model - BAcc = 0.80\n",
      "Nclass train = 5, Nclass test =5, BAcc = 0.87\n",
      "Nclass train = 5, Nclass test =5, BAcc = 0.84\n",
      "Nclass train = 5, Nclass test =5, BAcc = 0.61\n",
      "Patient 24, Device Specific model - BAcc = 0.77\n",
      "Median BAcc - Device Specific (CBR) = 0.750058328901\n",
      "Avg train size = 999.757575758\n"
     ]
    }
   ],
   "source": [
    "DSpec_acc = np.zeros(len(PatientCodes)) \n",
    "Nsamples = np.zeros(len(PatientCodes))\n",
    "Nsessions = 3\n",
    "\n",
    "cmat_DSpec = {} #store confusion mats, precision and recall for all subjects  \n",
    "prec_DSpec = {} \n",
    "recall_DSpec ={}\n",
    "k = 0\n",
    "\n",
    "for s in PatientCodes:\n",
    "    cmat = np.zeros((5,5)) #temporary arrays to store cmat, prec and recall in each session\n",
    "    prec = np.zeros(5)\n",
    "    recall = np.zeros(5)\n",
    "\n",
    "    data =  CBRData[(CBRData['SubjID'] == s)] \n",
    "    Bacc = np.zeros(Nsessions)\n",
    "    for session in range(1,Nsessions+1):\n",
    "                  \n",
    "        test = data[data['Session'] == session]\n",
    "        train = data[data['Session'] != session]\n",
    "        Nclasstrain = len(train['Label'].unique())\n",
    "        Nclasses = len(test['Label'].unique()) #How many activities we have for this patient in test data\n",
    "\n",
    "        Xtrain = train.select_columns(feature_cols).to_numpy()\n",
    "        ytrain = train.select_columns(label_cols).to_numpy()\n",
    "        ytrain = ytrain.reshape(-1)\n",
    "        Xtest = test.select_columns(feature_cols).to_numpy()\n",
    "        ytest = test.select_columns(label_cols).to_numpy()\n",
    "        ytest = ytest.reshape(-1)\n",
    "        Nsamples[k] = Nsamples[k]+ytrain.shape[0]\n",
    "\n",
    "        RF = RandomForestClassifier(n_estimators=50)\n",
    "        RF = RF.fit(Xtrain,ytrain)\n",
    "        ypred = RF.predict(Xtest)\n",
    "        #acc = sum(ypred == ytest)/len(ytest)\n",
    "        #balanced accuracy on each session\n",
    "        Bacc[session-1],acc_class = Balanced_acc(ypred,ytest)\n",
    "        print 'Nclass train = {}, Nclass test ={}, BAcc = {:.2f}'.format(Nclasstrain,Nclasses,Bacc[session-1])\n",
    "        \n",
    "        #confusion matrix, prec and recall in each session\n",
    "        cmat_tmp = confusion_matrix(ytest,ypred,labels=[0,1,2,3,4]) #labels=[\"Sit\",\"Stairs Dw\",\"Stairs Up\",\"Stand\",\"Walk\"])\n",
    "        cmat += cmat_tmp\n",
    "        pr,re = prec_rec(cmat_tmp)\n",
    "        prec += pr\n",
    "        recall += re\n",
    "\n",
    "    DSpec_acc[k] = Bacc.mean() #the CV BAcc on 3 sessions \n",
    "    Nsamples[k] = Nsamples[k]/len(range(1,Nsessions+1)) #mean number of samples across sessions    \n",
    "    #mean confusion matrix (instances), precision and recall on 3 sessions\n",
    "    avgcmat = cmat/Nsessions\n",
    "    prec = prec/Nsessions\n",
    "    recall = recall/Nsessions\n",
    "\n",
    "    #assemble data in dicts\n",
    "    key = 'S'+np.array_str(s) #subj code\n",
    "    cmat_DSpec.update({key:avgcmat})     #the confusion matrix with instances from the 4 sessions\n",
    "    prec_DSpec.update({s:prec})\n",
    "    recall_DSpec.update({s:recall})\n",
    "   \n",
    "    print 'Patient {}, Device Specific model - BAcc = {:.2f}'.format(s,DSpec_acc[k])\n",
    "    k = k+1\n",
    "\n",
    "print 'Median BAcc - Device Specific (CBR) = %s'%(np.median(DSpec_acc))\n",
    "print 'Avg train size = {}'.format(np.mean(Nsamples))\n",
    "\n",
    "#mean precision and recall per class\n",
    "prec_DSpec_mean = np.nanmean(np.asarray(prec_DSpec.values()),axis=0)\n",
    "rec_DSpec_mean = np.nanmean(np.asarray(recall_DSpec.values()),axis=0)"
   ]
  },
  {
   "cell_type": "code",
   "execution_count": 112,
   "metadata": {
    "collapsed": false
   },
   "outputs": [],
   "source": [
    "#save the dict to matlab format \n",
    "scipy.io.savemat('cmatDSpec',cmat_DSpec)\n",
    "np.savetxt('precisionDSpec.csv', prec_DSpec_mean, delimiter=',') \n",
    "np.savetxt('recallDSpec.csv', rec_DSpec_mean, delimiter=',') "
   ]
  },
  {
   "cell_type": "markdown",
   "metadata": {},
   "source": [
    "## Assemble results for all models"
   ]
  },
  {
   "cell_type": "code",
   "execution_count": 118,
   "metadata": {
    "collapsed": false
   },
   "outputs": [
    {
     "name": "stdout",
     "output_type": "stream",
     "text": [
      "[[ 0.48535194  0.53692539  0.67664414  0.79241262]\n",
      " [ 0.3515961   0.51197473  0.54601922  0.67683603]\n",
      " [ 0.44056993  0.50913549  0.66776726  0.62602252]\n",
      " [ 0.59288692  0.54727797  0.6534581   0.72588645]\n",
      " [ 0.32384092  0.46127719  0.73957038  0.85315801]\n",
      " [ 0.54824434  0.52203818  0.47378895  0.49686033]\n",
      " [ 0.56026729  0.58453206  0.48197107  0.75041308]\n",
      " [ 0.48445162  0.57389076  0.41010355  0.75005833]\n",
      " [ 0.53628769  0.51675169  0.5079865   0.65581682]\n",
      " [ 0.52755907  0.86254285  0.71983043  0.79622739]\n",
      " [ 0.6397085   0.58875641  0.74381602  0.7744993 ]]\n"
     ]
    }
   ],
   "source": [
    "acc_all=np.vstack((SOacc,ISpec_acc,PSpec_acc,DSpec_acc)).T\n",
    "print acc_all"
   ]
  },
  {
   "cell_type": "code",
   "execution_count": 122,
   "metadata": {
    "collapsed": false
   },
   "outputs": [
    {
     "data": {
      "image/png": "[encoded data removed]",
      "text/plain": [
       "<matplotlib.figure.Figure at 0x16fb87b8>"
      ]
     },
     "metadata": {},
     "output_type": "display_data"
    }
   ],
   "source": [
    "plt.boxplot(acc_all)\n",
    "plt.show()"
   ]
  },
  {
   "cell_type": "code",
   "execution_count": 120,
   "metadata": {
    "collapsed": false
   },
   "outputs": [
    {
     "data": {
      "text/plain": [
       "0.52755907491201603"
      ]
     },
     "execution_count": 120,
     "metadata": {},
     "output_type": "execute_result"
    }
   ],
   "source": [
    "np.median(SOacc)"
   ]
  },
  {
   "cell_type": "code",
   "execution_count": 115,
   "metadata": {
    "collapsed": false
   },
   "outputs": [
    {
     "data": {
      "text/plain": [
       "0.53692539188273758"
      ]
     },
     "execution_count": 115,
     "metadata": {},
     "output_type": "execute_result"
    }
   ],
   "source": [
    "np.median(ISpec_acc)"
   ]
  },
  {
   "cell_type": "code",
   "execution_count": 116,
   "metadata": {
    "collapsed": false
   },
   "outputs": [
    {
     "data": {
      "text/plain": [
       "0.65345809825715107"
      ]
     },
     "execution_count": 116,
     "metadata": {},
     "output_type": "execute_result"
    }
   ],
   "source": [
    "np.median(PSpec_acc)"
   ]
  },
  {
   "cell_type": "code",
   "execution_count": 117,
   "metadata": {
    "collapsed": false
   },
   "outputs": [
    {
     "data": {
      "text/plain": [
       "0.75005832890119217"
      ]
     },
     "execution_count": 117,
     "metadata": {},
     "output_type": "execute_result"
    }
   ],
   "source": [
    "np.median(DSpec_acc)"
   ]
  },
  {
   "cell_type": "code",
   "execution_count": 123,
   "metadata": {
    "collapsed": true
   },
   "outputs": [],
   "source": [
    "np.savetxt('results.csv', acc_all, delimiter=',') "
   ]
  },
  {
   "cell_type": "markdown",
   "metadata": {},
   "source": [
    "## Global model simulations\n",
    "Train on increasing number of healthy subjects (from 1 to 11) and test on 1 CBR patient. Run Nruns times by randomzing subjects in each run"
   ]
  },
  {
   "cell_type": "markdown",
   "metadata": {},
   "source": [
    "* Healthy model"
   ]
  },
  {
   "cell_type": "code",
   "execution_count": 33,
   "metadata": {
    "collapsed": false
   },
   "outputs": [
    {
     "name": "stdout",
     "output_type": "stream",
     "text": [
      "train on 1 subjects\n",
      "run=100/1000\n",
      "run=200/1000\n",
      "run=300/1000\n",
      "run=400/1000\n",
      "run=500/1000\n",
      "run=600/1000\n",
      "run=700/1000\n",
      "run=800/1000\n",
      "run=900/1000\n",
      "run=1000/1000\n",
      "train on 2 subjects\n",
      "run=100/1000\n",
      "run=200/1000\n",
      "run=300/1000\n",
      "run=400/1000\n",
      "run=500/1000\n",
      "run=600/1000\n",
      "run=700/1000\n",
      "run=800/1000\n",
      "run=900/1000\n",
      "run=1000/1000\n",
      "train on 3 subjects\n",
      "run=100/1000\n",
      "run=200/1000\n",
      "run=300/1000\n",
      "run=400/1000\n",
      "run=500/1000\n",
      "run=600/1000\n",
      "run=700/1000\n",
      "run=800/1000\n",
      "run=900/1000\n",
      "run=1000/1000\n",
      "train on 4 subjects\n",
      "run=100/1000\n",
      "run=200/1000\n",
      "run=300/1000\n",
      "run=400/1000\n",
      "run=500/1000\n",
      "run=600/1000\n",
      "run=700/1000\n",
      "run=800/1000\n",
      "run=900/1000\n",
      "run=1000/1000\n",
      "train on 5 subjects\n",
      "run=100/1000\n",
      "run=200/1000\n",
      "run=300/1000\n",
      "run=400/1000\n",
      "run=500/1000\n",
      "run=600/1000\n",
      "run=700/1000\n",
      "run=800/1000\n",
      "run=900/1000\n",
      "run=1000/1000\n",
      "train on 6 subjects\n",
      "run=100/1000\n",
      "run=200/1000\n",
      "run=300/1000\n",
      "run=400/1000\n",
      "run=500/1000\n",
      "run=600/1000\n",
      "run=700/1000\n",
      "run=800/1000\n",
      "run=900/1000\n",
      "run=1000/1000\n",
      "train on 7 subjects\n",
      "run=100/1000\n",
      "run=200/1000\n",
      "run=300/1000\n",
      "run=400/1000\n",
      "run=500/1000\n",
      "run=600/1000\n",
      "run=700/1000\n",
      "run=800/1000\n",
      "run=900/1000\n",
      "run=1000/1000\n",
      "train on 8 subjects\n",
      "run=100/1000\n",
      "run=200/1000\n",
      "run=300/1000\n",
      "run=400/1000\n",
      "run=500/1000\n",
      "run=600/1000\n",
      "run=700/1000\n",
      "run=800/1000\n",
      "run=900/1000\n",
      "run=1000/1000\n",
      "train on 9 subjects\n",
      "run=100/1000\n",
      "run=200/1000\n",
      "run=300/1000\n",
      "run=400/1000\n",
      "run=500/1000\n",
      "run=600/1000\n",
      "run=700/1000\n",
      "run=800/1000\n",
      "run=900/1000\n",
      "run=1000/1000\n",
      "train on 10 subjects\n",
      "run=100/1000\n",
      "run=200/1000\n",
      "run=300/1000\n",
      "run=400/1000\n",
      "run=500/1000\n",
      "run=600/1000\n",
      "run=700/1000\n",
      "run=800/1000\n",
      "run=900/1000\n",
      "run=1000/1000\n",
      "train on 11 subjects\n",
      "run=100/1000\n",
      "run=200/1000\n",
      "run=300/1000\n",
      "run=400/1000\n",
      "run=500/1000\n",
      "run=600/1000\n",
      "run=700/1000\n",
      "run=800/1000\n",
      "run=900/1000\n",
      "run=1000/1000\n",
      "Elapsed time=59726.32 secs\n"
     ]
    }
   ],
   "source": [
    "col_names = HealthyData.column_names()\n",
    "label_cols = col_names[-1:] #the : is used to return a list with one element \n",
    "feature_cols = col_names[2:-1]\n",
    "\n",
    "Nruns = 1000 #total # of runs\n",
    "Ntrain = len(HealthyData['SubjID'].unique()) #the total number of healthy to train on\n",
    "Bacc_all = np.zeros((Nruns,Ntrain)) #contains the Bacc for each run \n",
    "\n",
    "t0 = time.time()\n",
    "#loop through num subj to train on\n",
    "for n in range(Ntrain):\n",
    "    print 'train on {} subjects'.format(n+1)\n",
    "    for run in range(1,Nruns+1):\n",
    "        if run%100 == 0:\n",
    "            print 'run={}/{}'.format(run,Nruns)       \n",
    "        #pick n subj to train \n",
    "        np.random.shuffle(HealthyCodes)\n",
    "        subjtrain = HealthyCodes[0:n+1]\n",
    "        train = HealthyData.filter_by(subjtrain,'SubjID')\n",
    "        test = np.random.shuffle(PatientCodes)\n",
    "        subjtest = PatientCodes[0] #pick one subj to test\n",
    "        test = CBRData.filter_by(subjtest,'SubjID')\n",
    "        #print 'Run=%s, Train on subj %s, test on patient %s'%(run,train['SubjID'].unique(),test['SubjID'].unique())\n",
    "\n",
    "        Xtrain = train.select_columns(feature_cols).to_numpy()\n",
    "        ytrain = train.select_columns(label_cols).to_numpy()\n",
    "        ytrain = ytrain.reshape(-1) #to squeeze last dimension and obtain a 1D array\n",
    "        Xtest = test.select_columns(feature_cols).to_numpy()\n",
    "        ytest = test.select_columns(label_cols).to_numpy()\n",
    "        ytest = ytest.reshape(-1)\n",
    "\n",
    "        RF = RandomForestClassifier(n_estimators=50)\n",
    "        RF = RF.fit(Xtrain,ytrain)\n",
    "        ypred = RF.predict(Xtest)\n",
    "\n",
    "        #acc = sum(ypred == ytest)/len(ytest)\n",
    "        #balanced accuracy for current run\n",
    "        Bacc_all[run-1,n],acc_class = Balanced_acc(ypred,ytest)\n",
    "        #print 'Bacc = {:.2f}'.format(Bacc_all[run,n])\n",
    "\n",
    "t1 = time.time()\n",
    "print 'Elapsed time=%.2f secs'%(t1-t0)"
   ]
  },
  {
   "cell_type": "code",
   "execution_count": 34,
   "metadata": {
    "collapsed": true
   },
   "outputs": [],
   "source": [
    "np.savetxt('results_GlobalH.csv', Bacc_all, delimiter=',') "
   ]
  },
  {
   "cell_type": "markdown",
   "metadata": {},
   "source": [
    "* Patients Model"
   ]
  },
  {
   "cell_type": "code",
   "execution_count": 31,
   "metadata": {
    "collapsed": false,
    "scrolled": true
   },
   "outputs": [
    {
     "name": "stdout",
     "output_type": "stream",
     "text": [
      "train on 1 subjects\n",
      "run=10/100\n",
      "run=20/100\n",
      "run=30/100\n",
      "run=40/100\n",
      "run=50/100\n",
      "run=60/100\n",
      "run=70/100\n",
      "run=80/100\n",
      "run=90/100\n",
      "run=100/100\n",
      "train on 2 subjects\n",
      "run=10/100\n",
      "run=20/100\n",
      "run=30/100\n",
      "run=40/100\n",
      "run=50/100\n",
      "run=60/100\n",
      "run=70/100\n",
      "run=80/100\n",
      "run=90/100\n",
      "run=100/100\n",
      "train on 3 subjects\n",
      "run=10/100\n",
      "run=20/100\n",
      "run=30/100\n",
      "run=40/100\n",
      "run=50/100\n",
      "run=60/100\n",
      "run=70/100\n",
      "run=80/100\n",
      "run=90/100\n",
      "run=100/100\n",
      "train on 4 subjects\n",
      "run=10/100\n",
      "run=20/100\n",
      "run=30/100\n",
      "run=40/100\n",
      "run=50/100\n",
      "run=60/100\n",
      "run=70/100\n",
      "run=80/100\n",
      "run=90/100\n",
      "run=100/100\n",
      "train on 5 subjects\n",
      "run=10/100\n",
      "run=20/100\n",
      "run=30/100\n",
      "run=40/100\n",
      "run=50/100\n",
      "run=60/100\n",
      "run=70/100\n",
      "run=80/100\n",
      "run=90/100\n",
      "run=100/100\n",
      "train on 6 subjects\n",
      "run=10/100\n",
      "run=20/100\n",
      "run=30/100\n",
      "run=40/100\n",
      "run=50/100\n",
      "run=60/100\n",
      "run=70/100\n",
      "run=80/100\n",
      "run=90/100\n",
      "run=100/100\n",
      "train on 7 subjects\n",
      "run=10/100\n",
      "run=20/100\n",
      "run=30/100\n",
      "run=40/100\n",
      "run=50/100\n",
      "run=60/100\n",
      "run=70/100\n",
      "run=80/100\n",
      "run=90/100\n",
      "run=100/100\n",
      "train on 8 subjects\n",
      "run=10/100\n",
      "run=20/100\n",
      "run=30/100\n",
      "run=40/100\n",
      "run=50/100\n",
      "run=60/100\n",
      "run=70/100\n",
      "run=80/100\n",
      "run=90/100\n",
      "run=100/100\n",
      "train on 9 subjects\n",
      "run=10/100\n",
      "run=20/100\n",
      "run=30/100\n",
      "run=40/100\n",
      "run=50/100\n",
      "run=60/100\n",
      "run=70/100\n",
      "run=80/100\n",
      "run=90/100\n",
      "run=100/100\n",
      "Elapsed time=8274.13 secs\n"
     ]
    }
   ],
   "source": [
    "col_names = SCOData.column_names()\n",
    "label_cols = col_names[-1:] #the : is used to return a list with one element \n",
    "feature_cols = col_names[2:-1]\n",
    "\n",
    "Nruns = 100 #total # of runs\n",
    "Ntrain = len(SCOData['SubjID'].unique()) #the total number of patients (SCO)\n",
    "Bacc_all = np.zeros((Nruns,Ntrain-1)) #contains the Bacc for each run \n",
    "\n",
    "t0 = time.time()\n",
    "#loop through num subj to train on\n",
    "for n in range(Ntrain-1): #-1 as one patient is out for test\n",
    "    print 'train on {} subjects'.format(n+1)\n",
    "    for run in range(1,Nruns+1):\n",
    "        if run%10 == 0:\n",
    "            print 'run={}/{}'.format(run,Nruns)       \n",
    "        #pick n subj to train (use last for test)\n",
    "        np.random.shuffle(PatientCodes)\n",
    "        subjtrain = PatientCodes[0:n+1]\n",
    "        train = SCOData.filter_by(subjtrain,'SubjID')\n",
    "        subjtest = PatientCodes[n+1] #pick one patient to test (the last, not in train)\n",
    "        test = CBRData.filter_by(subjtest,'SubjID')\n",
    "        #print 'Run=%s, Train on subj %s, test on patient %s'%(run,train['SubjID'].unique(),test['SubjID'].unique())\n",
    "\n",
    "        Xtrain = train.select_columns(feature_cols).to_numpy()\n",
    "        ytrain = train.select_columns(label_cols).to_numpy()\n",
    "        ytrain = ytrain.reshape(-1) #to squeeze last dimension and obtain a 1D array\n",
    "        Xtest = test.select_columns(feature_cols).to_numpy()\n",
    "        ytest = test.select_columns(label_cols).to_numpy()\n",
    "        ytest = ytest.reshape(-1)\n",
    "\n",
    "        RF = RandomForestClassifier(n_estimators=100)\n",
    "        RF = RF.fit(Xtrain,ytrain)\n",
    "        ypred = RF.predict(Xtest)\n",
    "\n",
    "        #acc = sum(ypred == ytest)/len(ytest)\n",
    "        #balanced accuracy for current run\n",
    "        Bacc_all[run-1,n],acc_class = Balanced_acc(ypred,ytest)\n",
    "        #print 'Bacc = {:.2f}'.format(Bacc_all[run-1,n])\n",
    "t1 = time.time()\n",
    "print 'Elapsed time=%.2f secs'%(t1-t0)"
   ]
  },
  {
   "cell_type": "code",
   "execution_count": 32,
   "metadata": {
    "collapsed": true
   },
   "outputs": [],
   "source": [
    "np.savetxt('results_GlobalP.csv', Bacc_all, delimiter=',') "
   ]
  },
  {
   "cell_type": "code",
   "execution_count": null,
   "metadata": {
    "collapsed": true
   },
   "outputs": [],
   "source": []
  }
 ],
 "metadata": {
  "kernelspec": {
   "display_name": "Python 2",
   "language": "python",
   "name": "python2"
  },
  "language_info": {
   "codemirror_mode": {
    "name": "ipython",
    "version": 2
   },
   "file_extension": ".py",
   "mimetype": "text/x-python",
   "name": "python",
   "nbconvert_exporter": "python",
   "pygments_lexer": "ipython2",
   "version": "2.7.11"
  }
 },
 "nbformat": 4,
 "nbformat_minor": 0
}
